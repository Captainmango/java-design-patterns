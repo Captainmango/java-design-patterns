{
 "cells": [
  {
   "cell_type": "markdown",
   "id": "ba4fad7e",
   "metadata": {
    "toc": true
   },
   "source": [
    "<h1>Table of Contents<span class=\"tocSkip\"></span></h1>\n",
    "<div class=\"toc\"><ul class=\"toc-item\"><li><span><a href=\"#Principles-of-software-design\" data-toc-modified-id=\"Principles-of-software-design-1\"><span class=\"toc-item-num\">1&nbsp;&nbsp;</span>Principles of software design</a></span><ul class=\"toc-item\"><li><span><a href=\"#Modularisation\" data-toc-modified-id=\"Modularisation-1.1\"><span class=\"toc-item-num\">1.1&nbsp;&nbsp;</span>Modularisation</a></span></li><li><span><a href=\"#Programming-to-an-Interface\" data-toc-modified-id=\"Programming-to-an-Interface-1.2\"><span class=\"toc-item-num\">1.2&nbsp;&nbsp;</span>Programming to an Interface</a></span></li><li><span><a href=\"#Composition-over-Inheritance\" data-toc-modified-id=\"Composition-over-Inheritance-1.3\"><span class=\"toc-item-num\">1.3&nbsp;&nbsp;</span>Composition over Inheritance</a></span></li><li><span><a href=\"#Delegation-principles\" data-toc-modified-id=\"Delegation-principles-1.4\"><span class=\"toc-item-num\">1.4&nbsp;&nbsp;</span>Delegation principles</a></span></li><li><span><a href=\"#Single-Responsibility-Principle\" data-toc-modified-id=\"Single-Responsibility-Principle-1.5\"><span class=\"toc-item-num\">1.5&nbsp;&nbsp;</span>Single Responsibility Principle</a></span></li><li><span><a href=\"#Open-closed-principle\" data-toc-modified-id=\"Open-closed-principle-1.6\"><span class=\"toc-item-num\">1.6&nbsp;&nbsp;</span>Open closed principle</a></span></li><li><span><a href=\"#Liskov-Substitution-Principle\" data-toc-modified-id=\"Liskov-Substitution-Principle-1.7\"><span class=\"toc-item-num\">1.7&nbsp;&nbsp;</span>Liskov Substitution Principle</a></span></li><li><span><a href=\"#Interface-Segregation-Principle\" data-toc-modified-id=\"Interface-Segregation-Principle-1.8\"><span class=\"toc-item-num\">1.8&nbsp;&nbsp;</span>Interface Segregation Principle</a></span></li><li><span><a href=\"#Dependency-Inversion-Principle\" data-toc-modified-id=\"Dependency-Inversion-Principle-1.9\"><span class=\"toc-item-num\">1.9&nbsp;&nbsp;</span>Dependency Inversion Principle</a></span></li><li><span><a href=\"#Dependency-Injection\" data-toc-modified-id=\"Dependency-Injection-1.10\"><span class=\"toc-item-num\">1.10&nbsp;&nbsp;</span>Dependency Injection</a></span></li></ul></li></ul></div>"
   ]
  },
  {
   "cell_type": "markdown",
   "id": "70cf9c31",
   "metadata": {},
   "source": [
    "## Principles of software design"
   ]
  },
  {
   "cell_type": "markdown",
   "id": "0dacf548",
   "metadata": {},
   "source": [
    "Software design makes everything easier with dev. Making sure you plan things out beforehand is mission critical.\n",
    "\n",
    "Good software engineers are made great by good design. Build for flux, nothing is rigid and unchangeable. Flexibility is the name of the game."
   ]
  },
  {
   "cell_type": "markdown",
   "id": "ca3eee32",
   "metadata": {},
   "source": [
    "### Modularisation"
   ]
  },
  {
   "cell_type": "markdown",
   "id": "895c012f",
   "metadata": {},
   "source": [
    "Breaking things into chunks. This is not having separate functions for everything!! This is methodically and systematically ring-fencing code so that it can do a job. This will produce code that has high cohesion (it works well with its mates) and low coupling (it doesn't have dependents)\n",
    "\n",
    "Modules should be like black boxes. Interfaces are the king of producing this effect, as are abstract classes."
   ]
  },
  {
   "cell_type": "markdown",
   "id": "e75de3e8",
   "metadata": {},
   "source": [
    "### Programming to an Interface"
   ]
  },
  {
   "cell_type": "markdown",
   "id": "2f9a7cbd",
   "metadata": {},
   "source": [
    "Interfaces are essentially contracts for classes. They need to be implemented by a class. Abstract classes can also function in the same way. When using abstract classes, we need to use the super(); function to pull the accessible properties into the child class.\n",
    "\n",
    "Using polymoprhism here brings a lot of power (overriding methods and declaring function definitions) as it can allow for the 'pattern' of the class to be established before it is created.\n",
    "\n",
    "When using interfaces, keep implementation details out of it. That is, do not include members. Method definitions and or stubs are OK. A constant could also be fine. But nothing that restricts how the interface could be used should be implemented."
   ]
  },
  {
   "cell_type": "code",
   "execution_count": 18,
   "id": "df70906d",
   "metadata": {},
   "outputs": [],
   "source": [
    "interface DisplayModule{\n",
    "    public void display();\n",
    "}"
   ]
  },
  {
   "cell_type": "code",
   "execution_count": 19,
   "id": "1130ea0e",
   "metadata": {},
   "outputs": [],
   "source": [
    "class Monitor implements DisplayModule {\n",
    "    public void display() {\n",
    "        System.out.println(\"display\");\n",
    "    }\n",
    "}"
   ]
  },
  {
   "cell_type": "code",
   "execution_count": 20,
   "id": "be7c2a4a",
   "metadata": {},
   "outputs": [],
   "source": [
    "class Projector implements DisplayModule{\n",
    "    public void display() {\n",
    "        System.out.println(\"Projector\");\n",
    "    }\n",
    "}"
   ]
  },
  {
   "cell_type": "code",
   "execution_count": 21,
   "id": "2300199b",
   "metadata": {},
   "outputs": [],
   "source": [
    "public class Computer {\n",
    "    private DisplayModule displayModule;\n",
    "\n",
    "    public void setDisplayModule(DisplayModule displayModule)\n",
    "    {\n",
    "        this.displayModule = displayModule;\n",
    "    }\n",
    "\n",
    "    public void display()\n",
    "    {\n",
    "        displayModule.display();\n",
    "    }\n",
    "}"
   ]
  },
  {
   "cell_type": "code",
   "execution_count": 22,
   "id": "a8782aa0",
   "metadata": {},
   "outputs": [
    {
     "name": "stdout",
     "output_type": "stream",
     "text": [
      "Projector\n"
     ]
    }
   ],
   "source": [
    "Computer computer = new Computer();\n",
    "\n",
    "DisplayModule displayModule = new Projector();\n",
    "computer.setDisplayModule(displayModule);\n",
    "computer.display();"
   ]
  },
  {
   "cell_type": "markdown",
   "id": "50514f5c",
   "metadata": {},
   "source": [
    "The above snippet presents an API through the interface and the classes that utilise it. There are no concrete classes yet (classes that have been initialised as objects), so the implementation of the classes doesn't matter. In the main method (the last cell), the objects are created and the setter allows a display module to be bound to the Computer type.\n",
    "\n",
    "Because we have the parameter type of the method set to the interface, we know exactly what behaviour the instance will have, while also completely decoupling the type of object being bound. This means we can change the implementation detail of the Display and Projector and not break anything. If we change the display function though, the complier will throw an error."
   ]
  },
  {
   "cell_type": "markdown",
   "id": "87f76c7e",
   "metadata": {},
   "source": [
    "### Composition over Inheritance"
   ]
  },
  {
   "cell_type": "markdown",
   "id": "fb9f36ab",
   "metadata": {},
   "source": [
    "Composition can be defined as a HAS-A relationship between classes in an OO design. This means an object can own, or be owned by, another object as a class member. It is implied that the child cannot exist without the parent i.e. rooms in a house. This doesn't have to be the case though. When working in this way, systems are composed of pieces of behaviour or qualities. If a composition is made up of a collection of things acting together that are independent of each other i.e. cars in a race, then this is better referred to as an **aggregation**."
   ]
  },
  {
   "cell_type": "markdown",
   "id": "3fba5318",
   "metadata": {},
   "source": [
    "Favouring composition over inheritance means that each class becomes encapsulated. Meaning, its behaviour is owned by itself and nothing else. It also forces it to adopt a single responsibility, therefore making it a module. This gives us absolute control over the class hierarchy. Composition also reduces coupling, helping code be less brittle. It also makes writing tests easier."
   ]
  },
  {
   "cell_type": "markdown",
   "id": "e88759db",
   "metadata": {},
   "source": [
    "Inheritance by its nature is very inflexible. It forces a specific relationship between 2 things rather than assembling components together. "
   ]
  },
  {
   "cell_type": "markdown",
   "id": "e7f11308",
   "metadata": {},
   "source": [
    "### Delegation principles"
   ]
  },
  {
   "cell_type": "markdown",
   "id": "7dfe0001",
   "metadata": {},
   "source": [
    "Delegation is as it sounds. When delegating in software, we call a class that understands what needs to happen. It can be rationalised as a relationship between objects where one forwards calls or information to another. For example, a library has a referencing system and a librarian has to use this to access counts of books and their titles by ISBN. The referencing system does the work, but the librarian *needs* to forward the call to the system to find the book. In this case, the referencing system is the delegate."
   ]
  },
  {
   "cell_type": "markdown",
   "id": "1bc986e7",
   "metadata": {},
   "source": [
    "It's a highly extreme example of composition. It is creating a relationship in a system that allows for high code reuse and low coupling."
   ]
  },
  {
   "cell_type": "markdown",
   "id": "adc46a89",
   "metadata": {},
   "source": [
    "It allows for very strong runtime flexibility, but it can cause things to become complicated as there is some over head in getting this done."
   ]
  },
  {
   "cell_type": "code",
   "execution_count": 4,
   "id": "d8b584a8",
   "metadata": {},
   "outputs": [],
   "source": [
    "// Delegate class\n",
    "public class RealPrinter {\n",
    "    \n",
    "    public void print() {\n",
    "        System.out.println(\"This is the delegate class working\");\n",
    "    }\n",
    "}"
   ]
  },
  {
   "cell_type": "code",
   "execution_count": 5,
   "id": "05545818",
   "metadata": {},
   "outputs": [],
   "source": [
    "// Delegator class\n",
    "public class PrinterMessenger {\n",
    "    // creating the delegate\n",
    "    RealPrinter realPrinter = new RealPrinter();\n",
    "    \n",
    "    // Using the delegate\n",
    "    void print() {\n",
    "        this.realPrinter.print();\n",
    "    }\n",
    "}"
   ]
  },
  {
   "cell_type": "code",
   "execution_count": 6,
   "id": "80abd1d2",
   "metadata": {},
   "outputs": [
    {
     "name": "stdout",
     "output_type": "stream",
     "text": [
      "This is the delegate class working\n"
     ]
    }
   ],
   "source": [
    "PrinterMessenger printer = new PrinterMessenger();\n",
    "printer.print();"
   ]
  },
  {
   "cell_type": "markdown",
   "id": "45539e41",
   "metadata": {},
   "source": [
    "Note that the work here is being done by the RealPrinter class. The PrinterMessenger class exists to use the RealPrinter to do the actual work of the print call. thinking back to the library example, the PrinterMessenger is delegating the work of printing to the delegate class: RealPrinter. In that example, the delegate is the reference system and the delegator is the librarian"
   ]
  },
  {
   "cell_type": "markdown",
   "id": "ed6d51c4",
   "metadata": {},
   "source": [
    "### Single Responsibility Principle"
   ]
  },
  {
   "cell_type": "markdown",
   "id": "1c3ebcf0",
   "metadata": {},
   "source": [
    "The single responsibility principle is the concept that a class should only be focused on doing one thing. That is, it should hold responsibility over one thing in the system only. Its methods should be aligned along fairly narrow lines or focused towards one domain."
   ]
  },
  {
   "cell_type": "markdown",
   "id": "e3ab055b",
   "metadata": {},
   "source": [
    "A single responsibility is very closely related to coupling and cohesion in that it allows for the reduction and control of these principles."
   ]
  },
  {
   "cell_type": "markdown",
   "id": "7d8b1863",
   "metadata": {},
   "source": [
    "Single responsibility causes very high cohesion in the system. This means the system is very flexible and composable in pieces rather than interconnected classes with inheritance. See the below example of a class that is not following the Single Responsibility Principle"
   ]
  },
  {
   "cell_type": "code",
   "execution_count": 10,
   "id": "da0725c5",
   "metadata": {},
   "outputs": [],
   "source": [
    "class Employee {\n",
    "    private long employeeId;\n",
    "    private String name;\n",
    "    private Date dateOfBirth;\n",
    "    \n",
    "    public boolean isPromotionDueThisYear(){\n",
    "        return true;\n",
    "    }\n",
    "    \n",
    "    public double managerDailyRate(){\n",
    "        return 22.22;\n",
    "    }\n",
    "    \n",
    "    // Other code guff like setter and getters    \n",
    "    \n",
    "}"
   ]
  },
  {
   "cell_type": "markdown",
   "id": "e60964c7",
   "metadata": {},
   "source": [
    "The reason why this class **does not** follow the single responsibility principle is because it owns pieces of functionality that an Employee should not normally have access to. Things like promotion being due and daily rate of a company position should not live on the Employee class. These should be owned by a domain specific class for HR or Finance."
   ]
  },
  {
   "cell_type": "markdown",
   "id": "7f948415",
   "metadata": {},
   "source": [
    "The Employee class should only contain methods and member variables that are applicable to an employee's *behaviour*. Refactoring this could be done like..."
   ]
  },
  {
   "cell_type": "code",
   "execution_count": 11,
   "id": "a57e012c",
   "metadata": {},
   "outputs": [],
   "source": [
    "class Employee {\n",
    "    private long employeeId;\n",
    "    private String name;\n",
    "    private Date dateOfBirth;\n",
    "\n",
    "    // Other code guff like setter and getters    \n",
    "    \n",
    "}"
   ]
  },
  {
   "cell_type": "code",
   "execution_count": 12,
   "id": "d515a992",
   "metadata": {},
   "outputs": [],
   "source": [
    "class PeopleManagement {\n",
    "    public boolean isPromotionDueThisYearForEmployee(\n",
    "        Employee employee\n",
    "    ) {\n",
    "        // will use the employee passed in to get correct details\n",
    "        return true;\n",
    "    }\n",
    "}"
   ]
  },
  {
   "cell_type": "code",
   "execution_count": 13,
   "id": "17cc1497",
   "metadata": {},
   "outputs": [],
   "source": [
    "class EmployeePayRoll {\n",
    "    public double managerDailyRate(\n",
    "        Employee employee\n",
    "    ) {\n",
    "        // will use the employee passed in to get correct details\n",
    "        return 22.22;\n",
    "    }\n",
    "}"
   ]
  },
  {
   "cell_type": "markdown",
   "id": "0cdcfefe",
   "metadata": {},
   "source": [
    "The above 3 classes is how the logic from the original employee class could be split out into their own classes. This helps from a domain perspective as it forces certain controls between what objects can use what. Combining this with delegation, it would be possible to build out a permissioning system to control what employees had access to what."
   ]
  },
  {
   "cell_type": "markdown",
   "id": "e8dce9cb",
   "metadata": {},
   "source": [
    "### Open closed principle"
   ]
  },
  {
   "cell_type": "markdown",
   "id": "4210fff1",
   "metadata": {},
   "source": [
    "Open closed principle is the concept that a class should be open for extension and creation of additional functionality, but closed to any modification of existing behaviour. This isn't to say that things in a class should never be changed. But, that adding functionality should not **require** that you change existing code."
   ]
  },
  {
   "cell_type": "markdown",
   "id": "ffbcc023",
   "metadata": {},
   "source": [
    "> A class should be extendable without modifying the class itself"
   ]
  },
  {
   "cell_type": "markdown",
   "id": "da89fd25",
   "metadata": {},
   "source": [
    "A module (think unit of code so actual modules, classes etc) is closed if other entities rely on it in some way. It's assumed when applying this principle that the module is well defined and named, as well as having strong boundaries."
   ]
  },
  {
   "cell_type": "markdown",
   "id": "30650a03",
   "metadata": {},
   "source": [
    "The idea behind this principle is to help you write code that does not break existing functionality in a system."
   ]
  },
  {
   "cell_type": "markdown",
   "id": "f22e741e",
   "metadata": {},
   "source": [
    "We can use interfaces or inheritance to achieve this principle well. Inheritance, however, produces code that is more likely to be brittle and tightly coupled. Interfaces can essentially do the exact same thing, while improving cohesion and reducing coupling drastically. Generally, using an interface is the best approach."
   ]
  },
  {
   "cell_type": "code",
   "execution_count": 15,
   "id": "6b064d93",
   "metadata": {},
   "outputs": [],
   "source": [
    "class Rectangle { \n",
    "    public double length;\n",
    "    public double height;\n",
    "}"
   ]
  },
  {
   "cell_type": "code",
   "execution_count": 17,
   "id": "de9c1cf1",
   "metadata": {},
   "outputs": [],
   "source": [
    "class Circle {\n",
    "    public double radius;\n",
    "}"
   ]
  },
  {
   "cell_type": "code",
   "execution_count": 18,
   "id": "395810f3",
   "metadata": {},
   "outputs": [],
   "source": [
    "class AreaCalculator {\n",
    "    public double calculateRectangleArea(Rectangle rectangle)\n",
    "    {\n",
    "        return rectangle.length * rectangle.width;\n",
    "    }\n",
    "    \n",
    "    public double calculateCircleArea(Circle circle)\n",
    "    {\n",
    "        return (22/7) * circle.radius * circle.radius;\n",
    "    }\n",
    "\n",
    "}"
   ]
  },
  {
   "cell_type": "markdown",
   "id": "c66d8fe8",
   "metadata": {},
   "source": [
    "The above example is not at all following the Open closed principle. This is because the AreaCalculator class has implemented separate methods for each type of shape class available. If we were to add another shape, we'd have to change the class. Therefore, it is not following the closed part of the principle properly. It is also not following the open either as AreaCalculator is not extensible. If there were a change to rectangles or circles, the implementation of each of the existing methods would break."
   ]
  },
  {
   "cell_type": "markdown",
   "id": "8b930d7f",
   "metadata": {},
   "source": [
    "At no point is this class able to be changed without breaking any of its consumers and any changes to its dependencies would also cause issues. The Open closed principle allows us to manage this so that our code is not brittle. See below how to refactor this to follow the principle."
   ]
  },
  {
   "cell_type": "code",
   "execution_count": 19,
   "id": "1863fc40",
   "metadata": {},
   "outputs": [],
   "source": [
    "interface Shape {\n",
    "    public double calculateArea();\n",
    "}"
   ]
  },
  {
   "cell_type": "code",
   "execution_count": 20,
   "id": "13c7b0c7",
   "metadata": {},
   "outputs": [],
   "source": [
    "class Rectangle implements Shape {\n",
    "    public double length;\n",
    "    public double width;\n",
    "    \n",
    "    public double calculateArea(){\n",
    "        return this.width * this.length;\n",
    "    }\n",
    "}"
   ]
  },
  {
   "cell_type": "code",
   "execution_count": 21,
   "id": "90b92b10",
   "metadata": {},
   "outputs": [],
   "source": [
    "class Circle implements Shape {\n",
    "    public double radius;\n",
    "    \n",
    "    public double calculateArea(){\n",
    "        return (22/7) * circle.radius * circle.radius;\n",
    "    }\n",
    "}"
   ]
  },
  {
   "cell_type": "markdown",
   "id": "cbc9fd3b",
   "metadata": {},
   "source": [
    "The above is much more extensible. By thinking about how the shape *owns* its area and using an interface with abstract method to signal that shapes need to have this, we have removed the need for the AreaCalculator class. If we still wanted to use this though, as our consumers wanted the API this presented..."
   ]
  },
  {
   "cell_type": "code",
   "execution_count": 22,
   "id": "cb845da7",
   "metadata": {},
   "outputs": [],
   "source": [
    "class AreaCalculator {\n",
    "    public double calculateShapeArea(Shape shape)\n",
    "    {\n",
    "        return shape.calculateArea();\n",
    "    }\n",
    "}"
   ]
  },
  {
   "cell_type": "markdown",
   "id": "886a11c7",
   "metadata": {},
   "source": [
    "This allows *any* shape we create that implements the interface to be able to present its area via the AreaCalculator class without any need to refactor anything in any of the classes. If we wanted to change the shape behaviour, we could do this on the respective shape and not break anything. If we wanted to change all shapes, we could change the interface."
   ]
  },
  {
   "cell_type": "markdown",
   "id": "0248ab41",
   "metadata": {},
   "source": [
    "If we did this, our code would break. But, we would know exactly what was broken and why. A key gain of the Open closed principle is signals to broken or malfunctioning components in our code, as well as baked in extensibility."
   ]
  },
  {
   "cell_type": "markdown",
   "id": "47ec1710",
   "metadata": {},
   "source": [
    "AreaCalculator is now a complete class. It has one responsibility and it can **always** perform this as long as the shape in question has implemented the interface. It is also delegating the calculation to the shape itself. Because a shape's area is made by the shape's attributes, the calculator doesn't really have any business owning how this is calculated. Only that it can present the data. Now, the once public members can safely become private, properly encapsulating the behaviour of a shape without leaking unnecessary details."
   ]
  },
  {
   "cell_type": "markdown",
   "id": "856cd3ea",
   "metadata": {},
   "source": [
    "### Liskov Substitution Principle"
   ]
  },
  {
   "cell_type": "markdown",
   "id": "470c105e",
   "metadata": {},
   "source": [
    "The Liskov substitution principle is defined as objects built from a super class being 1-1 replaceable by its sub-classes. That is, if a class has a super class, it can replace the super class without breaking the system it is a part of. This means that they can behave the same way."
   ]
  },
  {
   "cell_type": "markdown",
   "id": "fecf9713",
   "metadata": {},
   "source": [
    "By extension, this means that any overrides (methods) need to accept the exact same parameters and not implement any further validation of these. The return types of both the base and sub-class should also be the same."
   ]
  },
  {
   "cell_type": "markdown",
   "id": "f0281406",
   "metadata": {},
   "source": [
    "This principle extends the Open closed principle as the super class is open for extension via the sub-class extending it. The method override means that when the sub class is used in place of the super, that nothing breaks when the class is used in the system."
   ]
  },
  {
   "cell_type": "code",
   "execution_count": 2,
   "id": "7b3f9de6",
   "metadata": {},
   "outputs": [],
   "source": [
    "abstract class Vehicle {\n",
    "    abstract int getSpeed();\n",
    "    abstract int getCapacity();\n",
    "}"
   ]
  },
  {
   "cell_type": "code",
   "execution_count": 5,
   "id": "9b8a3717",
   "metadata": {},
   "outputs": [],
   "source": [
    "public class Car extends Vehicle {\n",
    "    int getSpeed(){\n",
    "        return 1;\n",
    "    }\n",
    "    int getCapacity(){\n",
    "        return 1;\n",
    "    }\n",
    "    boolean isLarge(){\n",
    "        return false;\n",
    "    }\n",
    "}"
   ]
  },
  {
   "cell_type": "code",
   "execution_count": 6,
   "id": "e6f8239f",
   "metadata": {},
   "outputs": [],
   "source": [
    "public class Bus extends Vehicle {\n",
    "    int getSpeed(){\n",
    "        return 3;\n",
    "    }\n",
    "    int getCapacity(){\n",
    "        return 10;\n",
    "    }\n",
    "    boolean isLarge(){\n",
    "        return true;\n",
    "    }\n",
    "}"
   ]
  },
  {
   "cell_type": "code",
   "execution_count": 8,
   "id": "c747b376",
   "metadata": {},
   "outputs": [
    {
     "data": {
      "text/plain": [
       "1"
      ]
     },
     "execution_count": 8,
     "metadata": {},
     "output_type": "execute_result"
    }
   ],
   "source": [
    "Vehicle vehicle = new Car();\n",
    "vehicle.getSpeed();"
   ]
  },
  {
   "cell_type": "code",
   "execution_count": 9,
   "id": "d0e437a0",
   "metadata": {},
   "outputs": [
    {
     "data": {
      "text/plain": [
       "3"
      ]
     },
     "execution_count": 9,
     "metadata": {},
     "output_type": "execute_result"
    }
   ],
   "source": [
    "vehicle = new Bus();\n",
    "vehicle.getSpeed();"
   ]
  },
  {
   "cell_type": "markdown",
   "id": "cd10a125",
   "metadata": {},
   "source": [
    "Note how we create the vehicle polymorphically. This means we can assign any of the sub classes of vehicle to the created vehicle and have the functionality work as intended. If we were to call the isLarge method though, this would not work."
   ]
  },
  {
   "cell_type": "code",
   "execution_count": 10,
   "id": "500b2aaa",
   "metadata": {},
   "outputs": [
    {
     "ename": "CompilationException",
     "evalue": "",
     "output_type": "error",
     "traceback": [
      "\u001b[1m\u001b[30m|   \u001b[1m\u001b[30m\u001b[0m\u001b[1m\u001b[30m\u001b[41mvehicle.isLarge\u001b[0m\u001b[1m\u001b[30m();\u001b[0m",
      "\u001b[1m\u001b[31mcannot find symbol\u001b[0m",
      "\u001b[1m\u001b[31m  symbol:   method isLarge()\u001b[0m",
      ""
     ]
    }
   ],
   "source": [
    "vehicle.isLarge();"
   ]
  },
  {
   "cell_type": "markdown",
   "id": "f40bff64",
   "metadata": {},
   "source": [
    "This is because the super class does not have this method available to it. Even though both sub classes do, the super does not. Java enforces the Liskov Substitution principle."
   ]
  },
  {
   "cell_type": "markdown",
   "id": "c6b6702d",
   "metadata": {},
   "source": [
    "### Interface Segregation Principle"
   ]
  },
  {
   "cell_type": "markdown",
   "id": "567c060f",
   "metadata": {},
   "source": [
    "The interface segregation principle is the concept that clients (system users [classes or people]) should not have to depend on classes they do not use. A client should not implement an interface if it does not use a method of the interface."
   ]
  },
  {
   "cell_type": "markdown",
   "id": "45f4118d",
   "metadata": {},
   "source": [
    "The goal of the principle is to reduce side effects and the frequency of changes required to code when it needs to happen. Interface design is very tricky. Once it's out there and being used, changing it will break any objects that implement it."
   ]
  },
  {
   "cell_type": "markdown",
   "id": "7a277120",
   "metadata": {},
   "source": [
    "The thing to avoid is the creation of a fat interface. This is an interface that has too much inside of it and is doing more than one thing. An interface should be treated somewhat like a class. It should only have a contract for one piece of functionality."
   ]
  },
  {
   "cell_type": "markdown",
   "id": "f377b2c4",
   "metadata": {},
   "source": [
    "The principle avoids producing one big interface, but instead breaks up the functionality into 'domains'. In this way, interfaces can be used together to produce objects that utilise all the required functionality only. The interfaces are lean and fit for purpose."
   ]
  },
  {
   "cell_type": "code",
   "execution_count": 11,
   "id": "53f27493",
   "metadata": {},
   "outputs": [],
   "source": [
    "interface ShapeInterface {\n",
    "    public double area();\n",
    "    public double volume();\n",
    "}"
   ]
  },
  {
   "cell_type": "markdown",
   "id": "5c14d625",
   "metadata": {},
   "source": [
    "The above interface is an example of the segregation principle not being followed. 2D shapes do not have volumes and forcing every shape to have one makes classes that use this to be bloated by stubs for a method they cannot use. To refactor this, we could create 2 interfaces for both 2D and 3D shapes."
   ]
  },
  {
   "cell_type": "code",
   "execution_count": 15,
   "id": "a678de71",
   "metadata": {},
   "outputs": [],
   "source": [
    "interface PlaneShape {\n",
    "    public double area();\n",
    "}"
   ]
  },
  {
   "cell_type": "code",
   "execution_count": 16,
   "id": "f7846772",
   "metadata": {},
   "outputs": [],
   "source": [
    "interface SolidShape {\n",
    "    public double volume();\n",
    "}"
   ]
  },
  {
   "cell_type": "markdown",
   "id": "9ab8d7f9",
   "metadata": {},
   "source": [
    "Now that we have both of these, any clients that wanted to have access to functionality for both the Plane and Solid shape interfaces could just implement the interfaces."
   ]
  },
  {
   "cell_type": "code",
   "execution_count": 17,
   "id": "853c0945",
   "metadata": {},
   "outputs": [],
   "source": [
    "class Cuboid implements PlaneShape, SolidShape {\n",
    "    public double area() {\n",
    "        return 42;\n",
    "    }\n",
    "    \n",
    "    public double volume() {\n",
    "        return 420;\n",
    "    }\n",
    "}"
   ]
  },
  {
   "cell_type": "markdown",
   "id": "ac48de76",
   "metadata": {},
   "source": [
    "This still isn't optimal though. The type of shape determines what interfaces it could implement. This isn't necessarily a problem. But, it does not scale well and could cause more bugs than it resolves. A better approach is to present a single interface that does what the client expects of it. The way to achieve this could be..."
   ]
  },
  {
   "cell_type": "code",
   "execution_count": 22,
   "id": "30013bf4",
   "metadata": {},
   "outputs": [],
   "source": [
    "interface ManageShapePropsInterface {\n",
    "    public double getShapeArea();\n",
    "}"
   ]
  },
  {
   "cell_type": "code",
   "execution_count": 23,
   "id": "f806bc40",
   "metadata": {},
   "outputs": [],
   "source": [
    "class SquareBasedPyramid implements \n",
    "    ManageShapePropsInterface, \n",
    "    PlaneShape, \n",
    "    SolidShape \n",
    "{\n",
    "    public double area() {\n",
    "        return 42;\n",
    "    }\n",
    "    \n",
    "    public double volume() {\n",
    "        return 420;\n",
    "    }\n",
    "    \n",
    "    public double getShapeArea(){\n",
    "        return this.area();\n",
    "    }\n",
    "}"
   ]
  },
  {
   "cell_type": "markdown",
   "id": "9393db81",
   "metadata": {},
   "source": [
    "The ManageShapePropsInterface allows for an API to be expressed to clients. The jobs of the Solid and Plane interfaces is to determine types of shape and how they behave. These can be combined to produce specific behaviours. The ManageShapePropsInterface then allows for a client to access these behaviours\n",
    "regardless of how the shape in question is composed.\n",
    "\n",
    "A further improvement would be to make the ManageShapePropsInterface (probs changing the name though)an abstract class instead and override the functionality required on each sub class. This allows more specificity and then means that all shapes will be guaranteed to behave the same way and be replaceable with one another, creating a highly cohesive system."
   ]
  },
  {
   "cell_type": "markdown",
   "id": "872c9158",
   "metadata": {},
   "source": [
    "### Dependency Inversion Principle"
   ]
  },
  {
   "cell_type": "markdown",
   "id": "784e1257",
   "metadata": {},
   "source": [
    "The dependency inversion principle states that entities (classes and modules) should depend on abstractions and not on concretions (don't define loads of classes when one will do and build contracts into classes with interfaces)."
   ]
  },
  {
   "cell_type": "markdown",
   "id": "f90cb196",
   "metadata": {},
   "source": [
    "Abstractions should not depend on any details and high level details must not depend on lower level classes. The lower level details should be accessible via an interface or abstract class. This will allow the implementation at lower levels to vary and be changeable.\n",
    "\n",
    "Clients and consumers should not deal with concrete classes."
   ]
  },
  {
   "cell_type": "markdown",
   "id": "4fd59dc0",
   "metadata": {},
   "source": [
    "Advantages to this principle is decoupling. By using a contract to abstract concrete classes, we allow our system to be highly cohesive and not brittle when a base change occurs. It greatly reduces the cost to maintain.\n"
   ]
  },
  {
   "cell_type": "markdown",
   "id": "cd1520a1",
   "metadata": {},
   "source": [
    "Some key guidelines for following this principle well:\n",
    "* No variable should hold a reference to a concrete class\n",
    "* No class should inherit from a concrete class\n",
    "* No method should override an implemented method of a base class (Liskov sub)\n"
   ]
  },
  {
   "cell_type": "markdown",
   "id": "5b947ae0",
   "metadata": {},
   "source": [
    "These are merely guidelines. Like all rules, have good reasons for breaking these."
   ]
  },
  {
   "cell_type": "code",
   "execution_count": 1,
   "id": "8843aa9c",
   "metadata": {},
   "outputs": [],
   "source": [
    "class PasswordReminder {\n",
    "    private int dbConnection;\n",
    "    \n",
    "    // Is an int for purposes of demo\n",
    "    public PasswordReminder(int dbConnection)\n",
    "    {\n",
    "        this.dbConnection = dbConnection;\n",
    "    }\n",
    "}"
   ]
  },
  {
   "cell_type": "markdown",
   "id": "5f767cf7",
   "metadata": {},
   "source": [
    "The above snippet is a great example of how Dependency Inversion has not been followed. The PasswordReminder class NEEDS to take in a dbConnection in order to exist. If it doesn't the class will not build. This breaks the first point from the list above. It also breaks the Open closed principle, as the class isn't extensible and has a very brittle dependency on the type of dbConnection."
   ]
  },
  {
   "cell_type": "markdown",
   "id": "372fe986",
   "metadata": {},
   "source": [
    "To fix this, we could do the following:"
   ]
  },
  {
   "cell_type": "code",
   "execution_count": 2,
   "id": "516f4bd2",
   "metadata": {},
   "outputs": [],
   "source": [
    "interface DBConnectionInterface {\n",
    "    public int connect();\n",
    "}"
   ]
  },
  {
   "cell_type": "code",
   "execution_count": 3,
   "id": "84b39ded",
   "metadata": {},
   "outputs": [],
   "source": [
    "class DBConnector implements DBConnectionInterface{\n",
    "    public int connect() {\n",
    "        return 1;\n",
    "    }\n",
    "}"
   ]
  },
  {
   "cell_type": "code",
   "execution_count": 4,
   "id": "9e3a3092",
   "metadata": {},
   "outputs": [],
   "source": [
    "class PasswordReminder {\n",
    "    private DBConnectionInterface dbConn;\n",
    "    \n",
    "    public PasswordReminder(DBConnectionInterface dbConn) {\n",
    "        this.dbConn = dbConn;\n",
    "    }\n",
    "\n",
    "}"
   ]
  },
  {
   "cell_type": "markdown",
   "id": "7b74a61e",
   "metadata": {},
   "source": [
    "this doesn't solve the problem of the hard dependency on DBConnections, but it does allow for the Open Closed principle to be correctly followed. Now, the specific implementation of DBConnector can be changed or even swapped out in favour of another class that implements the interface.\n",
    "\n",
    "It also creates an abstraction of the DBConnection that is easier to work with and is effectively a black box. This is what the dependency inversion principle hopes to achieve. Lower level details should become like black boxes that adhere to contracts"
   ]
  },
  {
   "cell_type": "markdown",
   "id": "8ce75bf6",
   "metadata": {},
   "source": [
    "### Dependency Injection"
   ]
  },
  {
   "cell_type": "markdown",
   "id": "b9ed6556",
   "metadata": {},
   "source": [
    "A dependency is something that is required in a class in order for it to do its job. For example, a TransactionWriter class could need a logger in order to output transactions it has written to logs. The logger would be considered a dependency in this case."
   ]
  },
  {
   "cell_type": "markdown",
   "id": "8678a79d",
   "metadata": {},
   "source": [
    "As with all the other principles, classes should be as independent as possible and have few to no dependencies. This means that reusing classes is easier as you don't need to bundle loads of stuff into them to get them to work."
   ]
  },
  {
   "cell_type": "markdown",
   "id": "a99b5aa8",
   "metadata": {},
   "source": [
    "Creating a new class with the new operator creates hard dependencies. These are as described above. This can be an OK approach, but equally can cause coupling and issues with cohesion. A better way to go is with Dependency Injection. This solves the hard dependency problem for us."
   ]
  },
  {
   "cell_type": "code",
   "execution_count": 5,
   "id": "7f9969ca",
   "metadata": {},
   "outputs": [],
   "source": [
    "class MyService {\n",
    "    public int getNumber() {\n",
    "        return 42;\n",
    "    }\n",
    "}"
   ]
  },
  {
   "cell_type": "code",
   "execution_count": 6,
   "id": "cb6a380d",
   "metadata": {},
   "outputs": [],
   "source": [
    "class Client {\n",
    "    private MyService myService;\n",
    "    \n",
    "    public Client(MyService myService) {\n",
    "        this.myService = myService;\n",
    "    }\n",
    "}"
   ]
  },
  {
   "cell_type": "code",
   "execution_count": 7,
   "id": "4e8f677a",
   "metadata": {},
   "outputs": [],
   "source": [
    "MyService myService = new MyService();\n",
    "// No need to create the instance inside of the class\n",
    "\n",
    "Client client = new Client(myService);"
   ]
  },
  {
   "cell_type": "markdown",
   "id": "c3a5d8ed",
   "metadata": {},
   "source": [
    "The above is a basic example of Dependency injection. Essentially, the instance of the required class is passed into the constructor and then assigned to a variable inside of the class in question. This removes the hard dependency and allows for classes to be built without dependencies. If we didn't want to pass in the myService instance, we could just pass null"
   ]
  },
  {
   "cell_type": "code",
   "execution_count": 11,
   "id": "33ad5a16",
   "metadata": {},
   "outputs": [],
   "source": [
    "Client client2 = new Client(null);"
   ]
  },
  {
   "cell_type": "markdown",
   "id": "f4b827f5",
   "metadata": {},
   "source": [
    "What this allows us to do is actually opt-in to the services we want to use with our class. If we don't want to use parts of the functionality that depend on the dependency, we can simply not pass them in."
   ]
  },
  {
   "cell_type": "markdown",
   "id": "e9b05967",
   "metadata": {},
   "source": [
    "This can be greatly improved by using an interface to build the service class. This way, we decouple the service implementation and allow for a more cohesive system in general."
   ]
  },
  {
   "cell_type": "code",
   "execution_count": 12,
   "id": "d8cedec2",
   "metadata": {},
   "outputs": [],
   "source": [
    "interface ServiceInterface {\n",
    "    public int getNewNumber();\n",
    "}"
   ]
  },
  {
   "cell_type": "code",
   "execution_count": 13,
   "id": "7d044f4b",
   "metadata": {},
   "outputs": [],
   "source": [
    "class MyServiceImpl implements ServiceInterface {\n",
    "    public int getNewNumber() {\n",
    "        return 69;\n",
    "    }\n",
    "}"
   ]
  },
  {
   "cell_type": "code",
   "execution_count": 14,
   "id": "99e23095",
   "metadata": {},
   "outputs": [],
   "source": [
    "class Client {\n",
    "    private ServiceInterface myService;\n",
    "    \n",
    "    public Client(ServiceInterface myService) {\n",
    "        this.myService = myService;\n",
    "    }\n",
    "}"
   ]
  },
  {
   "cell_type": "markdown",
   "id": "9ee010c6",
   "metadata": {},
   "source": [
    "The above is best in class DI. By using the interface as the type, we create a contract for the service that the Client class now understands and can manage. This can be improved *even* further though by using the @Inject annotation. This is a convenience though. The above is the best *vanilla* way to do DI"
   ]
  }
 ],
 "metadata": {
  "kernelspec": {
   "display_name": "Java",
   "language": "java",
   "name": "java"
  },
  "language_info": {
   "codemirror_mode": "java",
   "file_extension": ".jshell",
   "mimetype": "text/x-java-source",
   "name": "Java",
   "pygments_lexer": "java",
   "version": "11.0.13+8"
  },
  "toc": {
   "base_numbering": 1,
   "nav_menu": {
    "height": "227px",
    "width": "330px"
   },
   "number_sections": true,
   "sideBar": true,
   "skip_h1_title": true,
   "title_cell": "Table of Contents",
   "title_sidebar": "Contents",
   "toc_cell": true,
   "toc_position": {
    "height": "47.6875px",
    "left": "490px",
    "top": "54px",
    "width": "212px"
   },
   "toc_section_display": false,
   "toc_window_display": false
  }
 },
 "nbformat": 4,
 "nbformat_minor": 5
}
