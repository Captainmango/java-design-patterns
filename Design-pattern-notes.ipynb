{
 "cells": [
  {
   "cell_type": "markdown",
   "id": "ba4fad7e",
   "metadata": {
    "toc": true
   },
   "source": [
    "<h1>Table of Contents<span class=\"tocSkip\"></span></h1>\n",
    "<div class=\"toc\"><ul class=\"toc-item\"><li><span><a href=\"#Principles-of-software-design\" data-toc-modified-id=\"Principles-of-software-design-1\"><span class=\"toc-item-num\">1&nbsp;&nbsp;</span>Principles of software design</a></span><ul class=\"toc-item\"><li><span><a href=\"#Modularisation\" data-toc-modified-id=\"Modularisation-1.1\"><span class=\"toc-item-num\">1.1&nbsp;&nbsp;</span>Modularisation</a></span></li><li><span><a href=\"#Programming-to-an-Interface\" data-toc-modified-id=\"Programming-to-an-Interface-1.2\"><span class=\"toc-item-num\">1.2&nbsp;&nbsp;</span>Programming to an Interface</a></span></li><li><span><a href=\"#Composition-over-Inheritance\" data-toc-modified-id=\"Composition-over-Inheritance-1.3\"><span class=\"toc-item-num\">1.3&nbsp;&nbsp;</span>Composition over Inheritance</a></span></li><li><span><a href=\"#Delegation-principles\" data-toc-modified-id=\"Delegation-principles-1.4\"><span class=\"toc-item-num\">1.4&nbsp;&nbsp;</span>Delegation principles</a></span></li><li><span><a href=\"#Single-Responsibility-Principle\" data-toc-modified-id=\"Single-Responsibility-Principle-1.5\"><span class=\"toc-item-num\">1.5&nbsp;&nbsp;</span>Single Responsibility Principle</a></span></li><li><span><a href=\"#Open-closed-principle\" data-toc-modified-id=\"Open-closed-principle-1.6\"><span class=\"toc-item-num\">1.6&nbsp;&nbsp;</span>Open closed principle</a></span></li></ul></li></ul></div>"
   ]
  },
  {
   "cell_type": "markdown",
   "id": "70cf9c31",
   "metadata": {},
   "source": [
    "## Principles of software design"
   ]
  },
  {
   "cell_type": "markdown",
   "id": "0dacf548",
   "metadata": {},
   "source": [
    "Software design makes everything easier with dev. Making sure you plan things out beforehand is mission critical.\n",
    "\n",
    "Good software engineers are made great by good design. Build for flux, nothing is rigid and unchangeable. Flexibility is the name of the game."
   ]
  },
  {
   "cell_type": "markdown",
   "id": "ca3eee32",
   "metadata": {},
   "source": [
    "### Modularisation"
   ]
  },
  {
   "cell_type": "markdown",
   "id": "895c012f",
   "metadata": {},
   "source": [
    "Breaking things into chunks. This is not having separate functions for everything!! This is methodically and systematically ring-fencing code so that it can do a job. This will produce code that has high cohesion (it works well with its mates) and low coupling (it doesn't have dependents)\n",
    "\n",
    "Modules should be like black boxes. Interfaces are the king of producing this effect, as are abstract classes."
   ]
  },
  {
   "cell_type": "markdown",
   "id": "e75de3e8",
   "metadata": {},
   "source": [
    "### Programming to an Interface"
   ]
  },
  {
   "cell_type": "markdown",
   "id": "2f9a7cbd",
   "metadata": {},
   "source": [
    "Interfaces are essentially contracts for classes. They need to be implemented by a class. Abstract classes can also function in the same way. When using abstract classes, we need to use the super(); function to pull the accessible properties into the child class.\n",
    "\n",
    "Using polymoprhism here brings a lot of power (overriding methods and declaring function definitions) as it can allow for the 'pattern' of the class to be established before it is created.\n",
    "\n",
    "When using interfaces, keep implementation details out of it. That is, do not include members. Method definitions and or stubs are OK. A constant could also be fine. But nothing that restricts how the interface could be used should be implemented."
   ]
  },
  {
   "cell_type": "code",
   "execution_count": 18,
   "id": "df70906d",
   "metadata": {},
   "outputs": [],
   "source": [
    "interface DisplayModule{\n",
    "    public void display();\n",
    "}"
   ]
  },
  {
   "cell_type": "code",
   "execution_count": 19,
   "id": "1130ea0e",
   "metadata": {},
   "outputs": [],
   "source": [
    "class Monitor implements DisplayModule {\n",
    "    public void display() {\n",
    "        System.out.println(\"display\");\n",
    "    }\n",
    "}"
   ]
  },
  {
   "cell_type": "code",
   "execution_count": 20,
   "id": "be7c2a4a",
   "metadata": {},
   "outputs": [],
   "source": [
    "class Projector implements DisplayModule{\n",
    "    public void display() {\n",
    "        System.out.println(\"Projector\");\n",
    "    }\n",
    "}"
   ]
  },
  {
   "cell_type": "code",
   "execution_count": 21,
   "id": "2300199b",
   "metadata": {},
   "outputs": [],
   "source": [
    "public class Computer {\n",
    "    private DisplayModule displayModule;\n",
    "\n",
    "    public void setDisplayModule(DisplayModule displayModule)\n",
    "    {\n",
    "        this.displayModule = displayModule;\n",
    "    }\n",
    "\n",
    "    public void display()\n",
    "    {\n",
    "        displayModule.display();\n",
    "    }\n",
    "}"
   ]
  },
  {
   "cell_type": "code",
   "execution_count": 22,
   "id": "a8782aa0",
   "metadata": {},
   "outputs": [
    {
     "name": "stdout",
     "output_type": "stream",
     "text": [
      "Projector\n"
     ]
    }
   ],
   "source": [
    "Computer computer = new Computer();\n",
    "\n",
    "DisplayModule displayModule = new Projector();\n",
    "computer.setDisplayModule(displayModule);\n",
    "computer.display();"
   ]
  },
  {
   "cell_type": "markdown",
   "id": "50514f5c",
   "metadata": {},
   "source": [
    "The above snippet presents an API through the interface and the classes that utilise it. There are no concrete classes yet (classes that have been initialised as objects), so the implementation of the classes doesn't matter. In the main method (the last cell), the objects are created and the setter allows a display module to be bound to the Computer type.\n",
    "\n",
    "Because we have the parameter type of the method set to the interface, we know exactly what behaviour the instance will have, while also completely decoupling the type of object being bound. This means we can change the implementation detail of the Display and Projector and not break anything. If we change the display function though, the complier will throw an error."
   ]
  },
  {
   "cell_type": "markdown",
   "id": "87f76c7e",
   "metadata": {},
   "source": [
    "### Composition over Inheritance"
   ]
  },
  {
   "cell_type": "markdown",
   "id": "fb9f36ab",
   "metadata": {},
   "source": [
    "Composition can be defined as a HAS-A relationship between classes in an OO design. This means an object can own, or be owned by, another object as a class member. It is implied that the child cannot exist without the parent i.e. rooms in a house. This doesn't have to be the case though. When working in this way, systems are composed of pieces of behaviour or qualities. If a composition is made up of a collection of things acting together that are independent of each other i.e. cars in a race, then this is better referred to as an **aggregation**."
   ]
  },
  {
   "cell_type": "markdown",
   "id": "3fba5318",
   "metadata": {},
   "source": [
    "Favouring composition over inheritance means that each class becomes encapsulated. Meaning, its behaviour is owned by itself and nothing else. It also forces it to adopt a single responsibility, therefore making it a module. This gives us absolute control over the class hierarchy. Composition also reduces coupling, helping code be less brittle. It also makes writing tests easier."
   ]
  },
  {
   "cell_type": "markdown",
   "id": "e88759db",
   "metadata": {},
   "source": [
    "Inheritance by its nature is very inflexible. It forces a specific relationship between 2 things rather than assembling components together. "
   ]
  },
  {
   "cell_type": "markdown",
   "id": "e7f11308",
   "metadata": {},
   "source": [
    "### Delegation principles"
   ]
  },
  {
   "cell_type": "markdown",
   "id": "7dfe0001",
   "metadata": {},
   "source": [
    "Delegation is as it sounds. When delegating in software, we call a class that understands what needs to happen. It can be rationalised as a relationship between objects where one forwards calls or information to another. For example, a library has a referencing system and a librarian has to use this to access counts of books and their titles by ISBN. The referencing system does the work, but the librarian *needs* to forward the call to the system to find the book. In this case, the referencing system is the delegate."
   ]
  },
  {
   "cell_type": "markdown",
   "id": "1bc986e7",
   "metadata": {},
   "source": [
    "It's a highly extreme example of composition. It is creating a relationship in a system that allows for high code reuse and low coupling."
   ]
  },
  {
   "cell_type": "markdown",
   "id": "adc46a89",
   "metadata": {},
   "source": [
    "It allows for very strong runtime flexibility, but it can cause things to become complicated as there is some over head in getting this done."
   ]
  },
  {
   "cell_type": "code",
   "execution_count": 4,
   "id": "d8b584a8",
   "metadata": {},
   "outputs": [],
   "source": [
    "// Delegate class\n",
    "public class RealPrinter {\n",
    "    \n",
    "    public void print() {\n",
    "        System.out.println(\"This is the delegate class working\");\n",
    "    }\n",
    "}"
   ]
  },
  {
   "cell_type": "code",
   "execution_count": 5,
   "id": "05545818",
   "metadata": {},
   "outputs": [],
   "source": [
    "// Delegator class\n",
    "public class PrinterMessenger {\n",
    "    // creating the delegate\n",
    "    RealPrinter realPrinter = new RealPrinter();\n",
    "    \n",
    "    // Using the delegate\n",
    "    void print() {\n",
    "        this.realPrinter.print();\n",
    "    }\n",
    "}"
   ]
  },
  {
   "cell_type": "code",
   "execution_count": 6,
   "id": "80abd1d2",
   "metadata": {},
   "outputs": [
    {
     "name": "stdout",
     "output_type": "stream",
     "text": [
      "This is the delegate class working\n"
     ]
    }
   ],
   "source": [
    "PrinterMessenger printer = new PrinterMessenger();\n",
    "printer.print();"
   ]
  },
  {
   "cell_type": "markdown",
   "id": "45539e41",
   "metadata": {},
   "source": [
    "Note that the work here is being done by the RealPrinter class. The PrinterMessenger class exists to use the RealPrinter to do the actual work of the print call. thinking back to the library example, the PrinterMessenger is delegating the work of printing to the delegate class: RealPrinter. In that example, the delegate is the reference system and the delegator is the librarian"
   ]
  },
  {
   "cell_type": "markdown",
   "id": "ed6d51c4",
   "metadata": {},
   "source": [
    "### Single Responsibility Principle"
   ]
  },
  {
   "cell_type": "markdown",
   "id": "1c3ebcf0",
   "metadata": {},
   "source": [
    "The single responsibility principle is the concept that a class should only be focused on doing one thing. That is, it should hold responsibility over one thing in the system only. Its methods should be aligned along fairly narrow lines or focused towards one domain."
   ]
  },
  {
   "cell_type": "markdown",
   "id": "e3ab055b",
   "metadata": {},
   "source": [
    "A single responsibility us very closely related to coupling and cohesion in that it allows for the reduction and control of these principles."
   ]
  },
  {
   "cell_type": "markdown",
   "id": "7d8b1863",
   "metadata": {},
   "source": [
    "Single responsibility causes very high cohesion in the system. This means the system is very flexible and composable in pieces rather than interconnected classes with inheritance. See the below example of a class that is not following the Single Responsibility Principle"
   ]
  },
  {
   "cell_type": "code",
   "execution_count": 10,
   "id": "da0725c5",
   "metadata": {},
   "outputs": [],
   "source": [
    "class Employee {\n",
    "    private long employeeId;\n",
    "    private String name;\n",
    "    private Date dateOfBirth;\n",
    "    \n",
    "    public boolean isPromotionDueThisYear(){\n",
    "        return true;\n",
    "    }\n",
    "    \n",
    "    public double managerDailyRate(){\n",
    "        return 22.22;\n",
    "    }\n",
    "    \n",
    "    // Other code guff like setter and getters    \n",
    "    \n",
    "}"
   ]
  },
  {
   "cell_type": "markdown",
   "id": "e60964c7",
   "metadata": {},
   "source": [
    "The reason why this class **does not** follow the single responsibility principle is because it owns pieces of functionality that an Employee should not normally have access to. Things like promotion being due and daily rate of a company position should not live on the Employee class. These should be owned by a domain specific class for HR or Finance."
   ]
  },
  {
   "cell_type": "markdown",
   "id": "7f948415",
   "metadata": {},
   "source": [
    "The Employee class should only contain methods and member variables that are applicable to an employee's *behaviour*. Refactoring this could be done like..."
   ]
  },
  {
   "cell_type": "code",
   "execution_count": 11,
   "id": "a57e012c",
   "metadata": {},
   "outputs": [],
   "source": [
    "class Employee {\n",
    "    private long employeeId;\n",
    "    private String name;\n",
    "    private Date dateOfBirth;\n",
    "\n",
    "    // Other code guff like setter and getters    \n",
    "    \n",
    "}"
   ]
  },
  {
   "cell_type": "code",
   "execution_count": 12,
   "id": "d515a992",
   "metadata": {},
   "outputs": [],
   "source": [
    "class PeopleManagement {\n",
    "    public boolean isPromotionDueThisYearForEmployee(\n",
    "        Employee employee\n",
    "    ) {\n",
    "        // will use the employee passed in to get correct details\n",
    "        return true;\n",
    "    }\n",
    "}"
   ]
  },
  {
   "cell_type": "code",
   "execution_count": 13,
   "id": "17cc1497",
   "metadata": {},
   "outputs": [],
   "source": [
    "class EmployeePayRoll {\n",
    "    public double managerDailyRate(\n",
    "        Employee employee\n",
    "    ) {\n",
    "        // will use the employee passed in to get correct details\n",
    "        return 22.22;\n",
    "    }\n",
    "}"
   ]
  },
  {
   "cell_type": "markdown",
   "id": "0cdcfefe",
   "metadata": {},
   "source": [
    "The above 3 classes is how the logic from the original employee class could be split out into their own classes. This helps from a domain perspective as it forces certain controls between what objects can use what. Combining this with delegation, it would be possible to build out a permissioning system to control what employees had access to what."
   ]
  },
  {
   "cell_type": "markdown",
   "id": "e8dce9cb",
   "metadata": {},
   "source": [
    "### Open closed principle"
   ]
  },
  {
   "cell_type": "markdown",
   "id": "4210fff1",
   "metadata": {},
   "source": [
    "Open closed principle is the concept that a class should be open for extension and creation of additional functionality, but closed to any modification of existing behaviour. This isn't to say that things in a class should never be changed. But, that adding functionality should not **require** that you change existing code."
   ]
  },
  {
   "cell_type": "markdown",
   "id": "ffbcc023",
   "metadata": {},
   "source": [
    "> A class should be extendable without modifying the class itself"
   ]
  },
  {
   "cell_type": "markdown",
   "id": "da89fd25",
   "metadata": {},
   "source": [
    "A module (think unit of code so actual modules, classes etc) is closed if other entities rely on it in some way. Its assumed when applying this principle that the module is well defined and named, as well as having strong boundaries."
   ]
  },
  {
   "cell_type": "markdown",
   "id": "30650a03",
   "metadata": {},
   "source": [
    "The idea behind this principle is to help you write code that does not break existing functionality in a system."
   ]
  },
  {
   "cell_type": "markdown",
   "id": "f22e741e",
   "metadata": {},
   "source": [
    "We can use interfaces or inheritance to achieve this principle well. Inheritance, however, produces code that is more likely to be brittle and tightly coupled. Interfaces can essentially do the exact same thing, while improving cohesion and reducing coupling drastically. Generally, using an interface is the best approach."
   ]
  },
  {
   "cell_type": "code",
   "execution_count": 15,
   "id": "6b064d93",
   "metadata": {},
   "outputs": [],
   "source": [
    "class Rectangle { \n",
    "    public double length;\n",
    "    public double height;\n",
    "}"
   ]
  },
  {
   "cell_type": "code",
   "execution_count": 17,
   "id": "de9c1cf1",
   "metadata": {},
   "outputs": [],
   "source": [
    "class Circle {\n",
    "    public double radius;\n",
    "}"
   ]
  },
  {
   "cell_type": "code",
   "execution_count": 18,
   "id": "395810f3",
   "metadata": {},
   "outputs": [],
   "source": [
    "class AreaCalculator {\n",
    "    public double calculateRectangleArea(Rectangle rectangle)\n",
    "    {\n",
    "        return rectangle.length * rectangle.width;\n",
    "    }\n",
    "    \n",
    "    public double calculateCircleArea(Circle circle)\n",
    "    {\n",
    "        return (22/7) * circle.radius * circle.radius;\n",
    "    }\n",
    "\n",
    "}"
   ]
  },
  {
   "cell_type": "markdown",
   "id": "c66d8fe8",
   "metadata": {},
   "source": [
    "The above example is not at all following the Open closed principle. This is because the AreaCalculator class has implemented separate methods for each type of shape class available. If we were to add another shape, we'd have to change the class. Therefore, it is not following the closed part of the principle properly. It is also not following the open either as AreaCalculator is not extensible. If there were a change to rectangles or circles, the implementation of each of the existing methods would break."
   ]
  },
  {
   "cell_type": "markdown",
   "id": "8b930d7f",
   "metadata": {},
   "source": [
    "At no point is this class able to be changed without breaking any of its consumers and any changes to its dependencies would also cause issues. The Open closed principle allows us to manage this so that our code is not brittle. See below how to refactor this to follow the principle."
   ]
  },
  {
   "cell_type": "code",
   "execution_count": 19,
   "id": "1863fc40",
   "metadata": {},
   "outputs": [],
   "source": [
    "interface Shape {\n",
    "    public double calculateArea();\n",
    "}"
   ]
  },
  {
   "cell_type": "code",
   "execution_count": 20,
   "id": "13c7b0c7",
   "metadata": {},
   "outputs": [],
   "source": [
    "class Rectangle implements Shape {\n",
    "    public double length;\n",
    "    public double width;\n",
    "    \n",
    "    public double calculateArea(){\n",
    "        return this.width * this.length;\n",
    "    }\n",
    "}"
   ]
  },
  {
   "cell_type": "code",
   "execution_count": 21,
   "id": "90b92b10",
   "metadata": {},
   "outputs": [],
   "source": [
    "class Circle implements Shape {\n",
    "    public double radius;\n",
    "    \n",
    "    public double calculateArea(){\n",
    "        return (22/7) * circle.radius * circle.radius;\n",
    "    }\n",
    "}"
   ]
  },
  {
   "cell_type": "markdown",
   "id": "cbc9fd3b",
   "metadata": {},
   "source": [
    "The above is much more extensible. By thinking about how the shape *owns* its area and using an interface with abstract method to signal that shapes need to have this, we have removed the need for the AreaCalculator class. If we still wanted to use this though, as our consumers wanted the API this presented..."
   ]
  },
  {
   "cell_type": "code",
   "execution_count": 22,
   "id": "cb845da7",
   "metadata": {},
   "outputs": [],
   "source": [
    "class AreaCalculator {\n",
    "    public double calculateShapeArea(Shape shape)\n",
    "    {\n",
    "        return shape.calculateArea();\n",
    "    }\n",
    "}"
   ]
  },
  {
   "cell_type": "markdown",
   "id": "886a11c7",
   "metadata": {},
   "source": [
    "This allows *any* shape we create that implements the interface to be able to present its area via the AreaCalculator class without any need to refactor anything in any of the classes. If we wanted to change the shape behaviour, we could do this on the respective shape and not break anything. If we wanted to change all shapes, we could change the interface."
   ]
  },
  {
   "cell_type": "markdown",
   "id": "0248ab41",
   "metadata": {},
   "source": [
    "If we did this, our code would break. But, we would know exactly what was broken and why. A key gain of the Open closed principle is signals to broken or malfunctioning components in our code, as well as baked in extensibility."
   ]
  },
  {
   "cell_type": "markdown",
   "id": "47ec1710",
   "metadata": {},
   "source": [
    "AreaCalculator is now a complete class. It has one responsibility and it can **always** perform this as long as the shape in question has implemented the interface. It is also delegating the calculation to the shape itself. Because a shape's area is made by the shape's attributes, the calculator doesn't really have any business owning how this is calculated. Only that it can present the data. Now, the once public members can safely become private, properly encapsulating the behaviour of a shape without leaking unnecessary details."
   ]
  },
  {
   "cell_type": "code",
   "execution_count": null,
   "id": "99eda2c3",
   "metadata": {},
   "outputs": [],
   "source": []
  }
 ],
 "metadata": {
  "kernelspec": {
   "display_name": "Java",
   "language": "java",
   "name": "java"
  },
  "language_info": {
   "codemirror_mode": "java",
   "file_extension": ".jshell",
   "mimetype": "text/x-java-source",
   "name": "Java",
   "pygments_lexer": "java",
   "version": "11.0.13+8"
  },
  "toc": {
   "base_numbering": 1,
   "nav_menu": {
    "height": "227px",
    "width": "330px"
   },
   "number_sections": true,
   "sideBar": true,
   "skip_h1_title": true,
   "title_cell": "Table of Contents",
   "title_sidebar": "Contents",
   "toc_cell": true,
   "toc_position": {
    "height": "47.6875px",
    "left": "490px",
    "top": "54px",
    "width": "212px"
   },
   "toc_section_display": false,
   "toc_window_display": false
  }
 },
 "nbformat": 4,
 "nbformat_minor": 5
}
