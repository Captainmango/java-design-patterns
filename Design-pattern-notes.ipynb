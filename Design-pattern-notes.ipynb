{
 "cells": [
  {
   "cell_type": "markdown",
   "id": "ba4fad7e",
   "metadata": {
    "toc": true
   },
   "source": [
    "<h1>Table of Contents<span class=\"tocSkip\"></span></h1>\n",
    "<div class=\"toc\"><ul class=\"toc-item\"><li><span><a href=\"#Principles-of-software-design\" data-toc-modified-id=\"Principles-of-software-design-1\"><span class=\"toc-item-num\">1&nbsp;&nbsp;</span>Principles of software design</a></span><ul class=\"toc-item\"><li><span><a href=\"#Modularisation\" data-toc-modified-id=\"Modularisation-1.1\"><span class=\"toc-item-num\">1.1&nbsp;&nbsp;</span>Modularisation</a></span></li><li><span><a href=\"#Programming-to-an-Interface\" data-toc-modified-id=\"Programming-to-an-Interface-1.2\"><span class=\"toc-item-num\">1.2&nbsp;&nbsp;</span>Programming to an Interface</a></span></li></ul></li></ul></div>"
   ]
  },
  {
   "cell_type": "markdown",
   "id": "70cf9c31",
   "metadata": {},
   "source": [
    "## Principles of software design"
   ]
  },
  {
   "cell_type": "markdown",
   "id": "0dacf548",
   "metadata": {},
   "source": [
    "Software design makes everything easier with dev. Making sure you plan things out beforehand is mission critical.\n",
    "\n",
    "Good software engineers are made great by good design. Build for flux, nothing is rigid and unchangeable. Flexibility is the name of the game."
   ]
  },
  {
   "cell_type": "markdown",
   "id": "ca3eee32",
   "metadata": {},
   "source": [
    "### Modularisation"
   ]
  },
  {
   "cell_type": "markdown",
   "id": "895c012f",
   "metadata": {},
   "source": [
    "Breaking things into chunks. This is not having separate functions for everything!! This is methodically and systematically ring-fencing code so that it can do a job. This will produce code that has high cohesion (it works well with its mates) and low coupling (it doesn't have dependents)\n",
    "\n",
    "Modules should be like black boxes. Interfaces are the king of producing this effect, as are abstract classes."
   ]
  },
  {
   "cell_type": "markdown",
   "id": "e75de3e8",
   "metadata": {},
   "source": [
    "### Programming to an Interface"
   ]
  },
  {
   "cell_type": "markdown",
   "id": "2f9a7cbd",
   "metadata": {},
   "source": [
    "Interfaces are essentially contracts for classes. They need to be implemented by a class. Abstract classes can also function in the same way. When using abstract classes, we need to use the super(); function to pull the accessible properties into the child class.\n",
    "\n",
    "Using polymoprhism here brings a lot of power (overriding methods and declaring function definitions) as it can allow for the 'pattern' of the class to be established before it is created.\n",
    "\n",
    "When using interfaces, keep implementation details out of it. That is, do not include members. Method definitions and or stubs are OK. A constant could also be fine. But nothing that restricts how the interface could be used should be implemented."
   ]
  },
  {
   "cell_type": "code",
   "execution_count": 1,
   "id": "df70906d",
   "metadata": {},
   "outputs": [],
   "source": [
    "interface DisplayModule{\n",
    "    public void display();\n",
    "}"
   ]
  },
  {
   "cell_type": "code",
   "execution_count": 2,
   "id": "1130ea0e",
   "metadata": {},
   "outputs": [],
   "source": [
    "class Monitor implements DisplayModule {\n",
    "    public void display() {\n",
    "        System.out.println(\"display\");\n",
    "    }\n",
    "}"
   ]
  },
  {
   "cell_type": "code",
   "execution_count": 3,
   "id": "be7c2a4a",
   "metadata": {},
   "outputs": [],
   "source": [
    "class Projector implements DisplayModule{\n",
    "    public void display() {\n",
    "        System.out.println(\"Projector\");\n",
    "    }\n",
    "}"
   ]
  },
  {
   "cell_type": "code",
   "execution_count": 4,
   "id": "2300199b",
   "metadata": {},
   "outputs": [],
   "source": [
    "public class Computer {\n",
    "    DisplayModule displayModule;\n",
    "\n",
    "    public void setDisplayModule(DisplayModule displayModule)\n",
    "    {\n",
    "        this.displayModule = displayModule;\n",
    "    }\n",
    "\n",
    "    public void display()\n",
    "    {\n",
    "        displayModule.display();\n",
    "    }\n",
    "}"
   ]
  },
  {
   "cell_type": "code",
   "execution_count": 5,
   "id": "a8782aa0",
   "metadata": {},
   "outputs": [
    {
     "name": "stdout",
     "output_type": "stream",
     "text": [
      "Projector\n"
     ]
    }
   ],
   "source": [
    "Computer computer = new Computer();\n",
    "\n",
    "DisplayModule displayModule = new Projector();\n",
    "computer.setDisplayModule(displayModule);\n",
    "computer.display();"
   ]
  },
  {
   "cell_type": "markdown",
   "id": "50514f5c",
   "metadata": {},
   "source": [
    "The above snippet presents an API through the interface and the classes that utilise it. There are no concrete classes yet (classes that have been initialised as objects), so the implementation of the classes doesn't matter. In the main method, the objects are created and the setter allows a display module to be bound to the Computer type.\n",
    "\n",
    "Because we have the parameter type of the method set to the interface, we know exactly what behaviour the instance will have, while also completely decoupling the type of object being bound. This means we can change the implementation detail of the Display and Projector and not break anything."
   ]
  }
 ],
 "metadata": {
  "celltoolbar": "Raw Cell Format",
  "kernelspec": {
   "display_name": "Java",
   "language": "java",
   "name": "java"
  },
  "language_info": {
   "codemirror_mode": "java",
   "file_extension": ".jshell",
   "mimetype": "text/x-java-source",
   "name": "Java",
   "pygments_lexer": "java",
   "version": "11.0.13+8"
  },
  "toc": {
   "base_numbering": 1,
   "nav_menu": {},
   "number_sections": true,
   "sideBar": true,
   "skip_h1_title": true,
   "title_cell": "Table of Contents",
   "title_sidebar": "Contents",
   "toc_cell": true,
   "toc_position": {},
   "toc_section_display": true,
   "toc_window_display": true
  }
 },
 "nbformat": 4,
 "nbformat_minor": 5
}
