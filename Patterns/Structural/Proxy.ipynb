{
 "cells": [
  {
   "cell_type": "markdown",
   "id": "21e147cb",
   "metadata": {
    "toc": true
   },
   "source": [
    "<h1>Table of Contents<span class=\"tocSkip\"></span></h1>\n",
    "<div class=\"toc\"><ul class=\"toc-item\"><li><span><a href=\"#Intro\" data-toc-modified-id=\"Intro-1\"><span class=\"toc-item-num\">1&nbsp;&nbsp;</span>Intro</a></span></li><li><span><a href=\"#Implementation\" data-toc-modified-id=\"Implementation-2\"><span class=\"toc-item-num\">2&nbsp;&nbsp;</span>Implementation</a></span></li><li><span><a href=\"#Example\" data-toc-modified-id=\"Example-3\"><span class=\"toc-item-num\">3&nbsp;&nbsp;</span>Example</a></span></li></ul></div>"
   ]
  },
  {
   "cell_type": "markdown",
   "id": "ba805909",
   "metadata": {},
   "source": [
    "# Proxy"
   ]
  },
  {
   "cell_type": "markdown",
   "id": "a3f4e331",
   "metadata": {},
   "source": [
    "## Intro"
   ]
  },
  {
   "cell_type": "markdown",
   "id": "d5d5f870",
   "metadata": {},
   "source": [
    "This pattern provides a surrogate or placeholder to allow control of an object from another place. It's used when we want to provide controlled access to functionality.\n",
    "\n",
    "The formal definition of a proxy (irrespective of the pattern) is:\n",
    "> an agent or substitute to a thing with the authority to act as if it were that thing"
   ]
  },
  {
   "cell_type": "markdown",
   "id": "5a88178b",
   "metadata": {},
   "source": [
    "There are situation in which the client does not or cannot reference the object directly (context boundaries), but still wants to interact with the object. A proxy can provide this indirection and maintain this boundary."
   ]
  },
  {
   "cell_type": "markdown",
   "id": "c70422e0",
   "metadata": {},
   "source": [
    "A good real world example of a proxy is a credit card. It is an indirection of the money in a bank account. It behaves as if it is money, but it is in fact not."
   ]
  },
  {
   "cell_type": "markdown",
   "id": "7e809f42",
   "metadata": {},
   "source": [
    "There are different types of proxy:\n",
    "* Remote proxies\n",
    "    * manages interaction between client and remot object"
   ]
  },
  {
   "cell_type": "markdown",
   "id": "76afbfbf",
   "metadata": {},
   "source": [
    "* Virtual proxy\n",
    "    * Controls access to the object that is expensive to create"
   ]
  },
  {
   "cell_type": "markdown",
   "id": "1915bd81",
   "metadata": {},
   "source": [
    "* copy-on-write proxy\n",
    "    * defers cloning a target until it is actually needed. Kinda a virtual proxy"
   ]
  },
  {
   "cell_type": "markdown",
   "id": "c29e1006",
   "metadata": {},
   "source": [
    "* Protection access\n",
    "    * As it sounds, gives different clients different access\n",
    "    "
   ]
  },
  {
   "cell_type": "markdown",
   "id": "094ba404",
   "metadata": {},
   "source": [
    "* Cache proxy\n",
    "    * Provides temporary storage of the results of expensive target ops"
   ]
  },
  {
   "cell_type": "markdown",
   "id": "9c951771",
   "metadata": {},
   "source": [
    "    \n",
    "* firewall proxy\n",
    "    * Like non dev, protects targets from bad clients"
   ]
  },
  {
   "cell_type": "markdown",
   "id": "6d907b9f",
   "metadata": {},
   "source": [
    "* Synchronisation proxy\n",
    "    * provides multiple access routes to a target"
   ]
  },
  {
   "cell_type": "markdown",
   "id": "83e65434",
   "metadata": {},
   "source": [
    "The purpose of the pattern is to represent another object and control access to it."
   ]
  },
  {
   "cell_type": "markdown",
   "id": "44c4b72d",
   "metadata": {},
   "source": [
    "Advantages of the pattern are:\n",
    "* Added security\n",
    "* Avoids duplication of objects that carry risk\n",
    "* Better performance of memory heavy objects"
   ]
  },
  {
   "cell_type": "markdown",
   "id": "179d0d9d",
   "metadata": {},
   "source": [
    "## Implementation"
   ]
  },
  {
   "cell_type": "code",
   "execution_count": 1,
   "id": "56b65abb",
   "metadata": {},
   "outputs": [],
   "source": [
    " interface Image {\n",
    "     void display();\n",
    " }"
   ]
  },
  {
   "cell_type": "code",
   "execution_count": 3,
   "id": "28178db1",
   "metadata": {},
   "outputs": [],
   "source": [
    "class RealImage implements Image {\n",
    "    private String filename;\n",
    "    \n",
    "    public RealImage(String filename)\n",
    "    {\n",
    "        this.filename = filename;\n",
    "        loadFromDisk(this.filename);\n",
    "    }\n",
    "    \n",
    "    public void display()\n",
    "    {\n",
    "        System.out.println(\"Displaying \" + this.filename);\n",
    "    }\n",
    "    \n",
    "    private void loadFromDisk(String filename)\n",
    "    {\n",
    "        System.out.println(\"Loading \" + filename);\n",
    "    }\n",
    "}"
   ]
  },
  {
   "cell_type": "code",
   "execution_count": 4,
   "id": "e241898a",
   "metadata": {},
   "outputs": [],
   "source": [
    "class ImageProxy implements Image {\n",
    "    private Image image;\n",
    "    private String filename;\n",
    "    \n",
    "    public ImageProxy(String filename)\n",
    "    {\n",
    "        this.filename = filename;\n",
    "    }\n",
    "    \n",
    "    public void display()\n",
    "    {\n",
    "        if (image == null) {\n",
    "            image = new RealImage(this.filename);\n",
    "        }\n",
    "        \n",
    "        image.display();\n",
    "    }\n",
    "    \n",
    "}"
   ]
  },
  {
   "cell_type": "code",
   "execution_count": 5,
   "id": "fe40d693",
   "metadata": {},
   "outputs": [],
   "source": [
    "Image myProxy = new ImageProxy(\"my file\");"
   ]
  },
  {
   "cell_type": "code",
   "execution_count": 6,
   "id": "010167a2",
   "metadata": {},
   "outputs": [
    {
     "name": "stdout",
     "output_type": "stream",
     "text": [
      "Loading my file\n",
      "Displaying my file\n"
     ]
    }
   ],
   "source": [
    "myProxy.display();"
   ]
  },
  {
   "cell_type": "markdown",
   "id": "0e1977f3",
   "metadata": {},
   "source": [
    "Note that the constructor code ran here. This means that the object was not created until it was needed. Now the proxy has access to the created object as it is a member var on itself."
   ]
  },
  {
   "cell_type": "code",
   "execution_count": 8,
   "id": "26502b88",
   "metadata": {},
   "outputs": [
    {
     "name": "stdout",
     "output_type": "stream",
     "text": [
      "Displaying my file\n"
     ]
    }
   ],
   "source": [
    "myProxy.display();"
   ]
  },
  {
   "cell_type": "markdown",
   "id": "ea2b9e7a",
   "metadata": {},
   "source": [
    "The above variations of the pattern would require us to manipulate how the target being proxied will be called. For example, if we wanted to make a protection access proxy, we'd need to do a permission check inside the method that required a permission check. Also note the use of delegation here. The proxy does nothing but call the real image."
   ]
  },
  {
   "cell_type": "code",
   "execution_count": 9,
   "id": "e020ef6a",
   "metadata": {},
   "outputs": [],
   "source": [
    "class ImageProxy implements Image {\n",
    "    private Image image;\n",
    "    private String filename;\n",
    "    \n",
    "    public ImageProxy(String filename)\n",
    "    {\n",
    "        this.filename = filename;\n",
    "    }\n",
    "    \n",
    "    public void display()\n",
    "    {\n",
    "        // permission if statement would go here and return early.\n",
    "        /* permissions is a List type\n",
    "         * if (!auth.user.permissions.contains(\"admin\")) return;\n",
    "         *\n",
    "        */\n",
    "        if (image == null) {\n",
    "            image = new RealImage(this.filename);\n",
    "        }\n",
    "        \n",
    "        image.display();\n",
    "    }\n",
    "    \n",
    "}"
   ]
  },
  {
   "cell_type": "markdown",
   "id": "213561bd",
   "metadata": {},
   "source": [
    "## Example"
   ]
  },
  {
   "cell_type": "code",
   "execution_count": 12,
   "id": "c4263909",
   "metadata": {},
   "outputs": [],
   "source": [
    "interface IProxy {\n",
    "    void checkHosts(String site);\n",
    "}"
   ]
  },
  {
   "cell_type": "code",
   "execution_count": 15,
   "id": "b5c98815",
   "metadata": {},
   "outputs": [],
   "source": [
    "class RealProxy implements IProxy {\n",
    "    private List<String> hosts = new ArrayList<String>();\n",
    "    \n",
    "    public RealProxy(List<String> hosts)\n",
    "    {\n",
    "        this.hosts = hosts;\n",
    "    }\n",
    "    \n",
    "    public void checkHosts(String site)\n",
    "    {\n",
    "        if (this.hosts.contains(site)) {\n",
    "            System.out.println(\"Access denied\");\n",
    "            return;\n",
    "        }\n",
    "        \n",
    "        System.out.println(\"Site not blacklisted\");\n",
    "    }\n",
    "}"
   ]
  },
  {
   "cell_type": "code",
   "execution_count": 16,
   "id": "a2a21354",
   "metadata": {},
   "outputs": [],
   "source": [
    "List<String> bannedSites = new ArrayList<String>(Arrays.asList(\"the hub\", \"888.com\"));"
   ]
  },
  {
   "cell_type": "code",
   "execution_count": 17,
   "id": "7989c46e",
   "metadata": {},
   "outputs": [],
   "source": [
    "class ProxyProxy implements IProxy {\n",
    "    private List<String> hosts = new ArrayList<String>();\n",
    "    private IProxy theRealProxy;\n",
    "    \n",
    "    public ProxyProxy(List<String> hosts)\n",
    "    {\n",
    "        this.hosts = hosts;\n",
    "    }\n",
    "    \n",
    "    public void checkHosts(String site)\n",
    "    {\n",
    "        if (theRealProxy == null) {\n",
    "            theRealProxy = new RealProxy(hosts);\n",
    "        }\n",
    "        \n",
    "        theRealProxy.checkHosts(site);\n",
    "    }\n",
    "}"
   ]
  },
  {
   "cell_type": "code",
   "execution_count": 20,
   "id": "ca3c8b72",
   "metadata": {},
   "outputs": [],
   "source": [
    "IProxy libraryProxy = new ProxyProxy(bannedSites);"
   ]
  },
  {
   "cell_type": "code",
   "execution_count": 21,
   "id": "bbdaee17",
   "metadata": {},
   "outputs": [
    {
     "name": "stdout",
     "output_type": "stream",
     "text": [
      "Access denied\n"
     ]
    }
   ],
   "source": [
    "libraryProxy.checkHosts(\"the hub\");"
   ]
  },
  {
   "cell_type": "code",
   "execution_count": 22,
   "id": "62bcead3",
   "metadata": {},
   "outputs": [
    {
     "name": "stdout",
     "output_type": "stream",
     "text": [
      "Site not blacklisted\n"
     ]
    }
   ],
   "source": [
    "libraryProxy.checkHosts(\"google.com\");"
   ]
  }
 ],
 "metadata": {
  "kernelspec": {
   "display_name": "Java",
   "language": "java",
   "name": "java"
  },
  "language_info": {
   "codemirror_mode": "java",
   "file_extension": ".jshell",
   "mimetype": "text/x-java-source",
   "name": "Java",
   "pygments_lexer": "java",
   "version": "11.0.13+8"
  },
  "toc": {
   "base_numbering": 1,
   "nav_menu": {},
   "number_sections": true,
   "sideBar": true,
   "skip_h1_title": true,
   "title_cell": "Table of Contents",
   "title_sidebar": "Contents",
   "toc_cell": true,
   "toc_position": {},
   "toc_section_display": true,
   "toc_window_display": true
  }
 },
 "nbformat": 4,
 "nbformat_minor": 5
}
