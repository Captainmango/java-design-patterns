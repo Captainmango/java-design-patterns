{
 "cells": [
  {
   "cell_type": "markdown",
   "id": "b4ed976a",
   "metadata": {
    "toc": true
   },
   "source": [
    "<h1>Table of Contents<span class=\"tocSkip\"></span></h1>\n",
    "<div class=\"toc\"><ul class=\"toc-item\"><li><span><a href=\"#Intro\" data-toc-modified-id=\"Intro-1\"><span class=\"toc-item-num\">1&nbsp;&nbsp;</span>Intro</a></span></li><li><span><a href=\"#Implementation\" data-toc-modified-id=\"Implementation-2\"><span class=\"toc-item-num\">2&nbsp;&nbsp;</span>Implementation</a></span></li></ul></div>"
   ]
  },
  {
   "cell_type": "markdown",
   "id": "c954685d",
   "metadata": {},
   "source": [
    "# Facade"
   ]
  },
  {
   "cell_type": "markdown",
   "id": "e580d0bb",
   "metadata": {},
   "source": [
    "## Intro"
   ]
  },
  {
   "cell_type": "markdown",
   "id": "4968a3ad",
   "metadata": {},
   "source": [
    "This design pattern provides a unified interface to a set of bits in a system. It defines a higher level thing that makes it easier to access the subsystem, abstracting the complexities away. Just like a facade in the real world, the facade pattern hides background or underlying details"
   ]
  },
  {
   "cell_type": "markdown",
   "id": "f59d1a17",
   "metadata": {},
   "source": [
    "This is best used to make it easier to interact with a potentially complex system."
   ]
  },
  {
   "cell_type": "markdown",
   "id": "0a61a3af",
   "metadata": {},
   "source": [
    "The pattern can be considered like a helper for client side apps. It doesn't hide the subsystem details from the client, simply makes them easier to use.\n",
    "\n",
    "It can be applied at any point, but N.B. that it cannot be extended once out there, so should really be used once the system is complex enough to want to extract those details away."
   ]
  },
  {
   "cell_type": "markdown",
   "id": "c7f5126e",
   "metadata": {},
   "source": [
    "A facade allows us to structure things to remove complexity from a subsystem while not losing any functionality."
   ]
  },
  {
   "cell_type": "markdown",
   "id": "b6692bd8",
   "metadata": {},
   "source": [
    "Advantages to the pattern are:\n",
    "* Shields underlying system components\n",
    "* Produces loose coupling of system components\n",
    "* Help produce layers in the system\n",
    "* Reduces compilation dependencies"
   ]
  },
  {
   "cell_type": "markdown",
   "id": "16f37148",
   "metadata": {},
   "source": [
    "## Implementation"
   ]
  },
  {
   "cell_type": "code",
   "execution_count": 9,
   "id": "65d57ebd",
   "metadata": {},
   "outputs": [],
   "source": [
    "class Thing1 {\n",
    "    public void complexThing()\n",
    "    {\n",
    "        System.out.println(\"Doing complex thing\");\n",
    "    }\n",
    "}"
   ]
  },
  {
   "cell_type": "code",
   "execution_count": 10,
   "id": "27a451d9",
   "metadata": {},
   "outputs": [],
   "source": [
    "class Thing2 {\n",
    "    public void complexThing2()\n",
    "    {\n",
    "        System.out.println(\"Doing another complex thing\");\n",
    "    }\n",
    "}"
   ]
  },
  {
   "cell_type": "code",
   "execution_count": 11,
   "id": "6cc26657",
   "metadata": {},
   "outputs": [],
   "source": [
    "class Thing3 {\n",
    "    public void seriouslyComplexThing()\n",
    "    {\n",
    "        System.out.println(\"Doing a seriously complex thing\");\n",
    "    }\n",
    "}"
   ]
  },
  {
   "cell_type": "code",
   "execution_count": 22,
   "id": "dbd2ce83",
   "metadata": {},
   "outputs": [],
   "source": [
    "class ThingFacade {\n",
    "    Thing1 t1;\n",
    "    Thing2 t2;\n",
    "    Thing3 t3;\n",
    "    \n",
    "    // Instances should exist, but can use a better way of setting them\n",
    "    \n",
    "    public void setThing1(Thing1 t1)\n",
    "    {\n",
    "        this.t1 = t1;\n",
    "    }\n",
    "    \n",
    "    public void setThing2(Thing2 t2)\n",
    "    {\n",
    "        this.t2 = t2;\n",
    "    }\n",
    "    \n",
    "    public void setThing3(Thing3 t3)\n",
    "    {\n",
    "        this.t3 = t3;\n",
    "    }\n",
    "    \n",
    "    public void doingTheReallyComplexThing()\n",
    "    {\n",
    "        t1.complexThing();\n",
    "        t2.complexThing2();\n",
    "        t3.seriouslyComplexThing();\n",
    "    }\n",
    "}"
   ]
  },
  {
   "cell_type": "code",
   "execution_count": 23,
   "id": "0868d701",
   "metadata": {},
   "outputs": [],
   "source": [
    "ThingFacade myFacade = new ThingFacade();"
   ]
  },
  {
   "cell_type": "code",
   "execution_count": 24,
   "id": "8f473f95",
   "metadata": {},
   "outputs": [],
   "source": [
    "myFacade.setThing1(new Thing1());\n",
    "myFacade.setThing2(new Thing2());\n",
    "myFacade.setThing3(new Thing3());\n",
    "\n",
    "// Don't need to do this normally, \n",
    "// could create hard deps or use DI/ better looking builder pattern"
   ]
  },
  {
   "cell_type": "code",
   "execution_count": 25,
   "id": "f324716b",
   "metadata": {},
   "outputs": [
    {
     "name": "stdout",
     "output_type": "stream",
     "text": [
      "Doing complex thing\n",
      "Doing another complex thing\n",
      "Doing a seriously complex thing\n"
     ]
    }
   ],
   "source": [
    "myFacade.doingTheReallyComplexThing();"
   ]
  }
 ],
 "metadata": {
  "kernelspec": {
   "display_name": "Java",
   "language": "java",
   "name": "java"
  },
  "language_info": {
   "codemirror_mode": "java",
   "file_extension": ".jshell",
   "mimetype": "text/x-java-source",
   "name": "Java",
   "pygments_lexer": "java",
   "version": "11.0.13+8"
  },
  "toc": {
   "base_numbering": 1,
   "nav_menu": {},
   "number_sections": true,
   "sideBar": true,
   "skip_h1_title": true,
   "title_cell": "Table of Contents",
   "title_sidebar": "Contents",
   "toc_cell": true,
   "toc_position": {},
   "toc_section_display": true,
   "toc_window_display": true
  }
 },
 "nbformat": 4,
 "nbformat_minor": 5
}
