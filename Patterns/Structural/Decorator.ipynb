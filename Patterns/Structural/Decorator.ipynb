{
 "cells": [
  {
   "cell_type": "markdown",
   "id": "7952ff9d",
   "metadata": {
    "toc": true
   },
   "source": [
    "<h1>Table of Contents<span class=\"tocSkip\"></span></h1>\n",
    "<div class=\"toc\"><ul class=\"toc-item\"><li><span><a href=\"#Intro\" data-toc-modified-id=\"Intro-1\"><span class=\"toc-item-num\">1&nbsp;&nbsp;</span>Intro</a></span></li><li><span><a href=\"#Implementation\" data-toc-modified-id=\"Implementation-2\"><span class=\"toc-item-num\">2&nbsp;&nbsp;</span>Implementation</a></span></li><li><span><a href=\"#Example\" data-toc-modified-id=\"Example-3\"><span class=\"toc-item-num\">3&nbsp;&nbsp;</span>Example</a></span></li></ul></div>"
   ]
  },
  {
   "cell_type": "markdown",
   "id": "1d62252d",
   "metadata": {},
   "source": [
    "# Decorator"
   ]
  },
  {
   "cell_type": "markdown",
   "id": "5772376c",
   "metadata": {},
   "source": [
    "## Intro"
   ]
  },
  {
   "cell_type": "markdown",
   "id": "f52e5ba4",
   "metadata": {},
   "source": [
    "The decorator pattern does is allow you to attach additional responsibilities to an object without altering its structure. This is an alternative to sub-classing (extending an existing object).\n",
    "\n",
    "The main principle of this patter is to not modify existing functionalities. however, extension is fair game. Basically follow the O from SOLID."
   ]
  },
  {
   "cell_type": "markdown",
   "id": "78443712",
   "metadata": {},
   "source": [
    "The decorator is often used to modify the functionality of an object at runtime. This means that other instances of the class are not affected and only the specific object specified has the extension applied."
   ]
  },
  {
   "cell_type": "markdown",
   "id": "561c0e90",
   "metadata": {},
   "source": [
    "The way to know how to choose between using a decorator or inheritance (sub-classing) is whether we want things set at run time or not. E.g. if we had a property that was dependent on what user started the system, this would be better handled in a decorator, so we didn't need to do complex stuff to get things working."
   ]
  },
  {
   "cell_type": "markdown",
   "id": "9ed6423b",
   "metadata": {},
   "source": [
    "A good example is in user interface toolkits. Decorators are often used to control how things look or work."
   ]
  },
  {
   "cell_type": "markdown",
   "id": "07e33cec",
   "metadata": {},
   "source": [
    "Advantages to the pattern are:\n",
    "* Can add functionality incrementally\n",
    "* Can add functionality at run time\n",
    "* More flexible and therefor more robust"
   ]
  },
  {
   "cell_type": "markdown",
   "id": "e9fa7b9e",
   "metadata": {},
   "source": [
    "One drawback is that the pattern can result in a large number of smaller classes that can be somewhat difficult to manage. Modern IDEs help with this massively, but it is still a concern."
   ]
  },
  {
   "cell_type": "markdown",
   "id": "9ae2512e",
   "metadata": {},
   "source": [
    "## Implementation"
   ]
  },
  {
   "cell_type": "code",
   "execution_count": 7,
   "id": "7ab829d6",
   "metadata": {},
   "outputs": [],
   "source": [
    "// Thing to be extended\n",
    "\n",
    "abstract class Component {\n",
    "    public abstract void doJob();\n",
    "}"
   ]
  },
  {
   "cell_type": "code",
   "execution_count": 8,
   "id": "55b8c54c",
   "metadata": {},
   "outputs": [],
   "source": [
    "// An instance of the thing that is going to be extended\n",
    "\n",
    "class ConcreteComponent extends Component {\n",
    "    @Override\n",
    "    public void doJob(){\n",
    "        System.out.println(\"This is a job being done\");\n",
    "    }\n",
    "}"
   ]
  },
  {
   "cell_type": "code",
   "execution_count": 15,
   "id": "deb4dc26",
   "metadata": {},
   "outputs": [],
   "source": [
    "// The decorator abstract (this will wrap the thing we're decorating)\n",
    "\n",
    "abstract class AbstractDecorator extends Component {\n",
    "    protected Component comp;\n",
    "    \n",
    "    public void setTheComponent(Component comp) {\n",
    "        this.comp = comp;\n",
    "    }\n",
    "    \n",
    "    public void doJob(){\n",
    "        if (comp != null){\n",
    "            comp.doJob();\n",
    "        }\n",
    "    }\n",
    "}"
   ]
  },
  {
   "cell_type": "code",
   "execution_count": 16,
   "id": "deb8a733",
   "metadata": {},
   "outputs": [],
   "source": [
    "// The decorator in action\n",
    "\n",
    "class ConcreteDecorator extends AbstractDecorator {\n",
    "    public void doJob(){\n",
    "        super.doJob();\n",
    "        System.out.println(\"This is another thing being done maybe\");\n",
    "    }\n",
    "}"
   ]
  },
  {
   "cell_type": "code",
   "execution_count": 17,
   "id": "d4e81974",
   "metadata": {},
   "outputs": [],
   "source": [
    "Component myComp = new ConcreteComponent();\n",
    "ConcreteDecorator decoratedComp = new ConcreteDecorator();"
   ]
  },
  {
   "cell_type": "code",
   "execution_count": 18,
   "id": "19b3edd9",
   "metadata": {},
   "outputs": [],
   "source": [
    "decoratedComp.setTheComponent(myComp);"
   ]
  },
  {
   "cell_type": "code",
   "execution_count": 19,
   "id": "15348a10",
   "metadata": {},
   "outputs": [
    {
     "name": "stdout",
     "output_type": "stream",
     "text": [
      "This is a job being done\n",
      "This is another thing being done maybe\n"
     ]
    }
   ],
   "source": [
    "decoratedComp.doJob();"
   ]
  },
  {
   "cell_type": "markdown",
   "id": "06c20c53",
   "metadata": {},
   "source": [
    "We can also decorate a decorator, as it is extending the abstract type we are using for the component."
   ]
  },
  {
   "cell_type": "code",
   "execution_count": 20,
   "id": "659bec84",
   "metadata": {},
   "outputs": [],
   "source": [
    "ConcreteDecorator newDec = new ConcreteDecorator();"
   ]
  },
  {
   "cell_type": "code",
   "execution_count": 22,
   "id": "fff034a5",
   "metadata": {},
   "outputs": [],
   "source": [
    "newDec.setTheComponent(decoratedComp);"
   ]
  },
  {
   "cell_type": "code",
   "execution_count": 23,
   "id": "7e33767e",
   "metadata": {},
   "outputs": [
    {
     "name": "stdout",
     "output_type": "stream",
     "text": [
      "This is a job being done\n",
      "This is another thing being done maybe\n",
      "This is another thing being done maybe\n"
     ]
    }
   ],
   "source": [
    "newDec.doJob();"
   ]
  },
  {
   "cell_type": "markdown",
   "id": "032f5635",
   "metadata": {},
   "source": [
    "With this, we can continually add decorators. The issue with this though is that the type is not correct as per the original abstract."
   ]
  },
  {
   "cell_type": "code",
   "execution_count": 24,
   "id": "622d600c",
   "metadata": {},
   "outputs": [],
   "source": [
    "Component newComp = new ConcreteDecorator();"
   ]
  },
  {
   "cell_type": "code",
   "execution_count": 25,
   "id": "6171370e",
   "metadata": {},
   "outputs": [
    {
     "ename": "CompilationException",
     "evalue": "",
     "output_type": "error",
     "traceback": [
      "\u001b[1m\u001b[30m|   \u001b[1m\u001b[30m\u001b[0m\u001b[1m\u001b[30m\u001b[41mnewComp.setTheComponent\u001b[0m\u001b[1m\u001b[30m(newDec);\u001b[0m",
      "\u001b[1m\u001b[31mcannot find symbol\u001b[0m",
      "\u001b[1m\u001b[31m  symbol:   method setTheComponent(ConcreteDecorator)\u001b[0m",
      ""
     ]
    }
   ],
   "source": [
    "newComp.setTheComponent(newDec);"
   ]
  },
  {
   "cell_type": "markdown",
   "id": "a0c4d589",
   "metadata": {},
   "source": [
    "If we need the type to be what we need, we'll need to cast the output or coerce to class definition as above. Decorators will need to be created with the correct class always."
   ]
  },
  {
   "cell_type": "markdown",
   "id": "9749c0a5",
   "metadata": {},
   "source": [
    "## Example"
   ]
  },
  {
   "cell_type": "code",
   "execution_count": 3,
   "id": "99968a5a",
   "metadata": {},
   "outputs": [],
   "source": [
    "abstract class Shape {\n",
    "    abstract void draw();\n",
    "}"
   ]
  },
  {
   "cell_type": "code",
   "execution_count": 4,
   "id": "7615c2fb",
   "metadata": {},
   "outputs": [],
   "source": [
    "class Rectangle extends Shape {\n",
    "    public void draw(){\n",
    "        System.out.println(\"This is a rectangle!\");\n",
    "    }\n",
    "}"
   ]
  },
  {
   "cell_type": "code",
   "execution_count": 6,
   "id": "164c7937",
   "metadata": {},
   "outputs": [],
   "source": [
    "abstract class ShapeDecorator extends Shape {\n",
    "    protected Shape shape;\n",
    "    \n",
    "    public void setShape(Shape shape){\n",
    "        this.shape = shape;\n",
    "    }\n",
    "    \n",
    "    public void draw(){\n",
    "        if (shape != null) {\n",
    "            shape.draw();\n",
    "        }\n",
    "    }\n",
    "}"
   ]
  },
  {
   "cell_type": "code",
   "execution_count": 7,
   "id": "09c1158b",
   "metadata": {},
   "outputs": [],
   "source": [
    "class ShapeDecoratorImpl extends ShapeDecorator {\n",
    "    public void draw(){\n",
    "        super.draw();\n",
    "        System.out.println(\"That drawing is sick!!!\");\n",
    "    }\n",
    "}"
   ]
  },
  {
   "cell_type": "code",
   "execution_count": 8,
   "id": "f8ee0ca8",
   "metadata": {},
   "outputs": [],
   "source": [
    "Shape myRect = new Rectangle();"
   ]
  },
  {
   "cell_type": "code",
   "execution_count": 9,
   "id": "4842641c",
   "metadata": {},
   "outputs": [],
   "source": [
    "ShapeDecorator sickRect = new ShapeDecoratorImpl();"
   ]
  },
  {
   "cell_type": "code",
   "execution_count": 10,
   "id": "239c2e64",
   "metadata": {},
   "outputs": [],
   "source": [
    "sickRect.setShape(myRect);"
   ]
  },
  {
   "cell_type": "code",
   "execution_count": 11,
   "id": "346f06ee",
   "metadata": {},
   "outputs": [
    {
     "name": "stdout",
     "output_type": "stream",
     "text": [
      "This is a rectangle!\n",
      "That drawing is sick!!!\n"
     ]
    }
   ],
   "source": [
    "sickRect.draw();"
   ]
  },
  {
   "cell_type": "code",
   "execution_count": 12,
   "id": "59db55bf",
   "metadata": {},
   "outputs": [
    {
     "name": "stdout",
     "output_type": "stream",
     "text": [
      "This is a rectangle!\n"
     ]
    }
   ],
   "source": [
    "myRect.draw();"
   ]
  },
  {
   "cell_type": "code",
   "execution_count": null,
   "id": "94558657",
   "metadata": {},
   "outputs": [],
   "source": []
  }
 ],
 "metadata": {
  "kernelspec": {
   "display_name": "Java",
   "language": "java",
   "name": "java"
  },
  "language_info": {
   "codemirror_mode": "java",
   "file_extension": ".jshell",
   "mimetype": "text/x-java-source",
   "name": "Java",
   "pygments_lexer": "java",
   "version": "11.0.13+8"
  },
  "toc": {
   "base_numbering": 1,
   "nav_menu": {},
   "number_sections": true,
   "sideBar": true,
   "skip_h1_title": true,
   "title_cell": "Table of Contents",
   "title_sidebar": "Contents",
   "toc_cell": true,
   "toc_position": {},
   "toc_section_display": true,
   "toc_window_display": true
  }
 },
 "nbformat": 4,
 "nbformat_minor": 5
}
