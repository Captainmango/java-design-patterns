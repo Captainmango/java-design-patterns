{
 "cells": [
  {
   "cell_type": "markdown",
   "id": "ddb6d344",
   "metadata": {
    "toc": true
   },
   "source": [
    "<h1>Table of Contents<span class=\"tocSkip\"></span></h1>\n",
    "<div class=\"toc\"><ul class=\"toc-item\"><li><span><a href=\"#Intro\" data-toc-modified-id=\"Intro-1\"><span class=\"toc-item-num\">1&nbsp;&nbsp;</span>Intro</a></span></li><li><span><a href=\"#Implementation\" data-toc-modified-id=\"Implementation-2\"><span class=\"toc-item-num\">2&nbsp;&nbsp;</span>Implementation</a></span></li></ul></div>"
   ]
  },
  {
   "cell_type": "markdown",
   "id": "9cbce144",
   "metadata": {},
   "source": [
    "# Bridge"
   ]
  },
  {
   "cell_type": "markdown",
   "id": "4c7222ea",
   "metadata": {},
   "source": [
    "## Intro"
   ]
  },
  {
   "cell_type": "markdown",
   "id": "0fef56e5",
   "metadata": {},
   "source": [
    "The bridge will decouple an abstraction from its implementation so that the two can vary independently.\n",
    "\n",
    "It does this by providing a link between the abstract class and it's implementation. We should be clear though, it does not work with derivations. It only works with concrete classes."
   ]
  },
  {
   "cell_type": "markdown",
   "id": "feb9c2ab",
   "metadata": {},
   "source": [
    "The pattern helps us make concrete class functionalities independent from the implementer. This means we can alter the classes independently without affecting either one"
   ]
  },
  {
   "cell_type": "markdown",
   "id": "def5afdf",
   "metadata": {},
   "source": [
    "We'd use the bridge pattern to:\n",
    "\n",
    "- avoid a permanent binding between an abstraction and its implementation. This is most common when the implementation is selected at run-time.\n",
    "- When both abstractions and their implementations should be extensible.\n",
    "- When any changes to the implementation or abstraction should not affect clients\n",
    "- When you want to hide the implementation\n",
    "- We have a large number of implementations of an abstract"
   ]
  },
  {
   "cell_type": "markdown",
   "id": "ce1adc1e",
   "metadata": {},
   "source": [
    "Advantages of the pattern are:\n",
    "* Decoupling of the implementation\n",
    "* Abstractions and implementations can be extended independently\n",
    "* Changes in one class do not affect the other"
   ]
  },
  {
   "cell_type": "markdown",
   "id": "2864b001",
   "metadata": {},
   "source": [
    "## Implementation"
   ]
  },
  {
   "cell_type": "code",
   "execution_count": 1,
   "id": "604faff5",
   "metadata": {},
   "outputs": [],
   "source": [
    "abstract class Workshop {\n",
    "    abstract void work();\n",
    "}"
   ]
  },
  {
   "cell_type": "code",
   "execution_count": 3,
   "id": "46e919e2",
   "metadata": {},
   "outputs": [],
   "source": [
    "class Produce extends Workshop {\n",
    "    @Override\n",
    "    public void work(){\n",
    "        System.out.println(\"Produce\");\n",
    "    }\n",
    "}"
   ]
  },
  {
   "cell_type": "code",
   "execution_count": 4,
   "id": "2b5505cf",
   "metadata": {},
   "outputs": [],
   "source": [
    "class Assemble extends Workshop {\n",
    "    @Override\n",
    "    public void work(){\n",
    "        System.out.println(\"Assemble\");\n",
    "    }\n",
    "}"
   ]
  },
  {
   "cell_type": "code",
   "execution_count": 5,
   "id": "bc80e77a",
   "metadata": {},
   "outputs": [],
   "source": [
    "abstract class Vehicle {\n",
    "    protected Workshop workshop1;\n",
    "    protected Workshop workshop2;\n",
    "    \n",
    "    // This is the bridge\n",
    "    protected Vehicle(Workshop workshop1, Workshop workshop2){\n",
    "        this.workshop1 = workshop1;\n",
    "        this.workshop2 = workshop2;\n",
    "    }\n",
    "    \n",
    "    abstract public void manufacture();\n",
    "}"
   ]
  },
  {
   "cell_type": "code",
   "execution_count": 7,
   "id": "46b247b6",
   "metadata": {},
   "outputs": [],
   "source": [
    "class Car extends Vehicle{\n",
    "    public Car(Workshop workshop1, Workshop workshop2){\n",
    "        super(workshop1, workshop2);\n",
    "    }\n",
    "    \n",
    "    @Override\n",
    "    public void manufacture(){\n",
    "        System.out.println(\"Making a car\");\n",
    "        workshop1.work();\n",
    "        workshop2.work();\n",
    "    }\n",
    "}"
   ]
  },
  {
   "cell_type": "code",
   "execution_count": 8,
   "id": "4788d3f8",
   "metadata": {},
   "outputs": [
    {
     "name": "stdout",
     "output_type": "stream",
     "text": [
      "Making a car\n",
      "Produce\n",
      "Assemble\n"
     ]
    }
   ],
   "source": [
    "Vehicle myCar = new Car(new Produce(), new Assemble());\n",
    "myCar.manufacture();"
   ]
  },
  {
   "cell_type": "markdown",
   "id": "c0e0a462",
   "metadata": {},
   "source": [
    "The preamble of this pattern makes it so much more complicated than it needs to be. It is just DI, but upstream. "
   ]
  },
  {
   "cell_type": "markdown",
   "id": "36db59af",
   "metadata": {},
   "source": [
    "The abstract classes of each thing can be changed and they will affect things down stream. Because we use the abstract class as a type, we can create concrete versions of it easily. Inside of the class that uses the bridge, the constructor called is the parent one. We could also do some class specific stuff here and not break anything. This is because the parent is the thing that does the work."
   ]
  },
  {
   "cell_type": "markdown",
   "id": "26d43a99",
   "metadata": {},
   "source": [
    "In our example, we have the Workshop types that are "
   ]
  }
 ],
 "metadata": {
  "kernelspec": {
   "display_name": "Java",
   "language": "java",
   "name": "java"
  },
  "language_info": {
   "codemirror_mode": "java",
   "file_extension": ".jshell",
   "mimetype": "text/x-java-source",
   "name": "Java",
   "pygments_lexer": "java",
   "version": "11.0.13+8"
  },
  "toc": {
   "base_numbering": 1,
   "nav_menu": {},
   "number_sections": true,
   "sideBar": true,
   "skip_h1_title": true,
   "title_cell": "Table of Contents",
   "title_sidebar": "Contents",
   "toc_cell": true,
   "toc_position": {},
   "toc_section_display": true,
   "toc_window_display": true
  }
 },
 "nbformat": 4,
 "nbformat_minor": 5
}
