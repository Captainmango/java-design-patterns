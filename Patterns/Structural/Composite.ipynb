{
 "cells": [
  {
   "cell_type": "markdown",
   "id": "f9c888b4",
   "metadata": {
    "toc": true
   },
   "source": [
    "<h1>Table of Contents<span class=\"tocSkip\"></span></h1>\n",
    "<div class=\"toc\"><ul class=\"toc-item\"><li><span><a href=\"#Intro\" data-toc-modified-id=\"Intro-1\"><span class=\"toc-item-num\">1&nbsp;&nbsp;</span>Intro</a></span></li><li><span><a href=\"#Implementation\" data-toc-modified-id=\"Implementation-2\"><span class=\"toc-item-num\">2&nbsp;&nbsp;</span>Implementation</a></span></li></ul></div>"
   ]
  },
  {
   "cell_type": "markdown",
   "id": "3502ebf1",
   "metadata": {},
   "source": [
    "# Composite"
   ]
  },
  {
   "cell_type": "markdown",
   "id": "1682c53c",
   "metadata": {},
   "source": [
    "## Intro"
   ]
  },
  {
   "cell_type": "markdown",
   "id": "706405a4",
   "metadata": {},
   "source": [
    "The composite design patterns composes objects into tree structures to represent whole hierarchies. This allows clients to treat compositions the same way"
   ]
  },
  {
   "cell_type": "markdown",
   "id": "87238297",
   "metadata": {},
   "source": [
    "A composite is an object designed as a group of one or more similar objects that have similar functionality. The client can use them in the same way as it would any other of the composition."
   ]
  },
  {
   "cell_type": "markdown",
   "id": "9136d742",
   "metadata": {},
   "source": [
    "The way we do this is by using a tree data structure with nodes and leaves. It looks a little like this:\n",
    "\n",
    "\n",
    "            c\n",
    "           / \\\n",
    "          c   c\n",
    "         / \\   \\\n",
    "        L   L   L"
   ]
  },
  {
   "cell_type": "markdown",
   "id": "b05932ab",
   "metadata": {},
   "source": [
    "The nodes, represented by the letter c is asked to perform a task. In this case the c is a composite too.\n",
    "\n",
    "The composite, or leaf, can be treated the same way and is considered the same thing within the system. This means we can apply the same operations on either thing without issue.\n",
    "\n"
   ]
  },
  {
   "cell_type": "markdown",
   "id": "3bcff701",
   "metadata": {},
   "source": [
    "This pattern solves a potentially difficult issue with the tree structure. Because trees have nodes and leaves, clients have to understand the differences between both. this can lead to code that is error prone if there are not protections in place to prevent misunderstandings"
   ]
  },
  {
   "cell_type": "markdown",
   "id": "f12f2d49",
   "metadata": {},
   "source": [
    "The composite pattern solves this by providing an interface that allows us to treat all objects uniformly"
   ]
  },
  {
   "cell_type": "markdown",
   "id": "9bdd2f31",
   "metadata": {},
   "source": [
    "This means that a single object can be treated as a group and vice versa. This is the purpose of the pattern."
   ]
  },
  {
   "cell_type": "markdown",
   "id": "6fc1e919",
   "metadata": {},
   "source": [
    "A good real world example is a business. Businesses have departments and departments have employees. There can even be sub units in a department that have teams. Sub units and employees are roughly the same thing, as they are instances of people working in concert, or individual contributers"
   ]
  },
  {
   "cell_type": "markdown",
   "id": "81c9f133",
   "metadata": {},
   "source": [
    "Advantages to the pattern are:\n",
    "* Clients can ignore the difference between objects in the composite\n",
    "* lowers the number of objects needed due to overlap in functionality\n",
    "* Keeps memory leaks and errors at bay due to better object management\n",
    "* Removes the need to create objects for use constantly"
   ]
  },
  {
   "cell_type": "markdown",
   "id": "91ccec1f",
   "metadata": {},
   "source": [
    "A key drawback is that the type system doesn't constrain object use, so we'd need to use runtime checks to prevent object misuse. This isn't difficult, but is a concern"
   ]
  },
  {
   "cell_type": "markdown",
   "id": "ac1d2b2f",
   "metadata": {},
   "source": [
    "## Implementation"
   ]
  },
  {
   "cell_type": "code",
   "execution_count": 1,
   "id": "aea3a4e9",
   "metadata": {},
   "outputs": [],
   "source": [
    "interface Employee {\n",
    "    public void showDetails();\n",
    "}"
   ]
  },
  {
   "cell_type": "code",
   "execution_count": 3,
   "id": "4430ce05",
   "metadata": {},
   "outputs": [],
   "source": [
    "class Developer implements Employee {\n",
    "    private String name;\n",
    "    private long Id;\n",
    "    \n",
    "    public Developer(long Id, String name){\n",
    "        this.Id = Id;\n",
    "        this.name = name;\n",
    "    }\n",
    "    \n",
    "    public void showDetails(){\n",
    "        System.out.println(this.Id + \" \" + this.name);\n",
    "    }\n",
    "}"
   ]
  },
  {
   "cell_type": "code",
   "execution_count": 4,
   "id": "3cb8c819",
   "metadata": {},
   "outputs": [],
   "source": [
    "class Manager implements Employee {\n",
    "    private String name;\n",
    "    private long Id;\n",
    "    \n",
    "    public Manager(long Id, String name){\n",
    "        this.Id = Id;\n",
    "        this.name = name;\n",
    "    }\n",
    "    \n",
    "    public void showDetails(){\n",
    "        System.out.println(this.Id + \" \" + this.name);\n",
    "    }\n",
    "}"
   ]
  },
  {
   "cell_type": "code",
   "execution_count": 6,
   "id": "427e9a49",
   "metadata": {},
   "outputs": [],
   "source": [
    "class Department implements Employee {\n",
    "    private List<Employee> empList = new ArrayList<Employee>();\n",
    "    \n",
    "    public void showDetails(){\n",
    "        for (Employee emp : empList) {\n",
    "            emp.showDetails();\n",
    "        }\n",
    "    }\n",
    "    \n",
    "    public void addEmp(Employee emp){\n",
    "        empList.add(emp);\n",
    "    }\n",
    "    \n",
    "    public void removeEmp(Employee emp){\n",
    "        empList.remove(emp);\n",
    "    }\n",
    "}"
   ]
  },
  {
   "cell_type": "code",
   "execution_count": 10,
   "id": "583d5908",
   "metadata": {},
   "outputs": [],
   "source": [
    "Employee myManager = new Developer(1, \"Apos Spanos\");\n",
    "Employee myDeveloper = new Developer(2, \"Edwardo\");"
   ]
  },
  {
   "cell_type": "code",
   "execution_count": 11,
   "id": "619e1850",
   "metadata": {},
   "outputs": [],
   "source": [
    "Department companyDir = new Department();\n",
    "companyDir.addEmp(myManager);\n",
    "companyDir.addEmp(myDeveloper);"
   ]
  },
  {
   "cell_type": "code",
   "execution_count": 12,
   "id": "c24ffec7",
   "metadata": {},
   "outputs": [
    {
     "name": "stdout",
     "output_type": "stream",
     "text": [
      "1 Apos Spanos\n",
      "2 Edwardo\n"
     ]
    }
   ],
   "source": [
    "companyDir.showDetails();"
   ]
  },
  {
   "cell_type": "code",
   "execution_count": 13,
   "id": "6b6cba65",
   "metadata": {},
   "outputs": [],
   "source": [
    "Employee bigBoss = new Manager(3, \"Jack Wall\");"
   ]
  },
  {
   "cell_type": "code",
   "execution_count": 15,
   "id": "a6045133",
   "metadata": {},
   "outputs": [],
   "source": [
    "Department orgStruct = new Department();"
   ]
  },
  {
   "cell_type": "code",
   "execution_count": 16,
   "id": "a4597331",
   "metadata": {},
   "outputs": [],
   "source": [
    "orgStruct.addEmp(bigBoss);"
   ]
  },
  {
   "cell_type": "code",
   "execution_count": 17,
   "id": "56529d86",
   "metadata": {},
   "outputs": [],
   "source": [
    "orgStruct.addEmp(companyDir);"
   ]
  },
  {
   "cell_type": "code",
   "execution_count": 18,
   "id": "86eae42f",
   "metadata": {},
   "outputs": [
    {
     "name": "stdout",
     "output_type": "stream",
     "text": [
      "3 Jack Wall\n",
      "1 Apos Spanos\n",
      "2 Edwardo\n"
     ]
    }
   ],
   "source": [
    "orgStruct.showDetails();"
   ]
  },
  {
   "cell_type": "code",
   "execution_count": null,
   "id": "02df4b1c",
   "metadata": {},
   "outputs": [],
   "source": []
  }
 ],
 "metadata": {
  "kernelspec": {
   "display_name": "Java",
   "language": "java",
   "name": "java"
  },
  "language_info": {
   "codemirror_mode": "java",
   "file_extension": ".jshell",
   "mimetype": "text/x-java-source",
   "name": "Java",
   "pygments_lexer": "java",
   "version": "11.0.13+8"
  },
  "toc": {
   "base_numbering": 1,
   "nav_menu": {},
   "number_sections": true,
   "sideBar": true,
   "skip_h1_title": true,
   "title_cell": "Table of Contents",
   "title_sidebar": "Contents",
   "toc_cell": true,
   "toc_position": {},
   "toc_section_display": true,
   "toc_window_display": true
  }
 },
 "nbformat": 4,
 "nbformat_minor": 5
}
