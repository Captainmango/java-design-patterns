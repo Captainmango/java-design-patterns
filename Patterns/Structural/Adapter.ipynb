{
 "cells": [
  {
   "cell_type": "markdown",
   "id": "fc7b750e",
   "metadata": {
    "toc": true
   },
   "source": [
    "<h1>Table of Contents<span class=\"tocSkip\"></span></h1>\n",
    "<div class=\"toc\"><ul class=\"toc-item\"><li><span><a href=\"#Intro\" data-toc-modified-id=\"Intro-1\"><span class=\"toc-item-num\">1&nbsp;&nbsp;</span>Intro</a></span></li><li><span><a href=\"#Implementation\" data-toc-modified-id=\"Implementation-2\"><span class=\"toc-item-num\">2&nbsp;&nbsp;</span>Implementation</a></span><ul class=\"toc-item\"><li><span><a href=\"#Object-composition\" data-toc-modified-id=\"Object-composition-2.1\"><span class=\"toc-item-num\">2.1&nbsp;&nbsp;</span>Object composition</a></span></li><li><span><a href=\"#Class-Adapter-(bootleg-way-in-Java)\" data-toc-modified-id=\"Class-Adapter-(bootleg-way-in-Java)-2.2\"><span class=\"toc-item-num\">2.2&nbsp;&nbsp;</span>Class Adapter (bootleg way in Java)</a></span></li></ul></li><li><span><a href=\"#Examples\" data-toc-modified-id=\"Examples-3\"><span class=\"toc-item-num\">3&nbsp;&nbsp;</span>Examples</a></span></li></ul></div>"
   ]
  },
  {
   "cell_type": "markdown",
   "id": "c3bc3ef7",
   "metadata": {},
   "source": [
    "# Adapter"
   ]
  },
  {
   "cell_type": "markdown",
   "id": "00a7bae1",
   "metadata": {},
   "source": [
    "## Intro"
   ]
  },
  {
   "cell_type": "markdown",
   "id": "1b6fbed4",
   "metadata": {},
   "source": [
    "The adapter pattern converts an interface of a class to another that the client expects. It does this by working as a bridge between 2 incompatible types. It's also known as a wrapper.\n",
    "\n",
    "The adapter decouples the client from the implemented interface. it can encapsulate any further changes and does not need to be modified if it ever needs to operate against a different interface.\n",
    "\n",
    "Use of object composition to wrap the adaptee with an altered state. This has the added effect of binding the client to and interface, not an implementation, allowing strongly cohesive code."
   ]
  },
  {
   "cell_type": "markdown",
   "id": "f69c9b26",
   "metadata": {},
   "source": [
    "A real life example is a plug adapter. The adapter sits in between the plug and the plug socket. It doesn't convert power, but it does change the interface of the plug to one that the laptop expects."
   ]
  },
  {
   "cell_type": "markdown",
   "id": "d9122e2d",
   "metadata": {},
   "source": [
    "Deciding when to use an adapter is pretty simple. if the interface of an existing class does not match the one you actually need implemented on the class. For example, if you were trying to integrate a vendor's approach to a problem in your own class, you'd likely need to use an adapter.\n",
    "\n",
    "Another good usecase is when you want to create a reusable class that cooperates with unrelated or unforeseen classes, making your system scalable."
   ]
  },
  {
   "cell_type": "markdown",
   "id": "8e29a337",
   "metadata": {},
   "source": [
    "## Implementation"
   ]
  },
  {
   "cell_type": "markdown",
   "id": "293d0c0b",
   "metadata": {},
   "source": [
    "### Object composition"
   ]
  },
  {
   "cell_type": "code",
   "execution_count": 1,
   "id": "8e616bca",
   "metadata": {},
   "outputs": [],
   "source": [
    "interface Duck {\n",
    "    void quack();\n",
    "    void fly();\n",
    "}"
   ]
  },
  {
   "cell_type": "code",
   "execution_count": 2,
   "id": "d49cd090",
   "metadata": {},
   "outputs": [],
   "source": [
    "class Mallard implements Duck {\n",
    "    public void quack(){\n",
    "        System.out.println(\"Quack\");\n",
    "    }\n",
    "    \n",
    "    public void fly(){\n",
    "        System.out.println(\"The duck is flying\");\n",
    "    }\n",
    "}"
   ]
  },
  {
   "cell_type": "code",
   "execution_count": 3,
   "id": "22fe7c95",
   "metadata": {},
   "outputs": [],
   "source": [
    "interface Turkey {\n",
    "    void gobble();\n",
    "    void hover();\n",
    "}"
   ]
  },
  {
   "cell_type": "code",
   "execution_count": 4,
   "id": "0eef9451",
   "metadata": {},
   "outputs": [],
   "source": [
    "class WildTurkey implements Turkey {\n",
    "    public void gobble(){\n",
    "        System.out.println(\"Gobble, gobble\");\n",
    "    }\n",
    "    \n",
    "    public void hover(){\n",
    "        System.out.println(\"Turkey is hovering\");\n",
    "    }\n",
    "}"
   ]
  },
  {
   "cell_type": "code",
   "execution_count": 5,
   "id": "cfed5055",
   "metadata": {},
   "outputs": [],
   "source": [
    "class DuckAdapter implements Turkey {\n",
    "    Duck duck;\n",
    "    \n",
    "    public DuckAdapter(Duck duck){\n",
    "        this.duck = duck;\n",
    "    }\n",
    "    \n",
    "    public void gobble(){\n",
    "        duck.quack();\n",
    "    }\n",
    "    \n",
    "    public void hover(){\n",
    "        duck.fly();\n",
    "    }\n",
    "}"
   ]
  },
  {
   "cell_type": "code",
   "execution_count": 6,
   "id": "a697d91e",
   "metadata": {},
   "outputs": [],
   "source": [
    "Turkey myTurkey = new WildTurkey();\n",
    "Duck myDuck = new Mallard();"
   ]
  },
  {
   "cell_type": "code",
   "execution_count": 9,
   "id": "1abf98ea",
   "metadata": {},
   "outputs": [],
   "source": [
    "Turkey adaptedTurkey = new DuckAdapter(myDuck);"
   ]
  },
  {
   "cell_type": "code",
   "execution_count": 11,
   "id": "0403fa63",
   "metadata": {},
   "outputs": [
    {
     "name": "stdout",
     "output_type": "stream",
     "text": [
      "Quack\n",
      "The duck is flying\n"
     ]
    }
   ],
   "source": [
    "adaptedTurkey.gobble();\n",
    "adaptedTurkey.hover();"
   ]
  },
  {
   "cell_type": "markdown",
   "id": "39b03bc6",
   "metadata": {},
   "source": [
    "### Class Adapter (bootleg way in Java)"
   ]
  },
  {
   "cell_type": "markdown",
   "id": "a5bc995a",
   "metadata": {},
   "source": [
    "Java doesn't support multiple inheritance, so cannot properly implement Class adapters. (We can get around this a bit). Keep this in mind though as there are situations when it's useful."
   ]
  },
  {
   "cell_type": "code",
   "execution_count": 12,
   "id": "09286139",
   "metadata": {},
   "outputs": [],
   "source": [
    "interface IntegerValueInterface {\n",
    "    public int getInt();\n",
    "}"
   ]
  },
  {
   "cell_type": "code",
   "execution_count": 14,
   "id": "1841eeb6",
   "metadata": {},
   "outputs": [],
   "source": [
    "class IntegerValue implements IntegerValueInterface {\n",
    "    public int getInt(){\n",
    "        return 5;\n",
    "    }\n",
    "}"
   ]
  },
  {
   "cell_type": "code",
   "execution_count": 17,
   "id": "7c3c9859",
   "metadata": {},
   "outputs": [],
   "source": [
    "class ClassAdapter extends IntegerValue {\n",
    "    public int getInt(){\n",
    "        return 2 + super.getInt();\n",
    "    }\n",
    "}"
   ]
  },
  {
   "cell_type": "code",
   "execution_count": 18,
   "id": "f5b99391",
   "metadata": {},
   "outputs": [],
   "source": [
    "IntegerValueInterface iVal = new IntegerValue();\n",
    "IntegerValueInterface iValTwo = new ClassAdapter();"
   ]
  },
  {
   "cell_type": "code",
   "execution_count": 19,
   "id": "83c2c5f1",
   "metadata": {},
   "outputs": [
    {
     "name": "stdout",
     "output_type": "stream",
     "text": [
      "5\n",
      "7\n"
     ]
    }
   ],
   "source": [
    "System.out.println(iVal.getInt());\n",
    "System.out.println(iValTwo.getInt());"
   ]
  },
  {
   "cell_type": "markdown",
   "id": "6fb03b3e",
   "metadata": {},
   "source": [
    "In this example, we're only adapting a single thing, basically creating a simple wrapper. If we wanted to adapt 2 classes to one another, we'd extend the thing we wanted to subclass, then implement the interface of the thing we wished to adapt to.\n",
    "\n",
    "This would mean the class was a subtype of the extension, but had the behaviours of the implemented interface. This would allow it to work as both polymorphically and concretely. This is of course confusing, so we typically stick to object adapters."
   ]
  },
  {
   "cell_type": "markdown",
   "id": "b781712a",
   "metadata": {},
   "source": [
    "## Examples"
   ]
  },
  {
   "cell_type": "code",
   "execution_count": 68,
   "id": "f8114c66",
   "metadata": {},
   "outputs": [],
   "source": [
    "interface MediaPlayer {\n",
    "    void play(String audioType, String filename);\n",
    "    void play(String filename);\n",
    "}"
   ]
  },
  {
   "cell_type": "code",
   "execution_count": 69,
   "id": "0bcfebc9",
   "metadata": {},
   "outputs": [],
   "source": [
    "class AudioPlayer implements MediaPlayer {\n",
    "    public void play(String audioType, String filename){\n",
    "        System.out.println(\"Playing \"+ filename + \" as \" + audioType);\n",
    "    }\n",
    "    \n",
    "    public void play(String filename){\n",
    "        System.out.println(\"Playing \"+ filename + \" as mp3\");\n",
    "    }\n",
    "}"
   ]
  },
  {
   "cell_type": "code",
   "execution_count": 70,
   "id": "a839baa7",
   "metadata": {},
   "outputs": [],
   "source": [
    "interface AdvancedMediaPlayer {\n",
    "    String filename = \"\";\n",
    "    void loadFile(String filename);\n",
    "    void listen();\n",
    "}"
   ]
  },
  {
   "cell_type": "code",
   "execution_count": 71,
   "id": "ab828ed7",
   "metadata": {},
   "outputs": [],
   "source": [
    "class MP4Player implements AdvancedMediaPlayer {\n",
    "    private String filename;\n",
    "\n",
    "    public void loadFile(String filename){\n",
    "        this.filename = filename;\n",
    "    }\n",
    "    \n",
    "    public void listen(){\n",
    "        System.out.println(\"Listening to \" + this.filename);\n",
    "    }\n",
    "}"
   ]
  },
  {
   "cell_type": "code",
   "execution_count": 72,
   "id": "85fb5cce",
   "metadata": {},
   "outputs": [
    {
     "name": "stdout",
     "output_type": "stream",
     "text": [
      "Listening to Static.mp4\n"
     ]
    }
   ],
   "source": [
    "AdvancedMediaPlayer myPlayer = new MP4Player();\n",
    "myPlayer.loadFile(\"Static.mp4\");\n",
    "\n",
    "myPlayer.listen();"
   ]
  },
  {
   "cell_type": "code",
   "execution_count": 75,
   "id": "4e8c104d",
   "metadata": {},
   "outputs": [],
   "source": [
    "class AudioPlayerAdapter implements AdvancedMediaPlayer {\n",
    "    MediaPlayer audioPlayer;\n",
    "    private String filename;\n",
    "    \n",
    "    public AudioPlayerAdapter(MediaPlayer player){\n",
    "        this.audioPlayer = player;\n",
    "    }\n",
    "    \n",
    "    public void loadFile(String filename){\n",
    "        this.filename = filename;\n",
    "    }\n",
    "    \n",
    "    public void listen(){\n",
    "        audioPlayer.play(this.filename);\n",
    "    }\n",
    "} "
   ]
  },
  {
   "cell_type": "code",
   "execution_count": 76,
   "id": "7adb8e76",
   "metadata": {},
   "outputs": [],
   "source": [
    "MediaPlayer myAudio = new AudioPlayer(); \n",
    "AdvancedMediaPlayer myAudioPlayer = new AudioPlayerAdapter(myAudio);"
   ]
  },
  {
   "cell_type": "code",
   "execution_count": 77,
   "id": "f3034f65",
   "metadata": {},
   "outputs": [],
   "source": [
    "myAudioPlayer.loadFile(\"Biggie Smalls\");"
   ]
  },
  {
   "cell_type": "code",
   "execution_count": 79,
   "id": "1a4e802a",
   "metadata": {},
   "outputs": [
    {
     "name": "stdout",
     "output_type": "stream",
     "text": [
      "Playing Biggie Smalls as mp3\n"
     ]
    }
   ],
   "source": [
    "myAudioPlayer.listen();"
   ]
  },
  {
   "cell_type": "code",
   "execution_count": null,
   "id": "ed5ecb38",
   "metadata": {},
   "outputs": [],
   "source": []
  }
 ],
 "metadata": {
  "kernelspec": {
   "display_name": "Java",
   "language": "java",
   "name": "java"
  },
  "language_info": {
   "codemirror_mode": "java",
   "file_extension": ".jshell",
   "mimetype": "text/x-java-source",
   "name": "Java",
   "pygments_lexer": "java",
   "version": "11.0.13+8"
  },
  "toc": {
   "base_numbering": 1,
   "nav_menu": {},
   "number_sections": true,
   "sideBar": true,
   "skip_h1_title": true,
   "title_cell": "Table of Contents",
   "title_sidebar": "Contents",
   "toc_cell": true,
   "toc_position": {},
   "toc_section_display": true,
   "toc_window_display": true
  }
 },
 "nbformat": 4,
 "nbformat_minor": 5
}
