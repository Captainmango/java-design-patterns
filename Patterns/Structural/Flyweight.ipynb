{
 "cells": [
  {
   "cell_type": "markdown",
   "id": "9f5472d5",
   "metadata": {
    "toc": true
   },
   "source": [
    "<h1>Table of Contents<span class=\"tocSkip\"></span></h1>\n",
    "<div class=\"toc\"><ul class=\"toc-item\"><li><span><a href=\"#Intro\" data-toc-modified-id=\"Intro-1\"><span class=\"toc-item-num\">1&nbsp;&nbsp;</span>Intro</a></span><ul class=\"toc-item\"><li><span><a href=\"#Intrinsic-vs-extrinsic-state\" data-toc-modified-id=\"Intrinsic-vs-extrinsic-state-1.1\"><span class=\"toc-item-num\">1.1&nbsp;&nbsp;</span>Intrinsic vs extrinsic state</a></span></li><li><span><a href=\"#Advantages\" data-toc-modified-id=\"Advantages-1.2\"><span class=\"toc-item-num\">1.2&nbsp;&nbsp;</span>Advantages</a></span></li><li><span><a href=\"#Disadvantages\" data-toc-modified-id=\"Disadvantages-1.3\"><span class=\"toc-item-num\">1.3&nbsp;&nbsp;</span>Disadvantages</a></span></li></ul></li><li><span><a href=\"#Implementation\" data-toc-modified-id=\"Implementation-2\"><span class=\"toc-item-num\">2&nbsp;&nbsp;</span>Implementation</a></span></li><li><span><a href=\"#Example\" data-toc-modified-id=\"Example-3\"><span class=\"toc-item-num\">3&nbsp;&nbsp;</span>Example</a></span></li></ul></div>"
   ]
  },
  {
   "cell_type": "markdown",
   "id": "bb0fa2be",
   "metadata": {},
   "source": [
    "# Flyweight"
   ]
  },
  {
   "cell_type": "markdown",
   "id": "99d46947",
   "metadata": {},
   "source": [
    "## Intro"
   ]
  },
  {
   "cell_type": "markdown",
   "id": "291b89d5",
   "metadata": {},
   "source": [
    "The flyweight pattern uses sharing to support a large number of objects efficiently.\n",
    "\n",
    "The pattern is primarily used to reduce the number of objects created, thus reducing memory usage. This is critical in systems that have limited memory usage such as VPS (digital ocean/ Linode) and mobile devices"
   ]
  },
  {
   "cell_type": "markdown",
   "id": "172ee3a1",
   "metadata": {},
   "source": [
    "The pattern tries to reuse existing similar objects by storing them. One instance of a class can be used to produce many virtual instances. If a matching object does not exist, a new one is created.\n",
    "\n",
    "Flyweights are shared and immutable, not being modifiable after construction"
   ]
  },
  {
   "cell_type": "markdown",
   "id": "43d13281",
   "metadata": {},
   "source": [
    "### Intrinsic vs extrinsic state"
   ]
  },
  {
   "cell_type": "markdown",
   "id": "d8d470ed",
   "metadata": {},
   "source": [
    "These are common terms when speaking about this pattern. They are as they sound though, intrinsic means innate to the object in question. This leads to them being shareable. Extrinsic means context dependent and cannot be shared."
   ]
  },
  {
   "cell_type": "markdown",
   "id": "3e3f0e3a",
   "metadata": {},
   "source": [
    "The client will need to define extrinsic state to the flyweight. An example of this would be a word processor. For example, if an editor enters a character, that character has properties (font, weight, size etc). There is no need to create an object for each character entered, so it would be best to use a flyweight so that the objects can be shared. This flyweight could be a Letter class."
   ]
  },
  {
   "cell_type": "markdown",
   "id": "5c651d56",
   "metadata": {},
   "source": [
    "When the letter is entered, we'd simply return the Letter flyweight with its _intrinsic_ values set (font, size, weight). These would be shared across all letters entered into the editor."
   ]
  },
  {
   "cell_type": "markdown",
   "id": "6dceb940",
   "metadata": {},
   "source": [
    "The extrinsic values would be line number and position. These are not native to the letter itself, but depend on the context each letter finds itself in. This means the client (word processor in this case) would need to keep track of the letter's position and line number"
   ]
  },
  {
   "cell_type": "markdown",
   "id": "7507128f",
   "metadata": {},
   "source": [
    "### Advantages"
   ]
  },
  {
   "cell_type": "markdown",
   "id": "1a756ac9",
   "metadata": {},
   "source": [
    "* Reduces memory footprint greatly\n",
    "* Centralises state for virtual objects into a single location\n",
    "* Gives greater control over many class instances"
   ]
  },
  {
   "cell_type": "markdown",
   "id": "f0e30661",
   "metadata": {},
   "source": [
    "### Disadvantages"
   ]
  },
  {
   "cell_type": "markdown",
   "id": "c1de7972",
   "metadata": {},
   "source": [
    "* Single logical instances will not behave independently (all flyweights will act the same way regardless of how they are used)\n",
    "* The flyweight instances cannot be extended"
   ]
  },
  {
   "cell_type": "markdown",
   "id": "298a6ceb",
   "metadata": {},
   "source": [
    "## Implementation"
   ]
  },
  {
   "cell_type": "code",
   "execution_count": 21,
   "id": "0a38a85a",
   "metadata": {},
   "outputs": [],
   "source": [
    "interface IRobot {\n",
    "    void print();\n",
    "    void setColour(String colour);\n",
    "    void getColour();\n",
    "}"
   ]
  },
  {
   "cell_type": "code",
   "execution_count": 22,
   "id": "057917c0",
   "metadata": {},
   "outputs": [],
   "source": [
    "class SmallRobot implements IRobot {\n",
    "    private String colour;\n",
    "\n",
    "    public void print()\n",
    "    {\n",
    "        System.out.println(\"This is a small Robot\");\n",
    "    }\n",
    "    \n",
    "    public void setColour(String colour)\n",
    "    {\n",
    "        this.colour = colour;\n",
    "    }\n",
    "    \n",
    "    public void getColour()\n",
    "    {\n",
    "        System.out.println(this.colour);\n",
    "    }\n",
    "}"
   ]
  },
  {
   "cell_type": "code",
   "execution_count": 23,
   "id": "20acde85",
   "metadata": {},
   "outputs": [],
   "source": [
    "class LargeRobot implements IRobot {\n",
    "    private String colour;\n",
    "\n",
    "    public void print()\n",
    "    {\n",
    "        System.out.println(\"This is a large Robot\");\n",
    "    }\n",
    "    \n",
    "        public void setColour(String colour)\n",
    "    {\n",
    "        this.colour = colour;\n",
    "    }\n",
    "    \n",
    "    public void getColour()\n",
    "    {\n",
    "        System.out.println(this.colour);\n",
    "    }\n",
    "}"
   ]
  },
  {
   "cell_type": "code",
   "execution_count": 24,
   "id": "ad5ba05f",
   "metadata": {},
   "outputs": [],
   "source": [
    "class RobotFactory {\n",
    "    public static Map<String, IRobot> robots = new HashMap<String, IRobot>();\n",
    "\n",
    "    public static IRobot createRobot(String type)\n",
    "    {\n",
    "        IRobot myRobot = null;\n",
    "    \n",
    "        if (robots.containsKey(type.toLowerCase())) {\n",
    "            return robots.get(type.toLowerCase());\n",
    "        } else {\n",
    "        switch(type.toLowerCase()){\n",
    "            case \"small\":\n",
    "                IRobot small = new SmallRobot();\n",
    "                robots.put(\"small\", small);\n",
    "                break;\n",
    "            case \"large\":\n",
    "                IRobot large = new LargeRobot();\n",
    "                robots.put(\"large\", large);\n",
    "                break;\n",
    "            default:\n",
    "                return null;\n",
    "            }\n",
    "            \n",
    "            return robots.get(type.toLowerCase());\n",
    "        }\n",
    "    }\n",
    "}"
   ]
  },
  {
   "cell_type": "code",
   "execution_count": 25,
   "id": "221c7600",
   "metadata": {},
   "outputs": [
    {
     "name": "stdout",
     "output_type": "stream",
     "text": [
      "This is a small Robot\n"
     ]
    }
   ],
   "source": [
    "IRobot myNewRobot = RobotFactory.createRobot(\"small\");\n",
    "myNewRobot.print();"
   ]
  },
  {
   "cell_type": "code",
   "execution_count": 26,
   "id": "4877b5f2",
   "metadata": {},
   "outputs": [
    {
     "name": "stdout",
     "output_type": "stream",
     "text": [
      "This is a large Robot\n"
     ]
    }
   ],
   "source": [
    "IRobot myNewRobotTwo = RobotFactory.createRobot(\"large\");\n",
    "myNewRobotTwo.print();"
   ]
  },
  {
   "cell_type": "code",
   "execution_count": 27,
   "id": "48691315",
   "metadata": {},
   "outputs": [
    {
     "name": "stdout",
     "output_type": "stream",
     "text": [
      "This is a small Robot\n"
     ]
    }
   ],
   "source": [
    "IRobot myNewRobotThree = RobotFactory.createRobot(\"small\");\n",
    "myNewRobotThree.print();"
   ]
  },
  {
   "cell_type": "code",
   "execution_count": 28,
   "id": "57dce1ee",
   "metadata": {},
   "outputs": [
    {
     "data": {
      "text/plain": [
       "true"
      ]
     },
     "execution_count": 28,
     "metadata": {},
     "output_type": "execute_result"
    }
   ],
   "source": [
    "myNewRobot == myNewRobotThree;"
   ]
  },
  {
   "cell_type": "code",
   "execution_count": 29,
   "id": "e3c9cc30",
   "metadata": {},
   "outputs": [
    {
     "data": {
      "text/plain": [
       "false"
      ]
     },
     "execution_count": 29,
     "metadata": {},
     "output_type": "execute_result"
    }
   ],
   "source": [
    "myNewRobot == myNewRobotTwo;"
   ]
  },
  {
   "cell_type": "code",
   "execution_count": 30,
   "id": "fd6d98a0",
   "metadata": {},
   "outputs": [
    {
     "name": "stdout",
     "output_type": "stream",
     "text": [
      "REPL.$JShell$13D$SmallRobot@31175bd8\n",
      "REPL.$JShell$13D$SmallRobot@31175bd8\n"
     ]
    }
   ],
   "source": [
    "System.out.println(myNewRobot);\n",
    "System.out.println(myNewRobotThree);"
   ]
  },
  {
   "cell_type": "markdown",
   "id": "df95708c",
   "metadata": {},
   "source": [
    "As we can see, the same instance has been passed and saved to each variable. However, the extrinsic state, if set, would carry over to each object. This is because we are assigning a reference of the instance, not the instance itself as shown above."
   ]
  },
  {
   "cell_type": "code",
   "execution_count": 33,
   "id": "b5367ac9",
   "metadata": {},
   "outputs": [],
   "source": [
    "myNewRobot.setColour(\"red\");\n",
    "myNewRobotThree.setColour(\"green\");"
   ]
  },
  {
   "cell_type": "code",
   "execution_count": 34,
   "id": "c69758f4",
   "metadata": {},
   "outputs": [
    {
     "name": "stdout",
     "output_type": "stream",
     "text": [
      "green\n"
     ]
    }
   ],
   "source": [
    "myNewRobot.getColour();"
   ]
  },
  {
   "cell_type": "markdown",
   "id": "c75c6ebc",
   "metadata": {},
   "source": [
    "A key thing to remember when distinguishing between the singleton and the flyweight is to remember the purpose of both. the singleton exists to ensure only one thing of a type ever exists. It achieves this by ensuring the instance that had already been created is returned when the constructor is called. It does not try to hide the construction of the object."
   ]
  },
  {
   "cell_type": "markdown",
   "id": "a36c603a",
   "metadata": {},
   "source": [
    "However, the flyweight uses the factory pattern to remove the need for a constructor call and ensures that object instances are not recreated, but shared across variable names. To put this to an example, think of a keyboard. In the context of a computer, we have one physical keyboard. Only one keyboard can really exist at once on a computer (you can plug multiple in, but it's pointless).\n",
    "\n",
    "A virtual keyboard, however, can exist in multiple places at once. But, refers to a single interface for entering keys (this is native to each machine). The layout of each of these can be changed (DVORAK or QWERTY). But, the intrinsic quality of entering keys stays the same."
   ]
  },
  {
   "cell_type": "markdown",
   "id": "2dc5f3c9",
   "metadata": {},
   "source": [
    "Somewhat contrived as an example, but it does illustrate the point. The number of domains the entity covers and how its mutability should be treated determine whether it should be considered a flyweight or not."
   ]
  },
  {
   "cell_type": "markdown",
   "id": "9007bdc8",
   "metadata": {},
   "source": [
    "## Example"
   ]
  },
  {
   "cell_type": "code",
   "execution_count": 35,
   "id": "dc33cb98",
   "metadata": {},
   "outputs": [],
   "source": [
    "interface Player {\n",
    "    void assignWeapon();\n",
    "    void defuseBomb();\n",
    "    void plantBomb();\n",
    "}"
   ]
  },
  {
   "cell_type": "code",
   "execution_count": 38,
   "id": "50ff0d64",
   "metadata": {},
   "outputs": [],
   "source": [
    "class CounterTerrorist implements Player {\n",
    "    public void assignWeapon()\n",
    "    {\n",
    "        System.out.println(\"Assigned an AWP, you crazy Russian\");\n",
    "    }\n",
    "    \n",
    "    public void defuseBomb()\n",
    "    {\n",
    "        System.out.println(\"Diffusing the bomb\");\n",
    "    }\n",
    "    \n",
    "    public void plantBomb()\n",
    "    {\n",
    "    }\n",
    "}"
   ]
  },
  {
   "cell_type": "code",
   "execution_count": 39,
   "id": "350e8631",
   "metadata": {},
   "outputs": [],
   "source": [
    "class Terrorist implements Player {\n",
    "    public void assignWeapon()\n",
    "    {\n",
    "        System.out.println(\"Assigned an AWP, you crazy Russian\");\n",
    "    }\n",
    "    \n",
    "    public void defuseBomb()\n",
    "    {\n",
    "    }\n",
    "    \n",
    "    public void plantBomb()\n",
    "    {\n",
    "        System.out.println(\"Planting the bomb\");\n",
    "    }\n",
    "}"
   ]
  },
  {
   "cell_type": "code",
   "execution_count": 42,
   "id": "306ca739",
   "metadata": {},
   "outputs": [],
   "source": [
    "class PlayerFactory {\n",
    "    private static Map<String, Player> players = new HashMap<String, Player>();\n",
    "    \n",
    "    public static Player getPlayer(String type)\n",
    "    {\n",
    "        if (players.containsKey(type.toLowerCase())) {\n",
    "            return players.get(type.toLowerCase());\n",
    "        } else {\n",
    "            switch(type.toLowerCase()) {\n",
    "                case \"t\":\n",
    "                    Player t = new Terrorist();\n",
    "                    players.put(\"t\", t);\n",
    "                    break;\n",
    "                case \"ct\":\n",
    "                    Player ct = new CounterTerrorist();\n",
    "                    players.put(\"ct\", ct);\n",
    "                    break;\n",
    "                default:\n",
    "                    return null;\n",
    "            }\n",
    "            \n",
    "            return players.get(type.toLowerCase());\n",
    "        }\n",
    "    }\n",
    "}"
   ]
  },
  {
   "cell_type": "markdown",
   "id": "7a1d4376",
   "metadata": {},
   "source": [
    "So the above is the pattern implemented. Of course, this means that the players all share the same player object. This could be a good thing, or could create bugs if good design isn't followed there after.\n",
    "\n",
    "It'd make sense to make the players non-concrete and have them implement a clone method like the prototype so that it'd be possible to not have expensive ops to create all the players and have them simply be copies of each other."
   ]
  },
  {
   "cell_type": "code",
   "execution_count": null,
   "id": "6990ad24",
   "metadata": {},
   "outputs": [],
   "source": []
  }
 ],
 "metadata": {
  "kernelspec": {
   "display_name": "Java",
   "language": "java",
   "name": "java"
  },
  "language_info": {
   "codemirror_mode": "java",
   "file_extension": ".jshell",
   "mimetype": "text/x-java-source",
   "name": "Java",
   "pygments_lexer": "java",
   "version": "11.0.13+8"
  },
  "toc": {
   "base_numbering": 1,
   "nav_menu": {},
   "number_sections": true,
   "sideBar": true,
   "skip_h1_title": true,
   "title_cell": "Table of Contents",
   "title_sidebar": "Contents",
   "toc_cell": true,
   "toc_position": {},
   "toc_section_display": true,
   "toc_window_display": true
  }
 },
 "nbformat": 4,
 "nbformat_minor": 5
}
