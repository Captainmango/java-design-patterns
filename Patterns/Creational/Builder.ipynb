{
 "cells": [
  {
   "cell_type": "markdown",
   "id": "5b64c847",
   "metadata": {
    "toc": true
   },
   "source": [
    "<h1>Table of Contents<span class=\"tocSkip\"></span></h1>\n",
    "<div class=\"toc\"><ul class=\"toc-item\"><li><span><a href=\"#Intro\" data-toc-modified-id=\"Intro-1\"><span class=\"toc-item-num\">1&nbsp;&nbsp;</span>Intro</a></span><ul class=\"toc-item\"><li><span><a href=\"#Why-though?\" data-toc-modified-id=\"Why-though?-1.1\"><span class=\"toc-item-num\">1.1&nbsp;&nbsp;</span>Why though?</a></span></li><li><span><a href=\"#Advantages\" data-toc-modified-id=\"Advantages-1.2\"><span class=\"toc-item-num\">1.2&nbsp;&nbsp;</span>Advantages</a></span></li><li><span><a href=\"#Disadvantages\" data-toc-modified-id=\"Disadvantages-1.3\"><span class=\"toc-item-num\">1.3&nbsp;&nbsp;</span>Disadvantages</a></span></li></ul></li><li><span><a href=\"#Implementation\" data-toc-modified-id=\"Implementation-2\"><span class=\"toc-item-num\">2&nbsp;&nbsp;</span>Implementation</a></span><ul class=\"toc-item\"><li><span><a href=\"#Description\" data-toc-modified-id=\"Description-2.1\"><span class=\"toc-item-num\">2.1&nbsp;&nbsp;</span>Description</a></span></li></ul></li><li><span><a href=\"#Example\" data-toc-modified-id=\"Example-3\"><span class=\"toc-item-num\">3&nbsp;&nbsp;</span>Example</a></span></li></ul></div>"
   ]
  },
  {
   "cell_type": "markdown",
   "id": "07e8cbdd",
   "metadata": {},
   "source": [
    "# Builder Pattern"
   ]
  },
  {
   "cell_type": "markdown",
   "id": "e86de8f9",
   "metadata": {},
   "source": [
    "## Intro"
   ]
  },
  {
   "cell_type": "markdown",
   "id": "b632d7da",
   "metadata": {},
   "source": [
    "Bob the builder, lol. This pattern separates the construction from the representation. Basically, it allows you to create different versions of the object without using the constructor directly.\n",
    "\n",
    "It uses a step by step approach to achieve this (uses separate methods on the instance to assign properties. The builder class is also independent of all other objects."
   ]
  },
  {
   "cell_type": "markdown",
   "id": "50751ba5",
   "metadata": {},
   "source": [
    "The pattern is very useful for creating complex objects that have a need for certain qualities or members (can create a default version that the client needs to modify in the way they want with the builder.)\n",
    "\n",
    "A good example of a builder pattern is a computer. You need specific parts to make the computer work. These can also be configured and or modified to meet a certain need. Some are negotiable some aren't. Always think of a complex object with pieces that are allowed to change and the builder pattern is likely applicable to it."
   ]
  },
  {
   "cell_type": "markdown",
   "id": "52f32906",
   "metadata": {},
   "source": [
    "The builder class provides a way to create very complex things without mixing in the steps required to create it. This makes it so the object created exists without caring how it is implemented, only that it is."
   ]
  },
  {
   "cell_type": "markdown",
   "id": "d4e3751a",
   "metadata": {},
   "source": [
    "### Why though?"
   ]
  },
  {
   "cell_type": "markdown",
   "id": "4e663fef",
   "metadata": {},
   "source": [
    "The pattern was introduced to solve problems that could arise with the factory patterns (both abstract and concrete). These patterns do not play well with complex objects with lots of properties and attributes.\n",
    "\n",
    "Here are the main factors for choosing the builder pattern over the factory:\n",
    "* Too many args to pass from client to factory\n",
    "    * can be prone to error\n",
    "    * difficult to maintain\n",
    "* Parameters could be optional (some clients might not want the exact object the factory makes)\n",
    "* The complexity of the object bleeds into the factory \n",
    "    * the point of the factory is to decouple object production from the object itself. If the object is complex, the factory adopts that complexity too"
   ]
  },
  {
   "cell_type": "markdown",
   "id": "f2bb9a07",
   "metadata": {},
   "source": [
    "### Advantages"
   ]
  },
  {
   "cell_type": "markdown",
   "id": "4ceca234",
   "metadata": {},
   "source": [
    "* Encapsulates the way a complex object is constructed\n",
    "* Allows multistep construction processes\n",
    "* Hides internal detail of the product from the client\n",
    "* Implementations can be swapped out with ease as the abstract is the only thing the client cares about\n",
    "* Focus on the how rather than the what of product creation"
   ]
  },
  {
   "cell_type": "markdown",
   "id": "e0fc8302",
   "metadata": {},
   "source": [
    "### Disadvantages"
   ]
  },
  {
   "cell_type": "markdown",
   "id": "7b4a5e70",
   "metadata": {},
   "source": [
    "* Often used for building composite objects\n",
    "    * these can require stronger understanding of the system and require that complexity in object use is managed\n",
    "* Construction requires domain knowledge by the client to produce effective objects\n",
    "    * Clients need to know how the system works to access the builder properly\n",
    "* Requires code duplication so isn't DRY"
   ]
  },
  {
   "cell_type": "markdown",
   "id": "af55cc57",
   "metadata": {},
   "source": [
    "## Implementation"
   ]
  },
  {
   "cell_type": "code",
   "execution_count": 8,
   "id": "173aa972",
   "metadata": {},
   "outputs": [],
   "source": [
    "// Product class\n",
    "\n",
    "class Vehicle {\n",
    "    private LinkedList<String> parts;\n",
    "    \n",
    "    public Vehicle() {\n",
    "        parts = new LinkedList<String>();\n",
    "    }\n",
    "    \n",
    "    public void add(String part){\n",
    "        parts.addLast(part);\n",
    "    }\n",
    "    \n",
    "    public void show(){\n",
    "        System.out.println(\"Vehicle complete\");\n",
    "        \n",
    "        for(int i = 0; i < parts.size(); i++){\n",
    "            System.out.println(parts.get(i));\n",
    "        }\n",
    "    }\n",
    "}"
   ]
  },
  {
   "cell_type": "code",
   "execution_count": 9,
   "id": "2e5ff325",
   "metadata": {},
   "outputs": [],
   "source": [
    "// Builder interface\n",
    "\n",
    "interface IBuilder {\n",
    "    void buildBody();\n",
    "    void insertWheels();\n",
    "    void addHeadlights();\n",
    "    Vehicle getVehicle();\n",
    "}"
   ]
  },
  {
   "cell_type": "code",
   "execution_count": 10,
   "id": "35666764",
   "metadata": {},
   "outputs": [],
   "source": [
    "// Concrete builder\n",
    "\n",
    "class Car implements IBuilder {\n",
    "    private Vehicle vehicle = new Vehicle();\n",
    "    \n",
    "    @Override\n",
    "    public void buildBody(){\n",
    "        vehicle.add(\"This is the car body\");\n",
    "    }\n",
    "    \n",
    "    \n",
    "    @Override\n",
    "    public void insertWheels(){\n",
    "        vehicle.add(\"The car has 4 wheels\");\n",
    "    }\n",
    "    \n",
    "    \n",
    "    @Override\n",
    "    public void addHeadlights(){\n",
    "        vehicle.add(\"The car has 2 white headlights\");\n",
    "    }\n",
    "    \n",
    "    \n",
    "    @Override\n",
    "    public Vehicle getVehicle(){\n",
    "        return vehicle;\n",
    "    }\n",
    "}"
   ]
  },
  {
   "cell_type": "code",
   "execution_count": 11,
   "id": "ce098325",
   "metadata": {},
   "outputs": [],
   "source": [
    "// Director\n",
    "\n",
    "class Director {\n",
    "    IBuilder myBuilder;\n",
    "    \n",
    "    public void construct(IBuilder builder){\n",
    "        myBuilder = builder;\n",
    "        myBuilder.buildBody();\n",
    "        myBuilder.insertWheels();\n",
    "        myBuilder.addHeadlights();\n",
    "    }\n",
    "}"
   ]
  },
  {
   "cell_type": "code",
   "execution_count": 13,
   "id": "18db2f71",
   "metadata": {},
   "outputs": [
    {
     "name": "stdout",
     "output_type": "stream",
     "text": [
      "Vehicle complete\n",
      "This is the car body\n",
      "The car has 4 wheels\n",
      "The car has 2 white headlights\n"
     ]
    }
   ],
   "source": [
    "Director director = new Director();\n",
    "IBuilder carBuilder = new Car();\n",
    "\n",
    "director.construct(carBuilder);\n",
    "Vehicle myCar = carBuilder.getVehicle();\n",
    "myCar.show();\n",
    "\n",
    "carBuilder.addHeadlights();"
   ]
  },
  {
   "cell_type": "markdown",
   "id": "a007a5c0",
   "metadata": {},
   "source": [
    "### Description"
   ]
  },
  {
   "cell_type": "markdown",
   "id": "7d5b7d45",
   "metadata": {},
   "source": [
    "So, the goal here is to leverage polymorphism and the director class to create objects with set defaults. However, the builder still exists to handle updates to the product. The above example doesn't really show this as it is setting strings.\n",
    "\n",
    "But, the purpose of the builder is to offer an API to clients so that they can make changes to the objects they build without messing around with the constructor or other details. Basically, we're letting them play with our domain and produce objects of the type with the properties they wish."
   ]
  },
  {
   "cell_type": "markdown",
   "id": "4dc892c6",
   "metadata": {},
   "source": [
    "## Example"
   ]
  },
  {
   "cell_type": "code",
   "execution_count": null,
   "id": "1b278db9",
   "metadata": {},
   "outputs": [],
   "source": []
  }
 ],
 "metadata": {
  "kernelspec": {
   "display_name": "Java",
   "language": "java",
   "name": "java"
  },
  "language_info": {
   "codemirror_mode": "java",
   "file_extension": ".jshell",
   "mimetype": "text/x-java-source",
   "name": "Java",
   "pygments_lexer": "java",
   "version": "11.0.13+8"
  },
  "toc": {
   "base_numbering": 1,
   "nav_menu": {},
   "number_sections": true,
   "sideBar": true,
   "skip_h1_title": true,
   "title_cell": "Table of Contents",
   "title_sidebar": "Contents",
   "toc_cell": true,
   "toc_position": {},
   "toc_section_display": true,
   "toc_window_display": true
  }
 },
 "nbformat": 4,
 "nbformat_minor": 5
}
