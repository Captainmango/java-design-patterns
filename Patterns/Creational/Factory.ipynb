{
 "cells": [
  {
   "cell_type": "markdown",
   "id": "cb761784",
   "metadata": {
    "toc": true
   },
   "source": [
    "<h1>Table of Contents<span class=\"tocSkip\"></span></h1>\n",
    "<div class=\"toc\"><ul class=\"toc-item\"><li><span><a href=\"#Intro\" data-toc-modified-id=\"Intro-1\"><span class=\"toc-item-num\">1&nbsp;&nbsp;</span>Intro</a></span></li><li><span><a href=\"#Implementation\" data-toc-modified-id=\"Implementation-2\"><span class=\"toc-item-num\">2&nbsp;&nbsp;</span>Implementation</a></span><ul class=\"toc-item\"><li><span><a href=\"#Strictest---Abstract-Creator\" data-toc-modified-id=\"Strictest---Abstract-Creator-2.1\"><span class=\"toc-item-num\">2.1&nbsp;&nbsp;</span>Strictest - Abstract Creator</a></span></li><li><span><a href=\"#Somewhat-strict---Concrete-Creator\" data-toc-modified-id=\"Somewhat-strict---Concrete-Creator-2.2\"><span class=\"toc-item-num\">2.2&nbsp;&nbsp;</span>Somewhat strict - Concrete Creator</a></span></li><li><span><a href=\"#Not-at-all-strict---Static-Method-Call\" data-toc-modified-id=\"Not-at-all-strict---Static-Method-Call-2.3\"><span class=\"toc-item-num\">2.3&nbsp;&nbsp;</span>Not at all strict - Static Method Call</a></span></li></ul></li><li><span><a href=\"#Examples\" data-toc-modified-id=\"Examples-3\"><span class=\"toc-item-num\">3&nbsp;&nbsp;</span>Examples</a></span></li></ul></div>"
   ]
  },
  {
   "cell_type": "markdown",
   "id": "99c5f507",
   "metadata": {},
   "source": [
    "# Factory Pattern"
   ]
  },
  {
   "cell_type": "markdown",
   "id": "02589b83",
   "metadata": {},
   "source": [
    "## Intro"
   ]
  },
  {
   "cell_type": "markdown",
   "id": "863c9d9d",
   "metadata": {},
   "source": [
    "Factories are one of the most used patterns in Java. It's a creational pattern that handles the details needed when creating new objects. The point of the Factory is to remove the need to know how the constructor works of an object, making object creation a black box."
   ]
  },
  {
   "cell_type": "markdown",
   "id": "07ebbcc4",
   "metadata": {},
   "source": [
    "To implement the pattern, we need to use an interface to define how an object needs to work. This is called the Creator."
   ]
  },
  {
   "cell_type": "markdown",
   "id": "d21d9fa8",
   "metadata": {},
   "source": [
    "A key way to know when to use the Factory pattern is when a class needs to instantiate a subclass of a parent, but does not know which one. This allows the subclass to choose what to do."
   ]
  },
  {
   "cell_type": "markdown",
   "id": "c0ff1ebc",
   "metadata": {},
   "source": [
    "A good real world example is a repair person going to repair a car. The repair person needs to know what car they are going to look at *ahead* of time to ensure they can actually do the job in question. They get this from you, the client."
   ]
  },
  {
   "cell_type": "markdown",
   "id": "4a6e7432",
   "metadata": {},
   "source": [
    "The process of conducting the repair is done by the factory, in this case the repair person. But, you (the client) know that the repair is happening because you requested it."
   ]
  },
  {
   "cell_type": "markdown",
   "id": "168d174b",
   "metadata": {},
   "source": [
    "Examples of where this is used in Java are:\n",
    "* Java.util.Calendar\n",
    "* NumberFormat\n",
    "* valueOf method on the reference types"
   ]
  },
  {
   "cell_type": "markdown",
   "id": "f78db38f",
   "metadata": {},
   "source": [
    "Advantages to using the pattern are:\n",
    "* Decoupling of business logic from class logic (decouples production of objects from their use)\n",
    "* Allows you to change design of the app without breaking anything\n",
    "* Provides abstraction from concrete types"
   ]
  },
  {
   "cell_type": "markdown",
   "id": "bc7964b0",
   "metadata": {},
   "source": [
    "Disadvantages to using this pattern are:\n",
    "* Clients may have to subeclass the Creator in order to access certain concrete types (not a major risk if you keep production of objs simplem but still a concern)\n",
    "* Makes code difficult to read as it is heavily abstracted (constructors are a key way of understanding objs)\n",
    "* Creating too many objects can hurt performance (garbage collector can help and singleton too)\n",
    "\n"
   ]
  },
  {
   "cell_type": "markdown",
   "id": "a38a211c",
   "metadata": {},
   "source": [
    "## Implementation"
   ]
  },
  {
   "cell_type": "markdown",
   "id": "13da1454",
   "metadata": {},
   "source": [
    "### Strictest - Abstract Creator"
   ]
  },
  {
   "cell_type": "markdown",
   "id": "ae4bd8e7",
   "metadata": {},
   "source": [
    "There are 3 common implementations of the Factory pattern."
   ]
  },
  {
   "cell_type": "markdown",
   "id": "ee85a719",
   "metadata": {},
   "source": [
    "The strictest uses a Creator class as an abstract class. We'd then need to use the abstract class to create the individual product types. This then has a factory method as a member to create concrete objects from the class."
   ]
  },
  {
   "cell_type": "markdown",
   "id": "be149751",
   "metadata": {},
   "source": [
    "This uses delegation (the abstract class is the one doing the creating) and decouples the object creation from it's implementation."
   ]
  },
  {
   "cell_type": "code",
   "execution_count": 9,
   "id": "a4e7de8a",
   "metadata": {},
   "outputs": [],
   "source": [
    "interface Shape {\n",
    "    void draw();\n",
    "}"
   ]
  },
  {
   "cell_type": "code",
   "execution_count": 10,
   "id": "2fcba880",
   "metadata": {},
   "outputs": [],
   "source": [
    "class Rectangle implements Shape {\n",
    "    @Override\n",
    "    public void draw()\n",
    "    {\n",
    "        System.out.println(\"Draw from rectangle\");\n",
    "    }\n",
    "}"
   ]
  },
  {
   "cell_type": "markdown",
   "id": "f78d7dd4",
   "metadata": {},
   "source": [
    "In the above, we have an interface (our Product) and a class created from it. If we wanted to create more rectangles *without* calling the constructor, it'd take more code than necessary. Also, if the implementation changed, the concrete class would break. Instead, we should use a factory to create concrete classes. "
   ]
  },
  {
   "cell_type": "code",
   "execution_count": 11,
   "id": "30a5a30e",
   "metadata": {},
   "outputs": [],
   "source": [
    "abstract class ShapeFactory {\n",
    "    protected abstract Shape createShape();\n",
    "    \n",
    "    public Shape getShape() {\n",
    "        return createShape();\n",
    "    }\n",
    "}"
   ]
  },
  {
   "cell_type": "code",
   "execution_count": 12,
   "id": "46ba5a07",
   "metadata": {},
   "outputs": [],
   "source": [
    "class RectangleFactory extends ShapeFactory {\n",
    "    protected Shape createShape()\n",
    "    {\n",
    "        return new Rectangle();\n",
    "    }\n",
    "}"
   ]
  },
  {
   "cell_type": "code",
   "execution_count": 18,
   "id": "63ff2248",
   "metadata": {},
   "outputs": [
    {
     "name": "stdout",
     "output_type": "stream",
     "text": [
      "Draw from rectangle\n"
     ]
    }
   ],
   "source": [
    "Shape rectangle1 = new RectangleFactory().getShape();\n",
    "rectangle1.draw();"
   ]
  },
  {
   "cell_type": "markdown",
   "id": "4bb3c846",
   "metadata": {},
   "source": [
    "As we can see from the above, calling the getShape() method returns a shape instance. N.B. that the only thing we implement on the subclasses of the factory is the getShape(). This is because the parent class is responsible for the actual creation (more syntactic sugar as the subclass has access to the member due to it being protected. This was an intentional choice)"
   ]
  },
  {
   "cell_type": "markdown",
   "id": "8c7805f3",
   "metadata": {},
   "source": [
    "A downside to working in this way is that we'll need to make a new subclass for any new type of object we want to create. Not the worst thing, but if we have 500 different subclasses, this becomes extremely unwieldy."
   ]
  },
  {
   "cell_type": "markdown",
   "id": "5a289df0",
   "metadata": {},
   "source": [
    "### Somewhat strict - Concrete Creator"
   ]
  },
  {
   "cell_type": "markdown",
   "id": "56157122",
   "metadata": {},
   "source": [
    "This approach is generally the way we implement the Factory Pattern in the real world. We use a single concrete creator class to handle object creation.\n",
    "\n",
    "We add the implementation code to one factory method to create a product. We can switch on the types of objects by passing in an input param."
   ]
  },
  {
   "cell_type": "markdown",
   "id": "4ab4ece5",
   "metadata": {},
   "source": [
    "This allows us to not have to make a bajillion different subclasses of the abstract factory, mitigating a key risk and disadvantage."
   ]
  },
  {
   "cell_type": "markdown",
   "id": "09a59c25",
   "metadata": {},
   "source": [
    "Advantages of the pattern are:\n",
    "* No need to implement multiple subclasses\n",
    "* Clear how things work due to code living in one place"
   ]
  },
  {
   "cell_type": "markdown",
   "id": "7a2efc81",
   "metadata": {},
   "source": [
    "There aren't really any disadvantages to this approach. However, it's misuse can mislead clients and cause confusion over how objects work. Also, there is a need to implement various ways of creating objects, merely kicking the complexity can down the road."
   ]
  },
  {
   "cell_type": "code",
   "execution_count": 19,
   "id": "23f71874",
   "metadata": {},
   "outputs": [],
   "source": [
    "interface Shape {\n",
    "    void draw();\n",
    "}"
   ]
  },
  {
   "cell_type": "code",
   "execution_count": 20,
   "id": "5a7ad2f0",
   "metadata": {},
   "outputs": [],
   "source": [
    "class Circle implements Shape {\n",
    "    @Override\n",
    "    public void draw()\n",
    "    {\n",
    "        System.out.println(\"Draw call from circle\");\n",
    "    }\n",
    "}"
   ]
  },
  {
   "cell_type": "code",
   "execution_count": 22,
   "id": "3a2dd57c",
   "metadata": {},
   "outputs": [],
   "source": [
    "class ShapeFactory {\n",
    "    public Shape getShape(String shapeType)\n",
    "    {\n",
    "        switch(shapeType){\n",
    "            case \"circle\":\n",
    "                return new Circle();\n",
    "            default:\n",
    "                return null;\n",
    "        }\n",
    "    }\n",
    "}"
   ]
  },
  {
   "cell_type": "code",
   "execution_count": 32,
   "id": "cbb269a9",
   "metadata": {},
   "outputs": [
    {
     "name": "stdout",
     "output_type": "stream",
     "text": [
      "Draw call from circle\n"
     ]
    }
   ],
   "source": [
    "ShapeFactory shapeFactory = new ShapeFactory();\n",
    "Shape circle1 = shapeFactory.getShape(\"circle\");\n",
    "circle1.draw();"
   ]
  },
  {
   "cell_type": "markdown",
   "id": "aa4b3297",
   "metadata": {},
   "source": [
    "As we can see from the above, it is already much easier to follow this approach to implementing the factory. We are using polymorphism to enforce a contract, but the factory instance is creating the right shape based on the input param."
   ]
  },
  {
   "cell_type": "markdown",
   "id": "4abe8c53",
   "metadata": {},
   "source": [
    "The default at the end is flair I added to make the factory idempotent"
   ]
  },
  {
   "cell_type": "code",
   "execution_count": 33,
   "id": "2699f585",
   "metadata": {},
   "outputs": [
    {
     "name": "stdout",
     "output_type": "stream",
     "text": [
      "null\n"
     ]
    }
   ],
   "source": [
    "Shape randomShape = shapeFactory.getShape(\"thing that isn't covered\");\n",
    "    \n",
    "System.out.println(randomShape);"
   ]
  },
  {
   "cell_type": "markdown",
   "id": "376938cb",
   "metadata": {},
   "source": [
    "### Not at all strict - Static Method Call"
   ]
  },
  {
   "cell_type": "markdown",
   "id": "fa355a93",
   "metadata": {},
   "source": [
    "This is the most lax way of implementing the Factory pattern. We do this by creating a static method on the factory. this allows us to keep the implementation of the factory *ringfenced* from the implementation of the concrete class due to scoping rules in Java."
   ]
  },
  {
   "cell_type": "markdown",
   "id": "23d65c77",
   "metadata": {},
   "source": [
    "However, this approach is rigid. You cannot subclass and change the behaviour of the create method, locking the implementation of the factory. This isn't always a bad thing, but is a concern."
   ]
  },
  {
   "cell_type": "code",
   "execution_count": 39,
   "id": "fd58bf91",
   "metadata": {},
   "outputs": [],
   "source": [
    "interface Shape {\n",
    "    void draw();\n",
    "}"
   ]
  },
  {
   "cell_type": "code",
   "execution_count": 40,
   "id": "e595c185",
   "metadata": {},
   "outputs": [],
   "source": [
    "class Triangle implements Shape{\n",
    "    @Override\n",
    "    public void draw()\n",
    "    {\n",
    "        System.out.println(\"Draw call from Triangle\");\n",
    "    }\n",
    "}"
   ]
  },
  {
   "cell_type": "code",
   "execution_count": 41,
   "id": "9250f926",
   "metadata": {},
   "outputs": [],
   "source": [
    "class ShapeFactory {\n",
    "    public static Shape getShape(String shapeType)\n",
    "    {\n",
    "        switch(shapeType){\n",
    "            case \"triangle\":\n",
    "                return new Triangle();\n",
    "            default:\n",
    "                return null;\n",
    "        }\n",
    "    }\n",
    "}"
   ]
  },
  {
   "cell_type": "code",
   "execution_count": 42,
   "id": "9d0b60cc",
   "metadata": {},
   "outputs": [
    {
     "name": "stdout",
     "output_type": "stream",
     "text": [
      "Draw call from Triangle\n"
     ]
    }
   ],
   "source": [
    "Shape triangle1 = ShapeFactory.getShape(\"triangle\");\n",
    "triangle1.draw();"
   ]
  },
  {
   "cell_type": "markdown",
   "id": "d873407a",
   "metadata": {},
   "source": [
    "This is the simplest way to implement a factory, but the one that scales the worst. The most strict scales best, but is a nightmare to maintain if it grows too big. The somewhat string is the best, all round approach. But, still has issues. Be mindful of the pitfalls of each."
   ]
  },
  {
   "cell_type": "markdown",
   "id": "066bcf05",
   "metadata": {},
   "source": [
    "## Examples"
   ]
  },
  {
   "cell_type": "code",
   "execution_count": 46,
   "id": "5b602067",
   "metadata": {},
   "outputs": [],
   "source": [
    "interface Animal {\n",
    "    void walk();\n",
    "    void eat();\n",
    "}"
   ]
  },
  {
   "cell_type": "code",
   "execution_count": 48,
   "id": "d7c4515b",
   "metadata": {},
   "outputs": [],
   "source": [
    "class Duck implements Animal {\n",
    "    \n",
    "    @Override\n",
    "    public void walk()\n",
    "    {\n",
    "        System.out.println(\"Duck is walking\");\n",
    "    }\n",
    "    \n",
    "    @Override\n",
    "    public void eat()\n",
    "    {\n",
    "        System.out.println(\"Duck is eating\");\n",
    "    }\n",
    "}"
   ]
  },
  {
   "cell_type": "code",
   "execution_count": 49,
   "id": "7ddd8e26",
   "metadata": {},
   "outputs": [],
   "source": [
    "class Tiger implements Animal {\n",
    "    @Override\n",
    "    public void walk()\n",
    "    {\n",
    "        System.out.println(\"Tiger is walking\");\n",
    "    }\n",
    "    \n",
    "    @Override\n",
    "    public void eat()\n",
    "    {\n",
    "        System.out.println(\"Tiger is eating\");\n",
    "    }\n",
    "}"
   ]
  },
  {
   "cell_type": "code",
   "execution_count": 55,
   "id": "c58ec2bc",
   "metadata": {},
   "outputs": [],
   "source": [
    "class AnimalFactory {\n",
    "    public Animal createAnimal(String type)\n",
    "    {\n",
    "        switch(type.toLowerCase()){\n",
    "            case \"duck\":\n",
    "                return new Duck();\n",
    "            case \"tiger\":\n",
    "                return new Tiger();\n",
    "            default:\n",
    "                return null;\n",
    "        }\n",
    "    }\n",
    "}"
   ]
  },
  {
   "cell_type": "code",
   "execution_count": 56,
   "id": "7aee9e78",
   "metadata": {},
   "outputs": [
    {
     "name": "stdout",
     "output_type": "stream",
     "text": [
      "Tiger is walking\n"
     ]
    }
   ],
   "source": [
    "AnimalFactory animalFactory = new AnimalFactory();\n",
    "\n",
    "Animal myTiger = animalFactory.createAnimal(\"tiger\");\n",
    "myTiger.walk();"
   ]
  },
  {
   "cell_type": "code",
   "execution_count": 57,
   "id": "996a9f33",
   "metadata": {},
   "outputs": [
    {
     "name": "stdout",
     "output_type": "stream",
     "text": [
      "Duck is eating\n"
     ]
    }
   ],
   "source": [
    "Animal myDuck = animalFactory.createAnimal(\"DUCK\");\n",
    "myDuck.eat();"
   ]
  }
 ],
 "metadata": {
  "kernelspec": {
   "display_name": "Java",
   "language": "java",
   "name": "java"
  },
  "language_info": {
   "codemirror_mode": "java",
   "file_extension": ".jshell",
   "mimetype": "text/x-java-source",
   "name": "Java",
   "pygments_lexer": "java",
   "version": "11.0.13+8"
  },
  "toc": {
   "base_numbering": 1,
   "nav_menu": {},
   "number_sections": true,
   "sideBar": true,
   "skip_h1_title": true,
   "title_cell": "Table of Contents",
   "title_sidebar": "Contents",
   "toc_cell": true,
   "toc_position": {},
   "toc_section_display": true,
   "toc_window_display": true
  }
 },
 "nbformat": 4,
 "nbformat_minor": 5
}
