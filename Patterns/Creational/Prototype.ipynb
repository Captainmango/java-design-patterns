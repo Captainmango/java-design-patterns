{
 "cells": [
  {
   "cell_type": "markdown",
   "id": "cf1ae8a1",
   "metadata": {
    "toc": true
   },
   "source": [
    "<h1>Table of Contents<span class=\"tocSkip\"></span></h1>\n",
    "<div class=\"toc\"><ul class=\"toc-item\"><li><span><a href=\"#Intro\" data-toc-modified-id=\"Intro-1\"><span class=\"toc-item-num\">1&nbsp;&nbsp;</span>Intro</a></span><ul class=\"toc-item\"><li><span><a href=\"#Issues-with-Cloneable-interface\" data-toc-modified-id=\"Issues-with-Cloneable-interface-1.1\"><span class=\"toc-item-num\">1.1&nbsp;&nbsp;</span>Issues with Cloneable interface</a></span></li><li><span><a href=\"#Alternatives-to-Cloneable-interface\" data-toc-modified-id=\"Alternatives-to-Cloneable-interface-1.2\"><span class=\"toc-item-num\">1.2&nbsp;&nbsp;</span>Alternatives to Cloneable interface</a></span></li></ul></li><li><span><a href=\"#Implementation\" data-toc-modified-id=\"Implementation-2\"><span class=\"toc-item-num\">2&nbsp;&nbsp;</span>Implementation</a></span></li><li><span><a href=\"#Example\" data-toc-modified-id=\"Example-3\"><span class=\"toc-item-num\">3&nbsp;&nbsp;</span>Example</a></span></li></ul></div>"
   ]
  },
  {
   "cell_type": "markdown",
   "id": "66070d07",
   "metadata": {},
   "source": [
    "# Prototype"
   ]
  },
  {
   "cell_type": "markdown",
   "id": "8efbe87f",
   "metadata": {},
   "source": [
    "## Intro"
   ]
  },
  {
   "cell_type": "markdown",
   "id": "e665b44e",
   "metadata": {},
   "source": [
    "This pattern refers to creating a duplicate object while keeping performance in mind. We specify the type of object to create with a prototypical instance. The new instance copies the prototype completely."
   ]
  },
  {
   "cell_type": "markdown",
   "id": "6f163978",
   "metadata": {},
   "source": [
    "This is used when creation of an object is costly. This means that the focus is to minimise the cost of the creation of the new instance."
   ]
  },
  {
   "cell_type": "markdown",
   "id": "6e0d0453",
   "metadata": {},
   "source": [
    "It provides a mechanism to copy the original object and then modify it to fit our needs. In Java, we use cloning (Shallow) to achieve this or deserialisation when we need a complete copy including nested structures and linked objects."
   ]
  },
  {
   "cell_type": "markdown",
   "id": "374a7b9c",
   "metadata": {},
   "source": [
    "This pattern mandates that the object itself handles the production of the new instance."
   ]
  },
  {
   "cell_type": "markdown",
   "id": "38784d13",
   "metadata": {},
   "source": [
    "A good example of a real world example is a template doc that is copied by a user, then changed. Changing the template will change the consequent copies of said template."
   ]
  },
  {
   "cell_type": "markdown",
   "id": "4e2d43fd",
   "metadata": {},
   "source": [
    "The best place to use this pattern is when we need to instantiate classes at runtime or when we want to map complex hierarchies across factories to actual objects."
   ]
  },
  {
   "cell_type": "markdown",
   "id": "e38a5d02",
   "metadata": {},
   "source": [
    "Advantages include:\n",
    "* Hides complexities of making new objects\n",
    "* Provides the option for client to generate objects whose type is not known until runtime\n",
    "* Can be more efficient than creating a new object via the constructor"
   ]
  },
  {
   "cell_type": "markdown",
   "id": "35cdd52c",
   "metadata": {},
   "source": [
    "Disadvantages are:\n",
    "* Any subclasses have to implement the cloning mechanism too\n",
    "    * This can be very challenging due to objects potentially not supporting it\n",
    "* The cloneable interface needed for this behaviour (at least for shallow copies) has some issues"
   ]
  },
  {
   "cell_type": "markdown",
   "id": "99d1a95b",
   "metadata": {},
   "source": [
    "### Issues with Cloneable interface"
   ]
  },
  {
   "cell_type": "markdown",
   "id": "5ed0c873",
   "metadata": {},
   "source": [
    "This is a demic issue (not really a real world concern). However, there are some points that the demics have on this.\n",
    "\n",
    "The cloneable interface lacks the clone() method, meaning we **have** to remember to implement this ourselves on both the inheriting class and any subclasses. Not a major issue, but still a concern.\n",
    "\n",
    "Object.clone() is protected. This means that any object already has a clone method that is protected. To implement the simple approach to the prototype pattern, we need to indirectly call this in our own implementation. This of course is very messy and gets confusing quick.\n",
    "\n",
    "Based on the above 2 points, Object.clone() does not invoke the constructor of a cloned object, meaning there is no guarantee that the object cloned is even going to be a complete prototype."
   ]
  },
  {
   "cell_type": "markdown",
   "id": "ad7ce893",
   "metadata": {},
   "source": [
    "Object.clone() only supports shallow copy. So, any relationships and nested structures are not copied. Arrays can be copied simply as part of the pattern. But, class refs cannot easily and require more code.\n",
    "\n",
    "Any classes related to the prototype (up and downstream) need to implement the clone method (as it isn't part of the interface, subclasses don't have access once implemented on a parent). This adds, potentially, loads of code.\n",
    "\n",
    "Final fields on objects cannot be manipulated as they can only be changed by constructors which Object.clone() cannot invoke. There are ways around this (class variables that contain a collection of all created instances), but this is jank."
   ]
  },
  {
   "cell_type": "markdown",
   "id": "c3e1861a",
   "metadata": {},
   "source": [
    "### Alternatives to Cloneable interface"
   ]
  },
  {
   "cell_type": "code",
   "execution_count": 10,
   "id": "73460d9e",
   "metadata": {},
   "outputs": [],
   "source": [
    "public class Employee {\n",
    "    public int id;\n",
    "    public String name;\n",
    "    \n",
    "    public Employee(Employee employee) {\n",
    "        this.id = employee.id;\n",
    "        this.name = employee.name;\n",
    "    }\n",
    "}"
   ]
  },
  {
   "cell_type": "markdown",
   "id": "c02b875a",
   "metadata": {},
   "source": [
    "The above is a copy constructor. It takes in an instance of the class itself and returns a copy. This resolves many of the Object.clone() issues and is much more readable. But, there is still and issue with any subclasses from a prototype."
   ]
  },
  {
   "cell_type": "code",
   "execution_count": 11,
   "id": "849fa367",
   "metadata": {},
   "outputs": [
    {
     "ename": "CompilationException",
     "evalue": "",
     "output_type": "error",
     "traceback": [
      "\u001b[1m\u001b[30m|   \u001b[1m\u001b[30m        \u001b[0m\u001b[1m\u001b[30m\u001b[41msuper\u001b[0m\u001b[1m\u001b[30m(manager.id, manager.name);\u001b[0m",
      "\u001b[1m\u001b[31mconstructor Employee in class Employee cannot be applied to given types;\u001b[0m",
      "\u001b[1m\u001b[31m  required: Employee\u001b[0m",
      "\u001b[1m\u001b[31m  found: int,java.lang.String\u001b[0m",
      "\u001b[1m\u001b[31m  reason: actual and formal argument lists differ in length\u001b[0m",
      ""
     ]
    }
   ],
   "source": [
    "public class Manager extends Employee {\n",
    "\n",
    "    public Manager(Manager manager) {\n",
    "        super(manager.id, manager.name);\n",
    "    }\n",
    "}"
   ]
  },
  {
   "cell_type": "markdown",
   "id": "fa144e4b",
   "metadata": {},
   "source": [
    "The error here is partially a symptom of the Jupyter Notebook. But, the object in question being passed in would still give a similar error due to not being of the correct type. We could cast to get around this (we cast anyway using the cloneable interface), but this could still cause a ClassCastException.\n",
    "\n",
    "To get arround this, we can reimplement the parent class like:"
   ]
  },
  {
   "cell_type": "code",
   "execution_count": 25,
   "id": "1275880d",
   "metadata": {},
   "outputs": [],
   "source": [
    "public class Employee {\n",
    "\n",
    "    public int id;\n",
    "    public String name;\n",
    "\n",
    "    public Employee(int id, String name) {\n",
    "        this.id = id;\n",
    "        this.name = name;\n",
    "    }\n",
    "\n",
    "    public Employee(Employee employee) {\n",
    "        this.id = employee.id;\n",
    "        this.name = employee.name;\n",
    "    }\n",
    "\n",
    "    public Employee copy() {\n",
    "        return new Employee(this);\n",
    "    }\n",
    "}"
   ]
  },
  {
   "cell_type": "markdown",
   "id": "fdd770cc",
   "metadata": {},
   "source": [
    "This will mean that the class returned in **any** situation will always be of the correct type and because we are referencing the constructors in the respective clone method, any relationships created there will be created too. This is the most common way across languages to implement the prototype pattern."
   ]
  },
  {
   "cell_type": "code",
   "execution_count": 27,
   "id": "95524b19",
   "metadata": {},
   "outputs": [],
   "source": [
    "Employee emp = new Employee(1, \"Edward\");"
   ]
  },
  {
   "cell_type": "code",
   "execution_count": 28,
   "id": "a626d822",
   "metadata": {},
   "outputs": [],
   "source": [
    "Employee emp2 = emp.copy();"
   ]
  },
  {
   "cell_type": "code",
   "execution_count": 29,
   "id": "33924a1b",
   "metadata": {},
   "outputs": [
    {
     "name": "stdout",
     "output_type": "stream",
     "text": [
      "Edward\n",
      "Edward\n"
     ]
    }
   ],
   "source": [
    "System.out.println(emp.name);\n",
    "System.out.println(emp2.name);"
   ]
  },
  {
   "cell_type": "markdown",
   "id": "badbd83f",
   "metadata": {},
   "source": [
    "Now, to implement the subclass:"
   ]
  },
  {
   "cell_type": "code",
   "execution_count": 32,
   "id": "5abf742e",
   "metadata": {},
   "outputs": [],
   "source": [
    "public class Manager extends Employee {\n",
    "\n",
    "    public Manager(int id, String name) {\n",
    "        super(id, name);\n",
    "    }\n",
    "\n",
    "    public Manager(Manager manager) {\n",
    "        super(manager.id, manager.name);\n",
    "    }\n",
    "\n",
    "    @Override\n",
    "    public Employee copy() {\n",
    "        return new Manager(this);\n",
    "    }\n",
    "}"
   ]
  },
  {
   "cell_type": "markdown",
   "id": "2f88b3bb",
   "metadata": {},
   "source": [
    "Note that we override the parent class' copy method here, but it has an identical signature. Because of Java's baked in polymorphism, we have to do this. Luckily, Java enforces Liskov sub, therefore meaning child classes can replace parents."
   ]
  },
  {
   "cell_type": "markdown",
   "id": "a17860fb",
   "metadata": {},
   "source": [
    "## Implementation"
   ]
  },
  {
   "cell_type": "code",
   "execution_count": 43,
   "id": "9fe1c7c0",
   "metadata": {},
   "outputs": [],
   "source": [
    "// Prototype\n",
    "\n",
    "abstract class Shape implements Cloneable {\n",
    "    protected String id;\n",
    "    protected String type;\n",
    "    \n",
    "    public String getType(){\n",
    "        return this.type;\n",
    "    }\n",
    "    \n",
    "    public Object clone(){\n",
    "        Object clone = null;\n",
    "        \n",
    "        try {\n",
    "            clone = super.clone();\n",
    "        } catch(CloneNotSupportedException exception){\n",
    "            exception.printStackTrace();\n",
    "        }\n",
    "        \n",
    "        return clone;\n",
    "    }\n",
    "}"
   ]
  },
  {
   "cell_type": "code",
   "execution_count": 44,
   "id": "0f650bad",
   "metadata": {},
   "outputs": [],
   "source": [
    "class Rectangle extends Shape {\n",
    "    public Rectangle(){\n",
    "        id = \"1\";\n",
    "        type = \"Rectangle\";\n",
    "    }\n",
    "}"
   ]
  },
  {
   "cell_type": "markdown",
   "id": "86c40faf",
   "metadata": {},
   "source": [
    "There is no need to implement the clone method again here on the subclass as there are no new variables introduced."
   ]
  },
  {
   "cell_type": "code",
   "execution_count": 45,
   "id": "b995bc79",
   "metadata": {},
   "outputs": [],
   "source": [
    "class ShapeCache {\n",
    "    private static Hashtable<String, Shape> shapeMap = \n",
    "                                                new Hashtable<String, Shape>();\n",
    "    \n",
    "    public static Shape getShapeFromHash(String shapeId){\n",
    "        Shape cachedShape = shapeMap.get(shapeId);\n",
    "        return (Shape) cachedShape.clone();\n",
    "    }\n",
    "    \n",
    "    public static void loadCache(){\n",
    "        Rectangle rect = new Rectangle();\n",
    "        shapeMap.put(rect.id, rect);\n",
    "    }\n",
    "}"
   ]
  },
  {
   "cell_type": "code",
   "execution_count": 46,
   "id": "b0d2eefc",
   "metadata": {},
   "outputs": [],
   "source": [
    "ShapeCache.loadCache();"
   ]
  },
  {
   "cell_type": "code",
   "execution_count": 52,
   "id": "233335ed",
   "metadata": {},
   "outputs": [],
   "source": [
    "Shape myShape = ShapeCache.getShapeFromHash(\"1\");\n",
    "Shape myShape2 = ShapeCache.getShapeFromHash(\"1\");"
   ]
  },
  {
   "cell_type": "code",
   "execution_count": 54,
   "id": "3f2ddd1f",
   "metadata": {},
   "outputs": [
    {
     "name": "stdout",
     "output_type": "stream",
     "text": [
      "REPL.$JShell$28B$Rectangle@40c826e7\n",
      "REPL.$JShell$28B$Rectangle@d2def5e4\n",
      "1\n",
      "1\n"
     ]
    }
   ],
   "source": [
    "System.out.println(myShape);\n",
    "System.out.println(myShape2);\n",
    "\n",
    "System.out.println(myShape.id);\n",
    "System.out.println(myShape2.id);"
   ]
  },
  {
   "cell_type": "markdown",
   "id": "9dcd5d24",
   "metadata": {},
   "source": [
    "The static helper cache was bought into create objs for us so we weren't calling a constructor. The objects live in the hashtable and are copied out using the clone method. Note how we have to cast the object before returning. This is because the return is always an object and not the type actually stored. This is a limitation of clone().\n",
    "\n",
    "Check the copy constructor above for the best way to implement this pattern. This way is the best technically, but is very overhead heavy and rigid with how clients can use objects. Could be good for some situations, but generally isn't worth the effort."
   ]
  },
  {
   "cell_type": "markdown",
   "id": "fa28286e",
   "metadata": {},
   "source": [
    "**N.B.** The objects are the same, but they are not singletons. A copy technically counts as a new instance, but does not call the constructor."
   ]
  },
  {
   "cell_type": "markdown",
   "id": "ff28c516",
   "metadata": {},
   "source": [
    "## Example"
   ]
  },
  {
   "cell_type": "code",
   "execution_count": 57,
   "id": "4c695c5c",
   "metadata": {},
   "outputs": [],
   "source": [
    "abstract class BasicCar implements Cloneable {\n",
    "    protected String model;\n",
    "    protected float price;\n",
    "    \n",
    "    public Object clone(){\n",
    "        Object clone = null;\n",
    "        \n",
    "        try {\n",
    "            clone = super.clone();\n",
    "        } catch(CloneNotSupportedException exception){\n",
    "            exception.printStackTrace();\n",
    "        }\n",
    "        \n",
    "        return clone;\n",
    "    }\n",
    "}"
   ]
  },
  {
   "cell_type": "code",
   "execution_count": 58,
   "id": "60ff7ce0",
   "metadata": {},
   "outputs": [],
   "source": [
    "class Ford extends BasicCar {\n",
    "    public Ford(){\n",
    "        model = \"Ford\";\n",
    "        price = 234.55f;\n",
    "    }\n",
    "}"
   ]
  },
  {
   "cell_type": "code",
   "execution_count": 62,
   "id": "b1991261",
   "metadata": {},
   "outputs": [],
   "source": [
    "class CarCatalogue {\n",
    "    private static Hashtable<String, BasicCar> carMap = \n",
    "                                                new Hashtable<String, BasicCar>();\n",
    "    \n",
    "    public static BasicCar getCarFromModel(String model){\n",
    "        BasicCar cachedCar = carMap.get(model);\n",
    "        return (BasicCar) cachedCar.clone();\n",
    "    }\n",
    "    \n",
    "    public static void loadCache(){\n",
    "        Ford ford = new Ford();\n",
    "        carMap.put(ford.model, ford);\n",
    "    }\n",
    "}"
   ]
  },
  {
   "cell_type": "code",
   "execution_count": 63,
   "id": "7d9afd8a",
   "metadata": {},
   "outputs": [],
   "source": [
    "CarCatalogue.loadCache();"
   ]
  },
  {
   "cell_type": "code",
   "execution_count": 65,
   "id": "502b9bd4",
   "metadata": {},
   "outputs": [],
   "source": [
    "BasicCar myFord = CarCatalogue.getCarFromModel(\"Ford\");"
   ]
  },
  {
   "cell_type": "code",
   "execution_count": 66,
   "id": "a705137d",
   "metadata": {},
   "outputs": [
    {
     "name": "stdout",
     "output_type": "stream",
     "text": [
      "234.55\n"
     ]
    }
   ],
   "source": [
    "System.out.println(myFord.price);"
   ]
  },
  {
   "cell_type": "code",
   "execution_count": 67,
   "id": "297a1992",
   "metadata": {},
   "outputs": [],
   "source": [
    "BasicCar my2ndFord = CarCatalogue.getCarFromModel(\"Ford\");"
   ]
  },
  {
   "cell_type": "code",
   "execution_count": 68,
   "id": "213aef24",
   "metadata": {},
   "outputs": [
    {
     "name": "stdout",
     "output_type": "stream",
     "text": [
      "234.55\n"
     ]
    }
   ],
   "source": [
    "System.out.println(my2ndFord.price);"
   ]
  },
  {
   "cell_type": "markdown",
   "id": "fc420222",
   "metadata": {},
   "source": [
    "The nicer way to implement this pattern..."
   ]
  },
  {
   "cell_type": "code",
   "execution_count": 78,
   "id": "f28e1561",
   "metadata": {},
   "outputs": [],
   "source": [
    "class BasicCar {\n",
    "    protected String model;\n",
    "    protected float price;\n",
    "    \n",
    "    // If you want this to be a type \n",
    "    // can make the class abstract and remove\n",
    "    // the implementations of the constructors\n",
    "    // remember to make them abstract too though\n",
    "    \n",
    "    public BasicCar(String model, float price){\n",
    "        this.model = model;\n",
    "        this.price = price;\n",
    "    }\n",
    "    \n",
    "    public BasicCar(BasicCar car){\n",
    "        this.model = car.model;\n",
    "        this.price = car.price;\n",
    "    }\n",
    "    \n",
    "    public BasicCar copy(){\n",
    "        return new BasicCar(this);\n",
    "    }\n",
    "}"
   ]
  },
  {
   "cell_type": "code",
   "execution_count": 79,
   "id": "7ac14cc2",
   "metadata": {},
   "outputs": [],
   "source": [
    "class Ford extends BasicCar {\n",
    "    public Ford(String model, float price){\n",
    "        super(model, price);\n",
    "    }\n",
    "    \n",
    "    public Ford(Ford car){\n",
    "        super(car.model, car.price);\n",
    "    }\n",
    "    \n",
    "    public Ford copy(){\n",
    "        return new Ford(this);\n",
    "    }\n",
    "}"
   ]
  },
  {
   "cell_type": "code",
   "execution_count": 80,
   "id": "2a7a7a1d",
   "metadata": {},
   "outputs": [],
   "source": [
    "Ford myFord = new Ford(\"Ford Mustang\", 23.99f);"
   ]
  },
  {
   "cell_type": "code",
   "execution_count": 81,
   "id": "77e6a5f1",
   "metadata": {},
   "outputs": [],
   "source": [
    "Ford myFordTwo = myFord.copy();"
   ]
  },
  {
   "cell_type": "code",
   "execution_count": 82,
   "id": "238ee1d0",
   "metadata": {},
   "outputs": [
    {
     "name": "stdout",
     "output_type": "stream",
     "text": [
      "Ford Mustang\n",
      "Ford Mustang\n",
      "REPL.$JShell$45F$Ford@664adc22\n",
      "REPL.$JShell$45F$Ford@dc053cfa\n"
     ]
    }
   ],
   "source": [
    "System.out.println(myFord.model);\n",
    "System.out.println(myFordTwo.model);\n",
    "\n",
    "System.out.println(myFord);\n",
    "System.out.println(myFordTwo);"
   ]
  },
  {
   "cell_type": "markdown",
   "id": "a4612959",
   "metadata": {},
   "source": [
    "Can also use polymorphism with the above if the abstract class was used. This is nicer as it has a reduced footprint codewise, but allows all of the same functionality as the regular pattern. It's also way less complicated."
   ]
  }
 ],
 "metadata": {
  "kernelspec": {
   "display_name": "Java",
   "language": "java",
   "name": "java"
  },
  "language_info": {
   "codemirror_mode": "java",
   "file_extension": ".jshell",
   "mimetype": "text/x-java-source",
   "name": "Java",
   "pygments_lexer": "java",
   "version": "11.0.13+8"
  },
  "toc": {
   "base_numbering": 1,
   "nav_menu": {},
   "number_sections": true,
   "sideBar": true,
   "skip_h1_title": true,
   "title_cell": "Table of Contents",
   "title_sidebar": "Contents",
   "toc_cell": true,
   "toc_position": {},
   "toc_section_display": true,
   "toc_window_display": true
  }
 },
 "nbformat": 4,
 "nbformat_minor": 5
}
