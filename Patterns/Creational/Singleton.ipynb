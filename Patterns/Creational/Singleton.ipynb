{
 "cells": [
  {
   "cell_type": "markdown",
   "id": "46fba385",
   "metadata": {
    "toc": true
   },
   "source": [
    "<h1>Table of Contents<span class=\"tocSkip\"></span></h1>\n",
    "<div class=\"toc\"><ul class=\"toc-item\"><li><span><a href=\"#Intro\" data-toc-modified-id=\"Intro-1\"><span class=\"toc-item-num\">1&nbsp;&nbsp;</span>Intro</a></span><ul class=\"toc-item\"><li><span><a href=\"#Singleton-vs-Dependency-Injection\" data-toc-modified-id=\"Singleton-vs-Dependency-Injection-1.1\"><span class=\"toc-item-num\">1.1&nbsp;&nbsp;</span>Singleton vs Dependency Injection</a></span></li></ul></li><li><span><a href=\"#Implementation\" data-toc-modified-id=\"Implementation-2\"><span class=\"toc-item-num\">2&nbsp;&nbsp;</span>Implementation</a></span><ul class=\"toc-item\"><li><span><a href=\"#Lazy-Init\" data-toc-modified-id=\"Lazy-Init-2.1\"><span class=\"toc-item-num\">2.1&nbsp;&nbsp;</span>Lazy Init</a></span></li><li><span><a href=\"#Synchronised\" data-toc-modified-id=\"Synchronised-2.2\"><span class=\"toc-item-num\">2.2&nbsp;&nbsp;</span>Synchronised</a></span></li><li><span><a href=\"#Double-checked-locking\" data-toc-modified-id=\"Double-checked-locking-2.3\"><span class=\"toc-item-num\">2.3&nbsp;&nbsp;</span>Double checked locking</a></span></li><li><span><a href=\"#Eager-init\" data-toc-modified-id=\"Eager-init-2.4\"><span class=\"toc-item-num\">2.4&nbsp;&nbsp;</span>Eager init</a></span></li><li><span><a href=\"#Bill-Pugh---Best-way-for-Java\" data-toc-modified-id=\"Bill-Pugh---Best-way-for-Java-2.5\"><span class=\"toc-item-num\">2.5&nbsp;&nbsp;</span>Bill Pugh - Best way for Java</a></span></li></ul></li><li><span><a href=\"#Example\" data-toc-modified-id=\"Example-3\"><span class=\"toc-item-num\">3&nbsp;&nbsp;</span>Example</a></span></li></ul></div>"
   ]
  },
  {
   "cell_type": "markdown",
   "id": "beb6d0b9",
   "metadata": {},
   "source": [
    "# Singleton"
   ]
  },
  {
   "cell_type": "markdown",
   "id": "42c996f6",
   "metadata": {},
   "source": [
    "## Intro"
   ]
  },
  {
   "cell_type": "markdown",
   "id": "dc8f335a",
   "metadata": {},
   "source": [
    "The singleton pattern is a pretty simple patter. It's purpose is to ensure that only a *single* instance of a class exists and that if it is referred to again, that only that instance is returned.\n",
    "\n",
    "The class itself manages this behaviour and the only way to access the instance is via the class."
   ]
  },
  {
   "cell_type": "markdown",
   "id": "6e887c6c",
   "metadata": {},
   "source": [
    "A global access point is needed also. This again will be on the class itself."
   ]
  },
  {
   "cell_type": "markdown",
   "id": "4fb994b2",
   "metadata": {},
   "source": [
    "A good example of a singleton would be a window manager or a cache. Only one of these things should ever exist at a time."
   ]
  },
  {
   "cell_type": "markdown",
   "id": "36f1f1f9",
   "metadata": {},
   "source": [
    "Some advantages to this pattern are:\n",
    "* Controlled access to a sole instance (strict control over how it's accessed)\n",
    "* Reduced name space - avoids polluting name space with global variables\n",
    "* Permits a variable number of instances - a singleton is configurable. We like configurable."
   ]
  },
  {
   "cell_type": "markdown",
   "id": "f8dc2b7d",
   "metadata": {},
   "source": [
    "Some disadvantages to the pattern are:\n",
    "* Hindering unit testing (basically need the singleton in test which can cause issues depending on how you test - mocks can solve this)\n",
    "* Can create hidden dependencies. It's reference is obscured as part of the pattern, causing it to be baked into things that reference it."
   ]
  },
  {
   "cell_type": "markdown",
   "id": "1af1c7b1",
   "metadata": {},
   "source": [
    "The pattern works by having a method that is used to instantiate the object in question. No public constructor calls here!\n",
    "\n",
    "When the method is called, it checks to see if an instance exists. If it doesn't it creates one. If it does, it returns the existing instance."
   ]
  },
  {
   "cell_type": "markdown",
   "id": "7325e338",
   "metadata": {},
   "source": [
    "### Singleton vs Dependency Injection"
   ]
  },
  {
   "cell_type": "markdown",
   "id": "3be5262e",
   "metadata": {},
   "source": [
    "Singletons and Dependency injection can be somewhat similar. They both use specific constructor behaviour to achieve management of class instances and they help to manage cognitive load with methods."
   ]
  },
  {
   "cell_type": "markdown",
   "id": "8346b5db",
   "metadata": {},
   "source": [
    "Dependency injection avoids the use of static methods (the dependency is only injected at runtime/ instance creation). This is one of the most common reasons we should choose dependency injection."
   ]
  },
  {
   "cell_type": "markdown",
   "id": "93a5c9c8",
   "metadata": {},
   "source": [
    "DI often uses the constructor to create a single object. Whereas, the singleton pattern abuses constructor behaviour and scoping rules with a static method. This means that the class doesn't need to be built ever, making it a bit difficult to track the dependency if one actually exists."
   ]
  },
  {
   "cell_type": "markdown",
   "id": "93114b2b",
   "metadata": {},
   "source": [
    "The way to choose which to use relies on how the instance will be used. If the instance is responsible for something independent from most things in the system (window manager) a singleton is best.\n",
    "\n",
    "Otherwise, dependency injection is the better choice. as it will allow for stronger context boundaries and easier testing (email client)."
   ]
  },
  {
   "cell_type": "markdown",
   "id": "42564640",
   "metadata": {},
   "source": [
    "Basically think of how many layers it spans. If it is only native to a particular layer (repository), it should probably use DI. If it is something that is likely to be used in multiple places, but not actually factor into the mechanics at all, it should probably be a singleton."
   ]
  },
  {
   "cell_type": "markdown",
   "id": "04df2a08",
   "metadata": {},
   "source": [
    "## Implementation"
   ]
  },
  {
   "cell_type": "markdown",
   "id": "46a3773c",
   "metadata": {},
   "source": [
    "### Lazy Init "
   ]
  },
  {
   "cell_type": "code",
   "execution_count": 3,
   "id": "20c53a58",
   "metadata": {},
   "outputs": [],
   "source": [
    "class Singleton {\n",
    "    private static Singleton uniqueInstance;\n",
    "    \n",
    "    private Singleton(){}\n",
    "    \n",
    "    public static Singleton getInstance()\n",
    "    {\n",
    "        if(uniqueInstance == null){\n",
    "            uniqueInstance = new Singleton();\n",
    "        }\n",
    "        \n",
    "        return uniqueInstance;\n",
    "    }\n",
    "}"
   ]
  },
  {
   "cell_type": "markdown",
   "id": "6027939e",
   "metadata": {},
   "source": [
    "The most basic way to implement the singleton pattern. This is not at all ideal. It is not thread-safe and doesn't really scale all that well.\n",
    "\n",
    "Advantages:\n",
    "* Simple\n",
    "* Easy to read\n",
    "\n",
    "Disadvantages:\n",
    "* Not thread-safe"
   ]
  },
  {
   "cell_type": "code",
   "execution_count": 7,
   "id": "4882e033",
   "metadata": {},
   "outputs": [
    {
     "name": "stdout",
     "output_type": "stream",
     "text": [
      "REPL.$JShell$14$Singleton@129f99f6\n",
      "REPL.$JShell$14$Singleton@129f99f6\n"
     ]
    }
   ],
   "source": [
    "Singleton mySingleton = Singleton.getInstance();\n",
    "System.out.println(mySingleton);\n",
    "\n",
    "Singleton mySingletonTwo = Singleton.getInstance();\n",
    "System.out.println(mySingletonTwo);"
   ]
  },
  {
   "cell_type": "markdown",
   "id": "8862804c",
   "metadata": {},
   "source": [
    "### Synchronised"
   ]
  },
  {
   "cell_type": "code",
   "execution_count": null,
   "id": "49857633",
   "metadata": {},
   "outputs": [],
   "source": [
    "class Singleton {\n",
    "    private static Singleton uniqueInstance;\n",
    "    \n",
    "    private Singleton(){}\n",
    "    \n",
    "    public static synchronized Singleton getInstance()\n",
    "    {\n",
    "        if(uniqueInstance == null){\n",
    "            uniqueInstance = new Singleton();\n",
    "        }\n",
    "        \n",
    "        return uniqueInstance;\n",
    "    }\n",
    "}"
   ]
  },
  {
   "cell_type": "code",
   "execution_count": 10,
   "id": "ac4c5052",
   "metadata": {},
   "outputs": [
    {
     "name": "stdout",
     "output_type": "stream",
     "text": [
      "REPL.$JShell$14C$Singleton@7a4d1c0f\n",
      "REPL.$JShell$14C$Singleton@7a4d1c0f\n"
     ]
    }
   ],
   "source": [
    "Singleton mySingleton = Singleton.getInstance();\n",
    "System.out.println(mySingleton);\n",
    "\n",
    "Singleton mySingletonTwo = Singleton.getInstance();\n",
    "System.out.println(mySingletonTwo);"
   ]
  },
  {
   "cell_type": "markdown",
   "id": "9963f05b",
   "metadata": {},
   "source": [
    "Effective and straightforward. Still not the best possible way in Java, but this is a decent analogue for most other languages to implement. If the synchronized key word doesn't exist in the lang, find the way to create blocking ops (most languages have this or a GIL).\n",
    "\n",
    "Advantages:\n",
    "* Thread-safe\n",
    "* Straight forward and effective\n",
    "\n",
    "Disadvantages:\n",
    "* Not performance focused"
   ]
  },
  {
   "cell_type": "markdown",
   "id": "cfee05db",
   "metadata": {},
   "source": [
    "### Double checked locking"
   ]
  },
  {
   "cell_type": "code",
   "execution_count": 11,
   "id": "f0fac873",
   "metadata": {},
   "outputs": [],
   "source": [
    "class Singleton {\n",
    "    private volatile static Singleton uniqueInstance;\n",
    "    \n",
    "    private Singleton(){}\n",
    "    \n",
    "    public static Singleton getInstance()\n",
    "    {\n",
    "        if(uniqueInstance == null){\n",
    "            synchronized (Singleton.class){\n",
    "                if(uniqueInstance == null){\n",
    "                    uniqueInstance = new Singleton();\n",
    "                }\n",
    "            }\n",
    "        }\n",
    "        \n",
    "        return uniqueInstance;\n",
    "    }\n",
    "}"
   ]
  },
  {
   "cell_type": "code",
   "execution_count": 12,
   "id": "811eee15",
   "metadata": {},
   "outputs": [
    {
     "name": "stdout",
     "output_type": "stream",
     "text": [
      "REPL.$JShell$14E$Singleton@48d06287\n",
      "REPL.$JShell$14E$Singleton@48d06287\n"
     ]
    }
   ],
   "source": [
    "Singleton mySingleton = Singleton.getInstance();\n",
    "System.out.println(mySingleton);\n",
    "\n",
    "Singleton mySingletonTwo = Singleton.getInstance();\n",
    "System.out.println(mySingletonTwo);"
   ]
  },
  {
   "cell_type": "markdown",
   "id": "23a47c05",
   "metadata": {},
   "source": [
    "Much better way of implementing the singleton. Has better performance and is also thread-safe. Not really an analogue to use in other languages. Is also a bit messy with the nested ifs, but it is an option and one that likely is used in the wild."
   ]
  },
  {
   "cell_type": "markdown",
   "id": "fa5356cf",
   "metadata": {},
   "source": [
    "### Eager init"
   ]
  },
  {
   "cell_type": "code",
   "execution_count": 13,
   "id": "b0cc48c6",
   "metadata": {},
   "outputs": [],
   "source": [
    "class Singleton {\n",
    "    private static Singleton uniqueInstance = new Singleton();\n",
    "    \n",
    "    private Singleton(){}\n",
    "    \n",
    "    public static Singleton getInstance()\n",
    "    {        \n",
    "        return uniqueInstance;\n",
    "    }\n",
    "}"
   ]
  },
  {
   "cell_type": "code",
   "execution_count": 14,
   "id": "16213441",
   "metadata": {},
   "outputs": [
    {
     "name": "stdout",
     "output_type": "stream",
     "text": [
      "REPL.$JShell$14G$Singleton@53fc5dca\n",
      "REPL.$JShell$14G$Singleton@53fc5dca\n"
     ]
    }
   ],
   "source": [
    "Singleton mySingleton = Singleton.getInstance();\n",
    "System.out.println(mySingleton);\n",
    "\n",
    "Singleton mySingletonTwo = Singleton.getInstance();\n",
    "System.out.println(mySingletonTwo);"
   ]
  },
  {
   "cell_type": "markdown",
   "id": "65242ba7",
   "metadata": {},
   "source": [
    "This is one of the best ways to implement the singleton pattern in Java. It is even better from a performance perspective than the other implementations and doesn't use many resources. But, it does mean that the singleton will always be created.\n",
    "\n",
    "Advantages:\n",
    "* thread-safe\n",
    "* doesn't use many resources\n",
    "\n",
    "Disadvantages:\n",
    "* Will always create an instance of the singleton"
   ]
  },
  {
   "cell_type": "markdown",
   "id": "64a3b448",
   "metadata": {},
   "source": [
    "### Bill Pugh - Best way for Java"
   ]
  },
  {
   "cell_type": "code",
   "execution_count": 15,
   "id": "56bbd155",
   "metadata": {},
   "outputs": [],
   "source": [
    "class Singleton {\n",
    "\n",
    "    private static class SingletonHelper {\n",
    "        private static final Singleton uniqueInstance = \n",
    "                                                    new Singleton();\n",
    "    }\n",
    "    \n",
    "    private Singleton(){}\n",
    "    \n",
    "    public static Singleton getInstance()\n",
    "    {\n",
    "        return SingletonHelper.uniqueInstance;\n",
    "    }\n",
    "}"
   ]
  },
  {
   "cell_type": "code",
   "execution_count": 16,
   "id": "cc8b6e62",
   "metadata": {},
   "outputs": [
    {
     "name": "stdout",
     "output_type": "stream",
     "text": [
      "REPL.$JShell$14I$Singleton@b675c80\n",
      "REPL.$JShell$14I$Singleton@b675c80\n"
     ]
    }
   ],
   "source": [
    "Singleton mySingleton = Singleton.getInstance();\n",
    "System.out.println(mySingleton);\n",
    "\n",
    "Singleton mySingletonTwo = Singleton.getInstance();\n",
    "System.out.println(mySingletonTwo);"
   ]
  },
  {
   "cell_type": "markdown",
   "id": "74784499",
   "metadata": {},
   "source": [
    "This approach is pod racing. This uses lots of cool, but basic Java features to ensure that the instance is returned. The final keyword ensures that the variable cannot be reassigned. \n",
    "\n",
    "The nested inner class ensures that the encapsulated variable is not instantiated until it is called by the getInstance method.\n",
    "\n",
    "Because of the above, this is the best possible implementation in Java."
   ]
  },
  {
   "cell_type": "markdown",
   "id": "fc25d367",
   "metadata": {},
   "source": [
    "## Example"
   ]
  },
  {
   "cell_type": "code",
   "execution_count": 19,
   "id": "49433dea",
   "metadata": {},
   "outputs": [],
   "source": [
    "class CricketTeam {\n",
    "    \n",
    "    private String captainName;\n",
    "\n",
    "    private static class TeamHelper {\n",
    "        private static final CricketTeam cricketTeam = new CricketTeam();\n",
    "    }\n",
    "    \n",
    "    private CricketTeam(){}\n",
    "    \n",
    "    public static CricketTeam getCricketTeam()\n",
    "    {\n",
    "        return TeamHelper.cricketTeam;\n",
    "    }\n",
    "    \n",
    "    public void setCaptain(String captainName)\n",
    "    {\n",
    "        this.captainName = captainName;\n",
    "    }\n",
    "    \n",
    "    public void printCaptain()\n",
    "    {\n",
    "        System.out.println(this.captainName);\n",
    "    }\n",
    "}"
   ]
  },
  {
   "cell_type": "code",
   "execution_count": 22,
   "id": "31b47d48",
   "metadata": {},
   "outputs": [
    {
     "name": "stdout",
     "output_type": "stream",
     "text": [
      "Edward\n"
     ]
    }
   ],
   "source": [
    "CricketTeam myTeam = CricketTeam.getCricketTeam();\n",
    "myTeam.setCaptain(\"Edward\");\n",
    "myTeam.printCaptain();"
   ]
  },
  {
   "cell_type": "code",
   "execution_count": 24,
   "id": "8157f401",
   "metadata": {},
   "outputs": [
    {
     "name": "stdout",
     "output_type": "stream",
     "text": [
      "Edward\n"
     ]
    }
   ],
   "source": [
    "CricketTeam myTeamTwo = CricketTeam.getCricketTeam();\n",
    "myTeam.printCaptain();"
   ]
  },
  {
   "cell_type": "code",
   "execution_count": 26,
   "id": "f4fadaeb",
   "metadata": {},
   "outputs": [
    {
     "data": {
      "text/plain": [
       "true"
      ]
     },
     "execution_count": 26,
     "metadata": {},
     "output_type": "execute_result"
    }
   ],
   "source": [
    "myTeam == myTeamTwo;"
   ]
  }
 ],
 "metadata": {
  "kernelspec": {
   "display_name": "Java",
   "language": "java",
   "name": "java"
  },
  "language_info": {
   "codemirror_mode": "java",
   "file_extension": ".jshell",
   "mimetype": "text/x-java-source",
   "name": "Java",
   "pygments_lexer": "java",
   "version": "11.0.13+8"
  },
  "toc": {
   "base_numbering": 1,
   "nav_menu": {},
   "number_sections": true,
   "sideBar": true,
   "skip_h1_title": true,
   "title_cell": "Table of Contents",
   "title_sidebar": "Contents",
   "toc_cell": true,
   "toc_position": {},
   "toc_section_display": true,
   "toc_window_display": true
  }
 },
 "nbformat": 4,
 "nbformat_minor": 5
}
