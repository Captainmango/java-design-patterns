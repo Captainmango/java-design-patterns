{
 "cells": [
  {
   "cell_type": "markdown",
   "id": "40ea475b",
   "metadata": {
    "toc": true
   },
   "source": [
    "<h1>Table of Contents<span class=\"tocSkip\"></span></h1>\n",
    "<div class=\"toc\"><ul class=\"toc-item\"><li><span><a href=\"#Intro\" data-toc-modified-id=\"Intro-1\"><span class=\"toc-item-num\">1&nbsp;&nbsp;</span>Intro</a></span></li><li><span><a href=\"#Implementation\" data-toc-modified-id=\"Implementation-2\"><span class=\"toc-item-num\">2&nbsp;&nbsp;</span>Implementation</a></span></li><li><span><a href=\"#Examples\" data-toc-modified-id=\"Examples-3\"><span class=\"toc-item-num\">3&nbsp;&nbsp;</span>Examples</a></span></li></ul></div>"
   ]
  },
  {
   "cell_type": "markdown",
   "id": "9680216e",
   "metadata": {},
   "source": [
    "# Abstract Factory"
   ]
  },
  {
   "cell_type": "markdown",
   "id": "ba5e171e",
   "metadata": {},
   "source": [
    "## Intro"
   ]
  },
  {
   "cell_type": "markdown",
   "id": "7826f351",
   "metadata": {},
   "source": [
    "An abstract factory provides an interface for creating families of related objects without specifying their concrete classes. Essentially, a factory of factories."
   ]
  },
  {
   "cell_type": "markdown",
   "id": "64c068b3",
   "metadata": {},
   "source": [
    "This pattern does not concern itself with the production of products, only that it can do so. "
   ]
  },
  {
   "cell_type": "markdown",
   "id": "457df1d8",
   "metadata": {},
   "source": [
    "This is done by using an abstract class that provides factory methods (Abstract Creator version of factory), providing encapsulation to a group of factories."
   ]
  },
  {
   "cell_type": "markdown",
   "id": "f757fb60",
   "metadata": {},
   "source": [
    "We should use this pattern when:\n",
    "* when a system is composed of interdependent products\n",
    "* has different families of objects that are used under different circumstances (different product interfaces)\n",
    "* We need to handle multiple factory *types*\n",
    "* When the system of products need to coexist\n"
   ]
  },
  {
   "cell_type": "markdown",
   "id": "d91721ec",
   "metadata": {},
   "source": [
    "Some advantages to this pattern are:\n",
    "* Isolates clients from concrete implementation\n",
    "* Makes exchanging product families simpler\n",
    "* promotes consistency amongst products"
   ]
  },
  {
   "cell_type": "markdown",
   "id": "e8b22069",
   "metadata": {},
   "source": [
    "Some disadvantages of this pattern are:\n",
    "* Rigid in terms of producing new types of products (Same as abstract creator)"
   ]
  },
  {
   "cell_type": "markdown",
   "id": "b9bd60ff",
   "metadata": {},
   "source": [
    "## Implementation"
   ]
  },
  {
   "cell_type": "code",
   "execution_count": 92,
   "id": "a4d8f2f3",
   "metadata": {},
   "outputs": [],
   "source": [
    "interface Shape {\n",
    "    void draw();\n",
    "}"
   ]
  },
  {
   "cell_type": "code",
   "execution_count": 93,
   "id": "b7f5c2ce",
   "metadata": {},
   "outputs": [],
   "source": [
    "interface Colour {\n",
    "    void fill();\n",
    "}"
   ]
  },
  {
   "cell_type": "code",
   "execution_count": 94,
   "id": "c4e7e553",
   "metadata": {},
   "outputs": [],
   "source": [
    "class Red implements Colour {\n",
    "    @Override\n",
    "    public void fill() {\n",
    "        System.out.println(\"This is Red\");\n",
    "    }\n",
    "}"
   ]
  },
  {
   "cell_type": "code",
   "execution_count": 95,
   "id": "e7ae45e0",
   "metadata": {},
   "outputs": [],
   "source": [
    "class Square implements Shape {\n",
    "    @Override\n",
    "    public void draw() {\n",
    "        System.out.println(\"This is a square\");\n",
    "    }\n",
    "}"
   ]
  },
  {
   "cell_type": "code",
   "execution_count": 96,
   "id": "a55c7608",
   "metadata": {},
   "outputs": [],
   "source": [
    "abstract class AbstractFactory {\n",
    "    abstract Colour getColour(String getColour);\n",
    "    abstract Shape getShape(String getShape);\n",
    "}"
   ]
  },
  {
   "cell_type": "code",
   "execution_count": 101,
   "id": "3bb739de",
   "metadata": {},
   "outputs": [],
   "source": [
    "class ShapeFactory extends AbstractFactory {\n",
    "    @Override\n",
    "    public Colour getColour(String type){\n",
    "        return null;\n",
    "    }\n",
    "    \n",
    "    @Override\n",
    "    public Shape getShape(String type){\n",
    "        switch(type.toLowerCase()){\n",
    "            case \"square\":\n",
    "                return new Square();\n",
    "            default:\n",
    "                return null;\n",
    "        }\n",
    "    }\n",
    "}"
   ]
  },
  {
   "cell_type": "code",
   "execution_count": 102,
   "id": "a65c3cae",
   "metadata": {},
   "outputs": [],
   "source": [
    "class ColourFactory extends AbstractFactory {\n",
    "    @Override\n",
    "    public Shape getShape(String type){\n",
    "        return null;\n",
    "    }\n",
    "    \n",
    "    @Override\n",
    "    public Colour getColour(String type){\n",
    "        switch(type.toLowerCase()){\n",
    "            case \"red\":\n",
    "                return new Red();\n",
    "            default:\n",
    "                return null;\n",
    "        }\n",
    "    }\n",
    "}\n"
   ]
  },
  {
   "cell_type": "markdown",
   "id": "33dfc512",
   "metadata": {},
   "source": [
    "So, this is basically the Abstract Creator version of the factory pattern but with one key difference. The Abstract class knows about the types of products it can create."
   ]
  },
  {
   "cell_type": "markdown",
   "id": "422e2337",
   "metadata": {},
   "source": [
    "This example isn't following the interface segregation principle properly, so could lead to a fat abstract class. It would in fact make more sense to have a base implementation of both methods in the abstract class so the client could choose which to implement.\n",
    "\n",
    "This would also allow the factory to satisfy Liskov substitution correctly, not that the factory will ever be passed into a function."
   ]
  },
  {
   "cell_type": "markdown",
   "id": "f3390fb8",
   "metadata": {},
   "source": [
    "This of course is pretty messy and means factories will implement methods they do not need. Seems like using the Abstract Creator pattern is a better way forward here unless you want to implement a single factory that is responsible for creation of a family of objects."
   ]
  },
  {
   "cell_type": "markdown",
   "id": "1da835b7",
   "metadata": {},
   "source": [
    "To tie up this pattern, we need to implement a FactoryProducer"
   ]
  },
  {
   "cell_type": "code",
   "execution_count": 103,
   "id": "931c1479",
   "metadata": {},
   "outputs": [],
   "source": [
    "class FactoryProducer {\n",
    "    public static AbstractFactory getFactory(String type)\n",
    "    {\n",
    "        switch(type.toLowerCase()){\n",
    "            case \"colour\":\n",
    "                return new ColourFactory();\n",
    "            case \"shape\":\n",
    "                return new ShapeFactory();\n",
    "            default:\n",
    "                return null;\n",
    "        }\n",
    "    }\n",
    "}"
   ]
  },
  {
   "cell_type": "code",
   "execution_count": 104,
   "id": "8428950a",
   "metadata": {},
   "outputs": [],
   "source": [
    "AbstractFactory myShapeFactory = FactoryProducer.getFactory(\"shape\");\n",
    "Shape myShape = myShapeFactory.getShape(\"square\");"
   ]
  },
  {
   "cell_type": "code",
   "execution_count": 108,
   "id": "9fad26cd",
   "metadata": {},
   "outputs": [
    {
     "name": "stdout",
     "output_type": "stream",
     "text": [
      "This is a square\n"
     ]
    }
   ],
   "source": [
    "myShape.draw();"
   ]
  },
  {
   "cell_type": "code",
   "execution_count": null,
   "id": "df2477d2",
   "metadata": {},
   "outputs": [],
   "source": [
    "AbstractFactory myColourFactory = FactoryProducer.getFactory(\"colour\");\n",
    "Colour myColour = myColourFactory.getColour(\"red\");"
   ]
  },
  {
   "cell_type": "code",
   "execution_count": 107,
   "id": "51603e6d",
   "metadata": {},
   "outputs": [
    {
     "name": "stdout",
     "output_type": "stream",
     "text": [
      "This is Red\n"
     ]
    }
   ],
   "source": [
    "myColour.fill();"
   ]
  },
  {
   "cell_type": "markdown",
   "id": "5939060f",
   "metadata": {},
   "source": [
    "As shown, it is now possible for us to create factories of a given type. We use the static method here so that we don't need to concretise a class of the FactoryProducer (essentially follows the command pattern but without the naming)."
   ]
  },
  {
   "cell_type": "markdown",
   "id": "7568ab9e",
   "metadata": {},
   "source": [
    "## Examples"
   ]
  },
  {
   "cell_type": "code",
   "execution_count": 83,
   "id": "c8537174",
   "metadata": {},
   "outputs": [],
   "source": [
    "interface IMovie {\n",
    "    void getMovieName();\n",
    "}"
   ]
  },
  {
   "cell_type": "code",
   "execution_count": 84,
   "id": "e0add870",
   "metadata": {},
   "outputs": [],
   "source": [
    "abstract class AbstractMovieFactory {\n",
    "    abstract IMovie getInstance(String type);\n",
    "}"
   ]
  },
  {
   "cell_type": "code",
   "execution_count": 85,
   "id": "9aae8a5c",
   "metadata": {},
   "outputs": [],
   "source": [
    "abstract class HollywoodMovie implements IMovie {\n",
    "    public void getMovieName()\n",
    "    {\n",
    "        System.out.println(\"Hollywood Movie\");\n",
    "    }\n",
    "}"
   ]
  },
  {
   "cell_type": "code",
   "execution_count": 86,
   "id": "ed9394df",
   "metadata": {},
   "outputs": [],
   "source": [
    "abstract class BollywoodMovie implements IMovie {\n",
    "    public void getMovieName()\n",
    "    {\n",
    "        System.out.println(\"Bollywood Movie\");\n",
    "    }\n",
    "}"
   ]
  },
  {
   "cell_type": "code",
   "execution_count": 87,
   "id": "b081a0ea",
   "metadata": {},
   "outputs": [],
   "source": [
    "class HollywoodActionMovie extends HollywoodMovie {\n",
    "    public void getMovieName()\n",
    "    {\n",
    "        System.out.println(\"Hollywood Action Movie\");\n",
    "    }\n",
    "}"
   ]
  },
  {
   "cell_type": "code",
   "execution_count": 88,
   "id": "eb2ff4cd",
   "metadata": {},
   "outputs": [],
   "source": [
    "class HollywoodComedyMovie extends HollywoodMovie {\n",
    "    public void getMovieName()\n",
    "    {\n",
    "        System.out.println(\"Hollywood Comedy Movie\");\n",
    "    }\n",
    "}"
   ]
  },
  {
   "cell_type": "code",
   "execution_count": 89,
   "id": "7f918cde",
   "metadata": {},
   "outputs": [],
   "source": [
    "class BollywoodActionMovie extends BollywoodMovie {\n",
    "    public void getMovieName()\n",
    "    {\n",
    "        System.out.println(\"Bollywood Action Movie\");\n",
    "    }\n",
    "}"
   ]
  },
  {
   "cell_type": "code",
   "execution_count": 90,
   "id": "0e91047f",
   "metadata": {},
   "outputs": [],
   "source": [
    "class BollywoodComedyMovie extends BollywoodMovie {\n",
    "    public void getMovieName()\n",
    "    {\n",
    "        System.out.println(\"Bollywood Comedy Movie\");\n",
    "    }\n",
    "}"
   ]
  },
  {
   "cell_type": "code",
   "execution_count": 91,
   "id": "04ee246e",
   "metadata": {},
   "outputs": [],
   "source": [
    "class HollywoodMovieFactory extends AbstractMovieFactory {\n",
    "    public HollywoodMovie getInstance(String type)\n",
    "    {\n",
    "        switch(type.toLowerCase()){\n",
    "            case \"action\":\n",
    "                return new HollywoodActionMovie();\n",
    "            case \"comedy\":\n",
    "                return new HollywoodComedyMovie();\n",
    "            default:\n",
    "                return null;\n",
    "        }\n",
    "    }\n",
    "}"
   ]
  },
  {
   "cell_type": "code",
   "execution_count": 92,
   "id": "0caa2a3c",
   "metadata": {},
   "outputs": [],
   "source": [
    "class BollywoodMovieFactory extends AbstractMovieFactory {\n",
    "    public BollywoodMovie getInstance(String type)\n",
    "    {\n",
    "        switch(type.toLowerCase()){\n",
    "            case \"action\":\n",
    "                return (BollywoodMovie) new BollywoodActionMovie();\n",
    "            case \"comedy\":\n",
    "                return (BollywoodMovie) new BollywoodComedyMovie();\n",
    "            default:\n",
    "                return null;\n",
    "        }\n",
    "    }\n",
    "}"
   ]
  },
  {
   "cell_type": "code",
   "execution_count": 93,
   "id": "92bf7926",
   "metadata": {},
   "outputs": [],
   "source": [
    "class FactoryProducer {\n",
    "    public static AbstractMovieFactory getFactory(String type){\n",
    "        switch(type.toLowerCase()){\n",
    "            case \"hollywood\":\n",
    "                return new HollywoodMovieFactory();\n",
    "            case \"bollywood\":\n",
    "                return new BollywoodMovieFactory();\n",
    "            default:\n",
    "                return null;                \n",
    "        }\n",
    "    }\n",
    "}"
   ]
  },
  {
   "cell_type": "code",
   "execution_count": 95,
   "id": "28e4a9fa",
   "metadata": {},
   "outputs": [
    {
     "name": "stdout",
     "output_type": "stream",
     "text": [
      "Hollywood Action Movie\n"
     ]
    }
   ],
   "source": [
    "AbstractMovieFactory hollywoodMovieFactory = \n",
    "                                        FactoryProducer.getFactory(\"hollywood\");\n",
    "                        \n",
    "IMovie myMovie = hollywoodMovieFactory.getInstance(\"action\");\n",
    "myMovie.getMovieName();"
   ]
  },
  {
   "cell_type": "markdown",
   "id": "9bb92053",
   "metadata": {},
   "source": [
    "There is a lot going on here, but the key bit to remember is that the interface is what creates the 'contract' with the objects in question. The implementations of the abstract classes exist purely to *explain* how an object is meant to work once instantiated. The methods on this are also base implementations to ensure that subclasses can satisfy Liskov substitution if that was ever needed (Java enforces this anyway as you cannot use the abstract classes as types)."
   ]
  },
  {
   "cell_type": "markdown",
   "id": "f861606b",
   "metadata": {},
   "source": [
    "This pattern is a bit weird. Not sure when this would ever really be useful as concrete factories do basically the same thing. I guess this helps federate the code base and ensure people cannot misuse factories and objects."
   ]
  }
 ],
 "metadata": {
  "kernelspec": {
   "display_name": "Java",
   "language": "java",
   "name": "java"
  },
  "language_info": {
   "codemirror_mode": "java",
   "file_extension": ".jshell",
   "mimetype": "text/x-java-source",
   "name": "Java",
   "pygments_lexer": "java",
   "version": "11.0.13+8"
  },
  "toc": {
   "base_numbering": 1,
   "nav_menu": {},
   "number_sections": true,
   "sideBar": true,
   "skip_h1_title": true,
   "title_cell": "Table of Contents",
   "title_sidebar": "Contents",
   "toc_cell": true,
   "toc_position": {
    "height": "calc(100% - 180px)",
    "left": "10px",
    "top": "150px",
    "width": "191.594px"
   },
   "toc_section_display": true,
   "toc_window_display": true
  }
 },
 "nbformat": 4,
 "nbformat_minor": 5
}
