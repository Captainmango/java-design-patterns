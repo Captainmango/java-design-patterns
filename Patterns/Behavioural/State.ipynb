{
 "cells": [
  {
   "cell_type": "markdown",
   "id": "2ef84f23",
   "metadata": {
    "toc": true
   },
   "source": [
    "<h1>Table of Contents<span class=\"tocSkip\"></span></h1>\n",
    "<div class=\"toc\"><ul class=\"toc-item\"><li><span><a href=\"#Intro\" data-toc-modified-id=\"Intro-1\"><span class=\"toc-item-num\">1&nbsp;&nbsp;</span>Intro</a></span></li><li><span><a href=\"#Implementation\" data-toc-modified-id=\"Implementation-2\"><span class=\"toc-item-num\">2&nbsp;&nbsp;</span>Implementation</a></span></li><li><span><a href=\"#Example\" data-toc-modified-id=\"Example-3\"><span class=\"toc-item-num\">3&nbsp;&nbsp;</span>Example</a></span></li></ul></div>"
   ]
  },
  {
   "cell_type": "markdown",
   "id": "2ff9ed67",
   "metadata": {},
   "source": [
    "# State"
   ]
  },
  {
   "cell_type": "markdown",
   "id": "444e56a5",
   "metadata": {},
   "source": [
    "## Intro"
   ]
  },
  {
   "cell_type": "markdown",
   "id": "994ce0d8",
   "metadata": {},
   "source": [
    "The state design pattern allows an object to alter its behaviour when its internal state changes. The object will appear to change its class. This of course, doesn't happen, but it does signify that the behaviour is a result of the function of its state. Polymorphism is in full swing here, changing how it works at run time.\n",
    "\n",
    "Normally, you would need the state in the object to determine its state. This pattern allows us to upend this way of thinking and instead allows us to create objects that represent the state and a context that has its behaviour change when the state changes.\n",
    "\n",
    "This allows for a systematic and loosely couple way of achieving state change that can be easily extended and interpreted by clients."
   ]
  },
  {
   "cell_type": "markdown",
   "id": "a7382e92",
   "metadata": {},
   "source": [
    "A good example of a real world thing using state is traffic lights. There are predetermined states and the light itself determines what state is being shown and when."
   ]
  },
  {
   "cell_type": "markdown",
   "id": "ab072519",
   "metadata": {},
   "source": [
    "We should use the state pattern when the objects behaviour depends on its state and it must change its behaviour at run time.\n",
    "\n",
    "Also, when operations have a large multipart set of conditional logic that depend on objects intrinsic state. The pattern allows us to separate the branches of logic into deterministic sets and gives us the ability to properly reason them in a vacuum. (Think about traffic lights, they have 4 states that are distinct and that cooperate.)"
   ]
  },
  {
   "cell_type": "markdown",
   "id": "9c6b09b0",
   "metadata": {},
   "source": [
    "Advantages to the pattern are:\n",
    "* Puts all behaviour associated with state into one object\n",
    "* Allows transition logic to be incorporated into the state itself rather than massifve if-else trees\n",
    "* Helps avoid inconsistent state changes due to rebinding on variable repeatedly (also saves memory)\n",
    "* Easy to extend with new states when needed due to the context doing the work and working polymoprhically"
   ]
  },
  {
   "cell_type": "markdown",
   "id": "539a58d2",
   "metadata": {},
   "source": [
    "## Implementation"
   ]
  },
  {
   "cell_type": "code",
   "execution_count": 8,
   "id": "4ba6c1c6",
   "metadata": {},
   "outputs": [],
   "source": [
    "abstract class RemoteControl {\n",
    "    public abstract void pressSwitch(TV context);\n",
    "}"
   ]
  },
  {
   "cell_type": "code",
   "execution_count": 9,
   "id": "851f5bf0",
   "metadata": {},
   "outputs": [],
   "source": [
    "class TV {\n",
    "    private RemoteControl state;\n",
    "    \n",
    "    public TV(RemoteControl state)\n",
    "    {\n",
    "        this.state = state;\n",
    "    }\n",
    "    \n",
    "    public void setState(RemoteControl state)\n",
    "    {\n",
    "        this.state = state;\n",
    "    }\n",
    "    \n",
    "    public RemoteControl getState()\n",
    "    {\n",
    "        return this.state;\n",
    "    }\n",
    "    \n",
    "    public void pressButton()\n",
    "    {\n",
    "        this.state.pressSwitch(this);\n",
    "    }\n",
    "}"
   ]
  },
  {
   "cell_type": "code",
   "execution_count": 10,
   "id": "4eae2726",
   "metadata": {},
   "outputs": [],
   "source": [
    "class Off extends RemoteControl {\n",
    "    @Override\n",
    "    public void pressSwitch(TV context)\n",
    "    {\n",
    "        System.out.println(\"TV turning on\");\n",
    "        context.setState(new On());\n",
    "    }\n",
    "}"
   ]
  },
  {
   "cell_type": "code",
   "execution_count": 11,
   "id": "95908afa",
   "metadata": {},
   "outputs": [],
   "source": [
    "class On extends RemoteControl {\n",
    "    @Override\n",
    "    public void pressSwitch(TV context)\n",
    "    {\n",
    "        System.out.println(\"TV on. Turning off\");\n",
    "        context.setState(new Off());\n",
    "    }\n",
    "}"
   ]
  },
  {
   "cell_type": "code",
   "execution_count": 12,
   "id": "d7e31772",
   "metadata": {},
   "outputs": [],
   "source": [
    "TV myTv = new TV(new Off());"
   ]
  },
  {
   "cell_type": "code",
   "execution_count": 15,
   "id": "39bb4cdf",
   "metadata": {},
   "outputs": [
    {
     "name": "stdout",
     "output_type": "stream",
     "text": [
      "TV turning on\n"
     ]
    }
   ],
   "source": [
    "myTv.pressButton();"
   ]
  },
  {
   "cell_type": "code",
   "execution_count": 16,
   "id": "fb5b0f44",
   "metadata": {},
   "outputs": [
    {
     "name": "stdout",
     "output_type": "stream",
     "text": [
      "TV on. Turning off\n"
     ]
    }
   ],
   "source": [
    "myTv.pressButton();"
   ]
  },
  {
   "cell_type": "markdown",
   "id": "e4e367f5",
   "metadata": {},
   "source": [
    "## Example"
   ]
  },
  {
   "cell_type": "code",
   "execution_count": 49,
   "id": "6a9bbdc5",
   "metadata": {},
   "outputs": [],
   "source": [
    "abstract class State {\n",
    "    abstract void switchAlert(Mobile context);\n",
    "    abstract void currentState();\n",
    "}"
   ]
  },
  {
   "cell_type": "code",
   "execution_count": 60,
   "id": "77c17919",
   "metadata": {},
   "outputs": [],
   "source": [
    "class Mobile {\n",
    "    private State state;\n",
    "    \n",
    "    public Mobile(State state)\n",
    "    {\n",
    "        this.state = state;\n",
    "    }\n",
    "    \n",
    "    public void setState(State state)\n",
    "    {\n",
    "        this.state = state;\n",
    "    }\n",
    "    \n",
    "    public State getState()\n",
    "    {\n",
    "        return this.state;\n",
    "    }\n",
    "    \n",
    "    public void switchAlertState()\n",
    "    {\n",
    "        this.state.switchAlert(this);\n",
    "    }\n",
    "    \n",
    "    public void showCurrentState()\n",
    "    {\n",
    "        this.state.currentState();\n",
    "    }\n",
    "}"
   ]
  },
  {
   "cell_type": "code",
   "execution_count": 61,
   "id": "cabf8285",
   "metadata": {},
   "outputs": [],
   "source": [
    "class Silent extends State {\n",
    "    @Override\n",
    "    public void switchAlert(Mobile context)\n",
    "    {\n",
    "        System.out.println(\"Switching alert type to with volume\");\n",
    "        context.setState(new NotSilent());\n",
    "    }\n",
    "    \n",
    "    @Override\n",
    "    public void currentState()\n",
    "    {\n",
    "        System.out.println(\"Currently on silent\");\n",
    "    }\n",
    "}"
   ]
  },
  {
   "cell_type": "code",
   "execution_count": 62,
   "id": "9d512e04",
   "metadata": {},
   "outputs": [],
   "source": [
    "class NotSilent extends State {\n",
    "    @Override\n",
    "    public void switchAlert(Mobile context)\n",
    "    {\n",
    "        System.out.println(\"Switching alert type to silent\");\n",
    "        context.setState(new Silent());\n",
    "    }\n",
    "    \n",
    "    @Override\n",
    "    public void currentState()\n",
    "    {\n",
    "        System.out.println(\"Currently not on silent\");\n",
    "    }\n",
    "}"
   ]
  },
  {
   "cell_type": "code",
   "execution_count": 63,
   "id": "36da8481",
   "metadata": {},
   "outputs": [],
   "source": [
    "Mobile myPhone = new Mobile(new NotSilent());"
   ]
  },
  {
   "cell_type": "code",
   "execution_count": 64,
   "id": "aaa30c0d",
   "metadata": {},
   "outputs": [
    {
     "name": "stdout",
     "output_type": "stream",
     "text": [
      "Currently not on silent\n"
     ]
    }
   ],
   "source": [
    "myPhone.showCurrentState();"
   ]
  },
  {
   "cell_type": "code",
   "execution_count": 65,
   "id": "5984b087",
   "metadata": {},
   "outputs": [
    {
     "name": "stdout",
     "output_type": "stream",
     "text": [
      "Switching alert type to silent\n"
     ]
    }
   ],
   "source": [
    "myPhone.switchAlertState();"
   ]
  },
  {
   "cell_type": "code",
   "execution_count": 66,
   "id": "6f27a829",
   "metadata": {},
   "outputs": [
    {
     "name": "stdout",
     "output_type": "stream",
     "text": [
      "Currently on silent\n"
     ]
    }
   ],
   "source": [
    "myPhone.showCurrentState();"
   ]
  },
  {
   "cell_type": "code",
   "execution_count": null,
   "id": "bb987129",
   "metadata": {},
   "outputs": [],
   "source": []
  }
 ],
 "metadata": {
  "kernelspec": {
   "display_name": "Java",
   "language": "java",
   "name": "java"
  },
  "language_info": {
   "codemirror_mode": "java",
   "file_extension": ".jshell",
   "mimetype": "text/x-java-source",
   "name": "Java",
   "pygments_lexer": "java",
   "version": "11.0.13+8"
  },
  "toc": {
   "base_numbering": 1,
   "nav_menu": {},
   "number_sections": true,
   "sideBar": true,
   "skip_h1_title": true,
   "title_cell": "Table of Contents",
   "title_sidebar": "Contents",
   "toc_cell": true,
   "toc_position": {},
   "toc_section_display": true,
   "toc_window_display": true
  }
 },
 "nbformat": 4,
 "nbformat_minor": 5
}
