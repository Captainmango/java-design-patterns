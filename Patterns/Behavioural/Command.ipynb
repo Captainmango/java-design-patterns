{
 "cells": [
  {
   "cell_type": "markdown",
   "id": "3802b3a3",
   "metadata": {
    "toc": true
   },
   "source": [
    "<h1>Table of Contents<span class=\"tocSkip\"></span></h1>\n",
    "<div class=\"toc\"><ul class=\"toc-item\"><li><span><a href=\"#Intro\" data-toc-modified-id=\"Intro-1\"><span class=\"toc-item-num\">1&nbsp;&nbsp;</span>Intro</a></span></li><li><span><a href=\"#Implementation\" data-toc-modified-id=\"Implementation-2\"><span class=\"toc-item-num\">2&nbsp;&nbsp;</span>Implementation</a></span></li><li><span><a href=\"#Example\" data-toc-modified-id=\"Example-3\"><span class=\"toc-item-num\">3&nbsp;&nbsp;</span>Example</a></span></li></ul></div>"
   ]
  },
  {
   "cell_type": "markdown",
   "id": "130c3c1c",
   "metadata": {},
   "source": [
    "# Command"
   ]
  },
  {
   "cell_type": "markdown",
   "id": "1707d083",
   "metadata": {},
   "source": [
    "## Intro"
   ]
  },
  {
   "cell_type": "markdown",
   "id": "c0d1fd3f",
   "metadata": {},
   "source": [
    "The Command design pattern encapsulates a request as an object. This lets you parametise clients with different requests.\n",
    "\n",
    "The command object binds together a set of actions on a specific receiver. It puts these behind a single method. normally called execute. You can also store state for reversing actions as part of execute, essentially supporting an undo functionality.\n",
    "\n",
    "We should also implement a logging as part of the pattern. With this, it is very useful for modeling transactions."
   ]
  },
  {
   "cell_type": "markdown",
   "id": "96440277",
   "metadata": {},
   "source": [
    "Some good examples of this pattern are orders to buy and sell a thing. The orders themselves are a command. Each order is the same, so can be encapsulated in a package."
   ]
  },
  {
   "cell_type": "markdown",
   "id": "ad062183",
   "metadata": {},
   "source": [
    "We should use this pattern when we want to paratemise objects by an action to perform. That is, we want objects in context doing the thing, but not containing the logic of the thing. As in the example above, an order is placed by someone, that person could want a different order. The _process_ of the order is the same, but the context can change."
   ]
  },
  {
   "cell_type": "markdown",
   "id": "26630f15",
   "metadata": {},
   "source": [
    "It could also be used when we want to queue or execute requests in sequence. Because the objects can be passed around, they can be stored and batched correctly and efficiently."
   ]
  },
  {
   "cell_type": "markdown",
   "id": "6fb09a4c",
   "metadata": {},
   "source": [
    "It's also useful when we need to have transactional requests. That is something that can be exchanged and reversed."
   ]
  },
  {
   "cell_type": "markdown",
   "id": "d00f9b7f",
   "metadata": {},
   "source": [
    "The constituent parts of the pattern are:\n",
    "> Client - creates a concrete command object and sets its receiver\n",
    "\n",
    "> Invoker - asks the command to carry out the request (calls the execute method)\n",
    "\n",
    "> Receiver - Knows how to perform the work needed to carry out a request"
   ]
  },
  {
   "cell_type": "markdown",
   "id": "c59ca2b6",
   "metadata": {},
   "source": [
    "## Implementation"
   ]
  },
  {
   "cell_type": "code",
   "execution_count": 11,
   "id": "b7ac1eb2",
   "metadata": {},
   "outputs": [],
   "source": [
    "interface Receiver {\n",
    "     void openFile();\n",
    "     void writeFile();\n",
    "     void closeFile();\n",
    " }"
   ]
  },
  {
   "cell_type": "code",
   "execution_count": null,
   "id": "d199d6aa",
   "metadata": {},
   "outputs": [],
   "source": [
    "interface Command {\n",
    "    void execute();\n",
    "}"
   ]
  },
  {
   "cell_type": "code",
   "execution_count": 19,
   "id": "e723fa18",
   "metadata": {},
   "outputs": [],
   "source": [
    "interface IInvoker {\n",
    "    void execute();\n",
    "}"
   ]
  },
  {
   "cell_type": "code",
   "execution_count": 13,
   "id": "47205602",
   "metadata": {},
   "outputs": [],
   "source": [
    "class LinuxReceiver implements Receiver {\n",
    "    public void openFile()\n",
    "    {\n",
    "        System.out.println(\"Opening file\");\n",
    "    }\n",
    "\n",
    "    public void writeFile()\n",
    "    {\n",
    "        System.out.println(\"Writing file\");\n",
    "    }\n",
    "    \n",
    "    public void closeFile()\n",
    "    {\n",
    "        System.out.println(\"Close file\");\n",
    "    }\n",
    "}"
   ]
  },
  {
   "cell_type": "code",
   "execution_count": 15,
   "id": "89d42e3f",
   "metadata": {},
   "outputs": [],
   "source": [
    "class OpenCommand implements Command {\n",
    "    private Receiver receiver;\n",
    "    \n",
    "    // Can store previous state inside here with member vars\n",
    "    \n",
    "    public OpenCommand(Receiver rec)\n",
    "    {\n",
    "        this.receiver = rec;\n",
    "    }\n",
    "    \n",
    "    public void execute()\n",
    "    {\n",
    "        this.receiver.openFile();\n",
    "    }\n",
    "}\n",
    "\n",
    "// Only implementing one command here on purpose"
   ]
  },
  {
   "cell_type": "code",
   "execution_count": 20,
   "id": "09e9944c",
   "metadata": {},
   "outputs": [],
   "source": [
    "class Invoker implements IInvoker {\n",
    "    public Command command;\n",
    "    \n",
    "    public Invoker(Command com)\n",
    "    {\n",
    "        this.command = com;\n",
    "    }\n",
    "    \n",
    "    public void execute()\n",
    "    {\n",
    "        this.command.execute();\n",
    "    }\n",
    "}"
   ]
  },
  {
   "cell_type": "code",
   "execution_count": 21,
   "id": "c9d863e2",
   "metadata": {},
   "outputs": [],
   "source": [
    "Receiver myReceiver = new LinuxReceiver();\n",
    "Command myCommand = new OpenCommand(myReceiver);\n",
    "Invoker myInvoker = new Invoker(myCommand); "
   ]
  },
  {
   "cell_type": "code",
   "execution_count": 22,
   "id": "a8b76f60",
   "metadata": {},
   "outputs": [
    {
     "name": "stdout",
     "output_type": "stream",
     "text": [
      "Opening file\n"
     ]
    }
   ],
   "source": [
    "myInvoker.execute();"
   ]
  },
  {
   "cell_type": "markdown",
   "id": "7a2c6523",
   "metadata": {},
   "source": [
    "This pattern is actually kinda simple when we cut through the OO bullshit. The invoker does what it sounds like it does. It kicks off the process by executing the command. \n",
    "\n",
    "The command then does its thing (because the command is specific to the effect we want to have, it's implementation can vary). The receiver is the thing that does the thing the command references in context.\n",
    "\n",
    "This example is of a dumb command (it doesn't do anything other than delegate to the receiver.)"
   ]
  },
  {
   "cell_type": "markdown",
   "id": "30724858",
   "metadata": {},
   "source": [
    "## Example"
   ]
  },
  {
   "cell_type": "code",
   "execution_count": 32,
   "id": "85939129",
   "metadata": {},
   "outputs": [],
   "source": [
    "interface Order {\n",
    "    void execute();\n",
    "    void undo();\n",
    "}"
   ]
  },
  {
   "cell_type": "code",
   "execution_count": 33,
   "id": "db9358fc",
   "metadata": {},
   "outputs": [],
   "source": [
    "interface Stock {\n",
    "    void buy(int amount);\n",
    "    void sell(int amount);\n",
    "}"
   ]
  },
  {
   "cell_type": "code",
   "execution_count": 52,
   "id": "2c50d1fb",
   "metadata": {},
   "outputs": [],
   "source": [
    "interface Agent {\n",
    "    void submit(Order order);\n",
    "    void reverse(Order order);\n",
    "}"
   ]
  },
  {
   "cell_type": "code",
   "execution_count": 53,
   "id": "d9e47641",
   "metadata": {},
   "outputs": [],
   "source": [
    "class BuyOrder implements Order {\n",
    "    private Stock stock;\n",
    "    private int amount;\n",
    "    \n",
    "    public BuyOrder(Stock stock, int amount)\n",
    "    {\n",
    "        this.stock = stock;\n",
    "        this.amount = amount;\n",
    "    }\n",
    "    \n",
    "    public void execute()\n",
    "    {\n",
    "        this.stock.buy(this.amount);\n",
    "    }\n",
    "    \n",
    "    public void undo()\n",
    "    {\n",
    "        this.stock.sell(this.amount);\n",
    "    }\n",
    "}"
   ]
  },
  {
   "cell_type": "code",
   "execution_count": 54,
   "id": "78d7ad5d",
   "metadata": {},
   "outputs": [],
   "source": [
    "class SellOrder implements Order {\n",
    "    private Stock stock;\n",
    "    private int amount;\n",
    "    \n",
    "    public SellOrder(Stock stock, int amount)\n",
    "    {\n",
    "        this.stock = stock;\n",
    "        this.amount = amount;\n",
    "    }\n",
    "    \n",
    "    public void execute()\n",
    "    {\n",
    "        this.stock.sell(this.amount);\n",
    "    }\n",
    "    \n",
    "    public void undo()\n",
    "    {\n",
    "        this.stock.buy(this.amount);\n",
    "    }\n",
    "}"
   ]
  },
  {
   "cell_type": "code",
   "execution_count": 55,
   "id": "3e11d54e",
   "metadata": {},
   "outputs": [],
   "source": [
    "class JustPark implements Stock {\n",
    "    public void buy(int amount)\n",
    "    {\n",
    "        System.out.println(\"Buying £\" + amount + \" of JustPark stock\");\n",
    "    }\n",
    "    \n",
    "    public void sell(int amount)\n",
    "    {\n",
    "        System.out.println(\"Selling £\" + amount + \" of JustPark stock\");\n",
    "    }\n",
    "}"
   ]
  },
  {
   "cell_type": "code",
   "execution_count": 56,
   "id": "3f1cdbce",
   "metadata": {},
   "outputs": [],
   "source": [
    "class MyAgent implements Agent {\n",
    "    public void submit(Order order)\n",
    "    {\n",
    "        order.execute();\n",
    "    }\n",
    "    \n",
    "    public void reverse(Order order)\n",
    "    {\n",
    "        order.undo();\n",
    "    }\n",
    "}"
   ]
  },
  {
   "cell_type": "code",
   "execution_count": 57,
   "id": "f95c6028",
   "metadata": {},
   "outputs": [],
   "source": [
    "Stock justpark = new JustPark();"
   ]
  },
  {
   "cell_type": "code",
   "execution_count": 58,
   "id": "6639383f",
   "metadata": {},
   "outputs": [],
   "source": [
    "Order buy = new BuyOrder(justpark, 25);"
   ]
  },
  {
   "cell_type": "code",
   "execution_count": 59,
   "id": "6b196e17",
   "metadata": {},
   "outputs": [],
   "source": [
    "Agent myAgent = new MyAgent();"
   ]
  },
  {
   "cell_type": "code",
   "execution_count": 60,
   "id": "6a7de5b9",
   "metadata": {},
   "outputs": [
    {
     "name": "stdout",
     "output_type": "stream",
     "text": [
      "Buying £25 of JustPark stock\n"
     ]
    }
   ],
   "source": [
    "myAgent.submit(buy);"
   ]
  },
  {
   "cell_type": "code",
   "execution_count": 61,
   "id": "d4ac086b",
   "metadata": {},
   "outputs": [
    {
     "name": "stdout",
     "output_type": "stream",
     "text": [
      "Selling £25 of JustPark stock\n"
     ]
    }
   ],
   "source": [
    "myAgent.reverse(buy);"
   ]
  }
 ],
 "metadata": {
  "kernelspec": {
   "display_name": "Java",
   "language": "java",
   "name": "java"
  },
  "language_info": {
   "codemirror_mode": "java",
   "file_extension": ".jshell",
   "mimetype": "text/x-java-source",
   "name": "Java",
   "pygments_lexer": "java",
   "version": "11.0.13+8"
  },
  "toc": {
   "base_numbering": 1,
   "nav_menu": {},
   "number_sections": true,
   "sideBar": true,
   "skip_h1_title": true,
   "title_cell": "Table of Contents",
   "title_sidebar": "Contents",
   "toc_cell": true,
   "toc_position": {},
   "toc_section_display": true,
   "toc_window_display": true
  }
 },
 "nbformat": 4,
 "nbformat_minor": 5
}
