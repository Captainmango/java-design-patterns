{
 "cells": [
  {
   "cell_type": "markdown",
   "id": "3802b3a3",
   "metadata": {
    "toc": true
   },
   "source": [
    "<h1>Table of Contents<span class=\"tocSkip\"></span></h1>\n",
    "<div class=\"toc\"><ul class=\"toc-item\"><li><span><a href=\"#Intro\" data-toc-modified-id=\"Intro-1\"><span class=\"toc-item-num\">1&nbsp;&nbsp;</span>Intro</a></span></li><li><span><a href=\"#Implementation\" data-toc-modified-id=\"Implementation-2\"><span class=\"toc-item-num\">2&nbsp;&nbsp;</span>Implementation</a></span></li></ul></div>"
   ]
  },
  {
   "cell_type": "markdown",
   "id": "130c3c1c",
   "metadata": {},
   "source": [
    "# Command"
   ]
  },
  {
   "cell_type": "markdown",
   "id": "1707d083",
   "metadata": {},
   "source": [
    "## Intro"
   ]
  },
  {
   "cell_type": "markdown",
   "id": "c0d1fd3f",
   "metadata": {},
   "source": [
    "The Command design pattern encapsulates a request as an object. This lets you parametise clients with different requests.\n",
    "\n",
    "The command object binds together a set of actions on a specific receiver. It puts these behind a single method. normally called execute. You can also store state for reversing actions as part of execute, essentially supporting an undo functionality.\n",
    "\n",
    "We should also implement a logging as part of the pattern. With this, it is very useful for modeling transactions."
   ]
  },
  {
   "cell_type": "markdown",
   "id": "96440277",
   "metadata": {},
   "source": [
    "Some good examples of this pattern are orders to buy and sell a thing. The orders themselves are a command. Each order is the same, so can be encapsulated in a package."
   ]
  },
  {
   "cell_type": "markdown",
   "id": "ad062183",
   "metadata": {},
   "source": [
    "We should use this pattern when we want to paratemise objects by an action to perform. That is, we want objects in context doing the thing, but not containing the logic of the thing. As in the example above, an order is placed by someone, that person could want a different order. The _process_ of the order is the same, but the context can change."
   ]
  },
  {
   "cell_type": "markdown",
   "id": "26630f15",
   "metadata": {},
   "source": [
    "It could also be used when we want to queue or execute requests in sequence. Because the objects can be passed around, they can be stored and batched correctly and efficiently."
   ]
  },
  {
   "cell_type": "markdown",
   "id": "d00f9b7f",
   "metadata": {},
   "source": [
    "It's also useful when we need to have transactional requests. That is something that can be exchanged and reversed."
   ]
  },
  {
   "cell_type": "markdown",
   "id": "c59ca2b6",
   "metadata": {},
   "source": [
    "## Implementation"
   ]
  },
  {
   "cell_type": "code",
   "execution_count": null,
   "id": "b7ac1eb2",
   "metadata": {},
   "outputs": [],
   "source": []
  }
 ],
 "metadata": {
  "kernelspec": {
   "display_name": "Java",
   "language": "java",
   "name": "java"
  },
  "language_info": {
   "codemirror_mode": "java",
   "file_extension": ".jshell",
   "mimetype": "text/x-java-source",
   "name": "Java",
   "pygments_lexer": "java",
   "version": "11.0.13+8"
  },
  "toc": {
   "base_numbering": 1,
   "nav_menu": {},
   "number_sections": true,
   "sideBar": true,
   "skip_h1_title": true,
   "title_cell": "Table of Contents",
   "title_sidebar": "Contents",
   "toc_cell": true,
   "toc_position": {},
   "toc_section_display": true,
   "toc_window_display": true
  }
 },
 "nbformat": 4,
 "nbformat_minor": 5
}
