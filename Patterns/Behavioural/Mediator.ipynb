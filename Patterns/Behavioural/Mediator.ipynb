{
 "cells": [
  {
   "cell_type": "markdown",
   "id": "29a1e2c4",
   "metadata": {
    "toc": true
   },
   "source": [
    "<h1>Table of Contents<span class=\"tocSkip\"></span></h1>\n",
    "<div class=\"toc\"><ul class=\"toc-item\"><li><span><a href=\"#Intro\" data-toc-modified-id=\"Intro-1\"><span class=\"toc-item-num\">1&nbsp;&nbsp;</span>Intro</a></span></li><li><span><a href=\"#Implementation\" data-toc-modified-id=\"Implementation-2\"><span class=\"toc-item-num\">2&nbsp;&nbsp;</span>Implementation</a></span></li><li><span><a href=\"#Example\" data-toc-modified-id=\"Example-3\"><span class=\"toc-item-num\">3&nbsp;&nbsp;</span>Example</a></span></li></ul></div>"
   ]
  },
  {
   "cell_type": "markdown",
   "id": "c060b498",
   "metadata": {},
   "source": [
    "# Mediator"
   ]
  },
  {
   "cell_type": "markdown",
   "id": "50680224",
   "metadata": {},
   "source": [
    "## Intro"
   ]
  },
  {
   "cell_type": "markdown",
   "id": "49681857",
   "metadata": {},
   "source": [
    "The pattern defines an object that encapsulates how a set of objects interact. It lets you vary their interaction independently. It takes care of comms between a group of objects. Just like an IRL mediator.\n",
    "\n",
    "All comms must go through the mediator. This is so that it can track and also record all communication between participants. The participants are also aware of the mediator and should be aware that comms go through it.\n",
    "\n",
    "The pattern is used to reduce communication complexity between multiple class and or objects"
   ]
  },
  {
   "cell_type": "markdown",
   "id": "767910a3",
   "metadata": {},
   "source": [
    "A good example of a mediator is a radio traffic controller. It provides a route for all communications to be channeled across and directed to the correct place. it is also able to adjudicate on how communication should be transmitted"
   ]
  },
  {
   "cell_type": "markdown",
   "id": "121dbc43",
   "metadata": {},
   "source": [
    "The mediator helps to solve an object structure that has become complicated. It allows for correct communication to occur between a group of deeply interconnected objects. of course, the objects will be decoupled if good principles have been followed. But, once a certain level of complexity is reached, the system itself should be in control of how comms are managed. Hence this pattern."
   ]
  },
  {
   "cell_type": "markdown",
   "id": "b92c25ad",
   "metadata": {},
   "source": [
    "Advantages of the pattern are:\n",
    "* Increases reusability of objects supported inside the pattern\n",
    "* Simplifies the maintenance of the system by centralising control logic\n",
    "* Reduces the variety of messages being sent between objects"
   ]
  },
  {
   "cell_type": "markdown",
   "id": "025c249c",
   "metadata": {},
   "source": [
    "N.B. this pattern does not exist to produce lose coupling. It exists when the graph of interconnect objects becomes to dense to enable any meaningful change without breaking stuff. Use this pattern to get a handle on comms between cooperating bits in a complex system"
   ]
  },
  {
   "cell_type": "markdown",
   "id": "cbafaf3d",
   "metadata": {},
   "source": [
    "## Implementation"
   ]
  },
  {
   "cell_type": "code",
   "execution_count": 4,
   "id": "da089108",
   "metadata": {},
   "outputs": [],
   "source": [
    "abstract class User {\n",
    "    protected ChatMediator mediator;\n",
    "    protected String name;\n",
    "    \n",
    "    public User(ChatMediator med, String name)\n",
    "    {\n",
    "        this.mediator = med;\n",
    "        this.name = name;\n",
    "    }\n",
    "    \n",
    "    abstract void send(String msg);\n",
    "    abstract void receive(String msg);\n",
    "} "
   ]
  },
  {
   "cell_type": "code",
   "execution_count": 5,
   "id": "b8bcb5f8",
   "metadata": {},
   "outputs": [],
   "source": [
    "interface ChatMediator {\n",
    "     void sendMessage(String msg, User user);\n",
    "     void addUser(User user);\n",
    " }"
   ]
  },
  {
   "cell_type": "code",
   "execution_count": 6,
   "id": "e36aa439",
   "metadata": {},
   "outputs": [],
   "source": [
    "class ChatMediatorImpl implements ChatMediator {\n",
    "    private List<User> users;\n",
    "    \n",
    "    public ChatMediatorImpl()\n",
    "    {\n",
    "        this.users = new ArrayList<User>();\n",
    "    }\n",
    "    \n",
    "    public void addUser(User usr)\n",
    "    {\n",
    "        this.users.add(usr);\n",
    "    }\n",
    "    \n",
    "    public void sendMessage(String msg, User usr)\n",
    "    {\n",
    "        for (User user : this.users) {\n",
    "            if (user != usr) {\n",
    "                user.receive(msg);\n",
    "            }\n",
    "        }\n",
    "    }\n",
    "}"
   ]
  },
  {
   "cell_type": "code",
   "execution_count": 16,
   "id": "54ebe280",
   "metadata": {},
   "outputs": [],
   "source": [
    "class UserImpl extends User {\n",
    "    public UserImpl(ChatMediator med, String name)\n",
    "    {\n",
    "        super(med, name);\n",
    "    }\n",
    "    \n",
    "    public void send(String msg)\n",
    "    {\n",
    "        System.out.println(this.name + \" said \" + msg);\n",
    "        mediator.sendMessage(msg, this);\n",
    "    }\n",
    "    \n",
    "    public void receive(String msg)\n",
    "    {\n",
    "        System.out.println(this.name + \" received \" + msg);\n",
    "    }\n",
    "}"
   ]
  },
  {
   "cell_type": "code",
   "execution_count": 17,
   "id": "b82d45f1",
   "metadata": {},
   "outputs": [],
   "source": [
    "ChatMediator myMed = new ChatMediatorImpl();"
   ]
  },
  {
   "cell_type": "code",
   "execution_count": 18,
   "id": "2a5ed2f9",
   "metadata": {},
   "outputs": [],
   "source": [
    "User user1 = new UserImpl(myMed, \"Edward\");\n",
    "User user2 = new UserImpl(myMed, \"Thomas\");\n",
    "User user3 = new UserImpl(myMed, \"Gary\");"
   ]
  },
  {
   "cell_type": "code",
   "execution_count": 19,
   "id": "9044a1ed",
   "metadata": {},
   "outputs": [],
   "source": [
    "myMed.addUser(user1);\n",
    "myMed.addUser(user2);\n",
    "myMed.addUser(user3);"
   ]
  },
  {
   "cell_type": "code",
   "execution_count": 20,
   "id": "4cb591b7",
   "metadata": {},
   "outputs": [
    {
     "name": "stdout",
     "output_type": "stream",
     "text": [
      "Edward said This is my message\n",
      "Thomas received This is my message\n",
      "Gary received This is my message\n"
     ]
    }
   ],
   "source": [
    "user1.send(\"This is my message\");"
   ]
  },
  {
   "cell_type": "markdown",
   "id": "5af42e72",
   "metadata": {},
   "source": [
    "## Example"
   ]
  },
  {
   "cell_type": "code",
   "execution_count": 16,
   "id": "80b59dc0",
   "metadata": {},
   "outputs": [],
   "source": [
    "abstract class Buyer {\n",
    "    float bid;\n",
    "    String name;\n",
    "    \n",
    "    public Buyer(String name, float bid)\n",
    "    {\n",
    "        this.bid = bid;\n",
    "        this.name = name;\n",
    "    }\n",
    "    \n",
    "    public void bid(float bidAmt)\n",
    "    {\n",
    "        this.bid += bidAmt;\n",
    "    }\n",
    "    \n",
    "    public void auctionOver()\n",
    "    {\n",
    "        System.out.println(\"I lost the auction :(\");\n",
    "    }\n",
    "}"
   ]
  },
  {
   "cell_type": "code",
   "execution_count": 17,
   "id": "e4140c63",
   "metadata": {},
   "outputs": [],
   "source": [
    "interface AuctionMediator {\n",
    "    Buyer findHighestBidder();\n",
    "}"
   ]
  },
  {
   "cell_type": "code",
   "execution_count": 18,
   "id": "b37f95db",
   "metadata": {},
   "outputs": [],
   "source": [
    "class ConcBuyer extends Buyer {\n",
    "    public ConcBuyer(String name, float bid)\n",
    "    {\n",
    "        super(name, bid);\n",
    "    }\n",
    "}"
   ]
  },
  {
   "cell_type": "code",
   "execution_count": 30,
   "id": "3d53a25b",
   "metadata": {},
   "outputs": [],
   "source": [
    "class AuctionMediatorImpl implements AuctionMediator {\n",
    "    List<Buyer> list = new ArrayList<>();\n",
    "    \n",
    "    public Buyer findHighestBidder()\n",
    "    {\n",
    "        Buyer highestBidder = new ConcBuyer(\"No buyer yet\", 0f);\n",
    "        for (Buyer buyer : list) {\n",
    "            if (buyer.bid > highestBidder.bid) {\n",
    "                highestBidder = buyer;\n",
    "            }\n",
    "        }\n",
    "        \n",
    "        return highestBidder;\n",
    "    }\n",
    "    \n",
    "    public void addBuyer(Buyer b)\n",
    "    {\n",
    "        this.list.add(b);\n",
    "    }\n",
    "    \n",
    "    public void closeAuction()\n",
    "    {\n",
    "        Buyer winningBuyer = findHighestBidder();\n",
    "        for (Buyer buyer : list) {\n",
    "            if (winningBuyer != buyer) {\n",
    "                buyer.auctionOver();\n",
    "            } \n",
    "        }\n",
    "        \n",
    "        System.out.println(winningBuyer.name + \" won the auction with a bid of \" + winningBuyer.bid);\n",
    "    }\n",
    "}"
   ]
  },
  {
   "cell_type": "code",
   "execution_count": 31,
   "id": "c48cef29",
   "metadata": {},
   "outputs": [],
   "source": [
    "Buyer b1 = new ConcBuyer(\"Tom\", 32.4f);\n",
    "Buyer b2 = new ConcBuyer(\"Ang\", 23.4f);\n",
    "Buyer b3 = new ConcBuyer(\"Mikey\", 89.4f);"
   ]
  },
  {
   "cell_type": "code",
   "execution_count": 32,
   "id": "1ab83361",
   "metadata": {},
   "outputs": [],
   "source": [
    "AuctionMediatorImpl auction = new AuctionMediatorImpl();"
   ]
  },
  {
   "cell_type": "code",
   "execution_count": 33,
   "id": "84f57a2a",
   "metadata": {},
   "outputs": [],
   "source": [
    "auction.addBuyer(b1);\n",
    "auction.addBuyer(b2);\n",
    "auction.addBuyer(b3);"
   ]
  },
  {
   "cell_type": "code",
   "execution_count": 35,
   "id": "eb0bd85c",
   "metadata": {},
   "outputs": [
    {
     "data": {
      "text/plain": [
       "Mikey"
      ]
     },
     "execution_count": 35,
     "metadata": {},
     "output_type": "execute_result"
    }
   ],
   "source": [
    "auction.findHighestBidder().name;"
   ]
  },
  {
   "cell_type": "code",
   "execution_count": 36,
   "id": "f7ee0b3b",
   "metadata": {},
   "outputs": [],
   "source": [
    "b2.bid(400.43f);"
   ]
  },
  {
   "cell_type": "code",
   "execution_count": 37,
   "id": "2b9ea1a4",
   "metadata": {},
   "outputs": [
    {
     "data": {
      "text/plain": [
       "Ang"
      ]
     },
     "execution_count": 37,
     "metadata": {},
     "output_type": "execute_result"
    }
   ],
   "source": [
    "auction.findHighestBidder().name;"
   ]
  },
  {
   "cell_type": "code",
   "execution_count": 38,
   "id": "a5acc423",
   "metadata": {},
   "outputs": [
    {
     "name": "stdout",
     "output_type": "stream",
     "text": [
      "I lost the auction :(\n",
      "I lost the auction :(\n",
      "Ang won the auction with a bid of 423.83\n"
     ]
    }
   ],
   "source": [
    "auction.closeAuction();"
   ]
  },
  {
   "cell_type": "code",
   "execution_count": null,
   "id": "5b2ae7b0",
   "metadata": {},
   "outputs": [],
   "source": []
  }
 ],
 "metadata": {
  "kernelspec": {
   "display_name": "Java",
   "language": "java",
   "name": "java"
  },
  "language_info": {
   "codemirror_mode": "java",
   "file_extension": ".jshell",
   "mimetype": "text/x-java-source",
   "name": "Java",
   "pygments_lexer": "java",
   "version": "11.0.13+8"
  },
  "toc": {
   "base_numbering": 1,
   "nav_menu": {},
   "number_sections": true,
   "sideBar": true,
   "skip_h1_title": true,
   "title_cell": "Table of Contents",
   "title_sidebar": "Contents",
   "toc_cell": true,
   "toc_position": {},
   "toc_section_display": true,
   "toc_window_display": true
  }
 },
 "nbformat": 4,
 "nbformat_minor": 5
}
