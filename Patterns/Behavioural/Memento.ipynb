{
 "cells": [
  {
   "cell_type": "markdown",
   "id": "6e22aa3d",
   "metadata": {
    "toc": true
   },
   "source": [
    "<h1>Table of Contents<span class=\"tocSkip\"></span></h1>\n",
    "<div class=\"toc\"><ul class=\"toc-item\"><li><span><a href=\"#Intro\" data-toc-modified-id=\"Intro-1\"><span class=\"toc-item-num\">1&nbsp;&nbsp;</span>Intro</a></span></li><li><span><a href=\"#Implementation\" data-toc-modified-id=\"Implementation-2\"><span class=\"toc-item-num\">2&nbsp;&nbsp;</span>Implementation</a></span></li><li><span><a href=\"#Example\" data-toc-modified-id=\"Example-3\"><span class=\"toc-item-num\">3&nbsp;&nbsp;</span>Example</a></span></li></ul></div>"
   ]
  },
  {
   "cell_type": "markdown",
   "id": "c575ada5",
   "metadata": {},
   "source": [
    "# Memento"
   ]
  },
  {
   "cell_type": "markdown",
   "id": "2ac3129c",
   "metadata": {},
   "source": [
    "## Intro"
   ]
  },
  {
   "cell_type": "markdown",
   "id": "53c9078e",
   "metadata": {},
   "source": [
    "The memento captures and externalises an objects internal state so that the object can be restored to this state later. This should not at all violate encapsulation to achieve this (Shouldn't leak details or be usable outside of this context).\n",
    "\n",
    "The aim of the game here is time travel. We should be able to navigate to previous state of an object easily.\n",
    "\n",
    "A good example of a memento is CTRL+Z. The changelist can be rolled through backwards to return to a previous state of the application.\n",
    "\n",
    "We need this pattern to implement checkpoints or to recover from errors in tentative operation contexts.\n",
    "\n",
    "We need to save the state somewhere that is accessible to the object and nothing else. Objects normally encapsulate all of their own state making it innaccessible to other objects and impossible to save externally."
   ]
  },
  {
   "cell_type": "markdown",
   "id": "d2c8a2ea",
   "metadata": {},
   "source": [
    "Advantages of the pattern are:\n",
    "* Simple to implements\n",
    "* Provides recovery capability to your program"
   ]
  },
  {
   "cell_type": "markdown",
   "id": "02ca9963",
   "metadata": {},
   "source": [
    "The memento avoids exposing information only an originator (the thing having its state saved) should manage, but that must be stored outside the originator. It shields the objects from potentially complex internals thereby maintaining boundaries.\n",
    "\n",
    "mementos can incur considerable cost when copying large amounts of information. The only real way to apply this pattern is if it is cheap to do so. If not, a structural pattern may be more effective."
   ]
  },
  {
   "cell_type": "markdown",
   "id": "c1d50680",
   "metadata": {},
   "source": [
    "## Implementation"
   ]
  },
  {
   "cell_type": "code",
   "execution_count": 23,
   "id": "38be865b",
   "metadata": {},
   "outputs": [],
   "source": [
    "class FileWriterUtil {\n",
    "    private String filename;\n",
    "    private StringBuilder content; // stand in for file read in\n",
    "    \n",
    "    public FileWriterUtil(String file)\n",
    "    {\n",
    "        this.filename = file;\n",
    "        this.content = new StringBuilder();\n",
    "    }\n",
    "    \n",
    "    // Overriding to string of class to simulate file read out\n",
    "    @Override\n",
    "    public String toString()\n",
    "    {\n",
    "        return this.content.toString();\n",
    "    }\n",
    "    \n",
    "    public void write(String str)\n",
    "    {\n",
    "        content.append(str);\n",
    "    }\n",
    "    \n",
    "    public Memento save()\n",
    "    {\n",
    "        return new Memento(this.filename, this.content);\n",
    "    }\n",
    "    \n",
    "    public void undo(Object obj)\n",
    "    {\n",
    "        Memento mmt = (Memento) obj;\n",
    "        this.filename = mmt.filename;\n",
    "        this.content = mmt.content;\n",
    "    }\n",
    "    \n",
    "    // Memento inner class. Best way to do this in Java really. \n",
    "    private class Memento {\n",
    "        private String filename;\n",
    "        private StringBuilder content;\n",
    "        \n",
    "        public Memento(String filename, StringBuilder content)\n",
    "        {\n",
    "            this.filename = filename;\n",
    "            this.content = new StringBuilder(content);\n",
    "        }\n",
    "    }\n",
    "}"
   ]
  },
  {
   "cell_type": "code",
   "execution_count": 24,
   "id": "18040d8c",
   "metadata": {},
   "outputs": [],
   "source": [
    "class FileWriterCaretaker {\n",
    "    private Object obj;\n",
    "    \n",
    "    public void save(FileWriterUtil fwu)\n",
    "    {\n",
    "        this.obj = fwu.save();\n",
    "    }\n",
    "    \n",
    "    public void undo(FileWriterUtil fwu)\n",
    "    {\n",
    "        fwu.undo(obj);\n",
    "    }\n",
    "}"
   ]
  },
  {
   "cell_type": "code",
   "execution_count": 45,
   "id": "1180ca95",
   "metadata": {},
   "outputs": [],
   "source": [
    "FileWriterCaretaker caretaker = new FileWriterCaretaker();"
   ]
  },
  {
   "cell_type": "code",
   "execution_count": 46,
   "id": "217e2a12",
   "metadata": {},
   "outputs": [],
   "source": [
    "FileWriterUtil writer = new FileWriterUtil(\"test.txt\");"
   ]
  },
  {
   "cell_type": "code",
   "execution_count": 47,
   "id": "793f9ca5",
   "metadata": {},
   "outputs": [],
   "source": [
    "writer.write(\"This is my 1st bit of data\");"
   ]
  },
  {
   "cell_type": "code",
   "execution_count": 48,
   "id": "f0d3ef4d",
   "metadata": {},
   "outputs": [
    {
     "name": "stdout",
     "output_type": "stream",
     "text": [
      "This is my 1st bit of data\n"
     ]
    }
   ],
   "source": [
    "System.out.println(writer);"
   ]
  },
  {
   "cell_type": "code",
   "execution_count": 49,
   "id": "b53dd6f5",
   "metadata": {},
   "outputs": [],
   "source": [
    "caretaker.save(writer);"
   ]
  },
  {
   "cell_type": "code",
   "execution_count": 50,
   "id": "b48a1e59",
   "metadata": {},
   "outputs": [],
   "source": [
    "writer.write(\"\\nEven more data...\");"
   ]
  },
  {
   "cell_type": "code",
   "execution_count": 51,
   "id": "ffc73135",
   "metadata": {},
   "outputs": [
    {
     "name": "stdout",
     "output_type": "stream",
     "text": [
      "This is my 1st bit of data\n",
      "Even more data...\n"
     ]
    }
   ],
   "source": [
    "System.out.println(writer);"
   ]
  },
  {
   "cell_type": "code",
   "execution_count": 52,
   "id": "e33a910f",
   "metadata": {},
   "outputs": [],
   "source": [
    "caretaker.undo(writer);"
   ]
  },
  {
   "cell_type": "code",
   "execution_count": 53,
   "id": "34708703",
   "metadata": {},
   "outputs": [
    {
     "name": "stdout",
     "output_type": "stream",
     "text": [
      "This is my 1st bit of data\n"
     ]
    }
   ],
   "source": [
    "System.out.println(writer);"
   ]
  },
  {
   "cell_type": "markdown",
   "id": "574f8999",
   "metadata": {},
   "source": [
    "## Example"
   ]
  },
  {
   "cell_type": "code",
   "execution_count": 98,
   "id": "ae06d8d0",
   "metadata": {},
   "outputs": [],
   "source": [
    "class Counter {\n",
    "    private int count = 0;\n",
    "    \n",
    "    public Memento add()\n",
    "    {\n",
    "        count++;\n",
    "        return new Memento(count);\n",
    "    }\n",
    "    \n",
    "    public Memento subtract()\n",
    "    {\n",
    "        count--;\n",
    "        return new Memento(count);\n",
    "    }\n",
    "    \n",
    "    public void undo(Object obj)\n",
    "    {\n",
    "        Memento mmt = (Memento) obj;\n",
    "        this.count = mmt.count;\n",
    "    }\n",
    "    \n",
    "    public void show()\n",
    "    {\n",
    "        System.out.println(count);\n",
    "    }\n",
    "    \n",
    "    private class Memento {\n",
    "        private int count;\n",
    "        \n",
    "        public Memento(int num)\n",
    "        {\n",
    "            this.count = num;\n",
    "        }\n",
    "    }\n",
    "}"
   ]
  },
  {
   "cell_type": "code",
   "execution_count": 99,
   "id": "52eb8816",
   "metadata": {},
   "outputs": [],
   "source": [
    "class CountCaretaker {\n",
    "    private ArrayList<Object> states = new ArrayList<>();\n",
    "    \n",
    "    public void add(Counter count)\n",
    "    {\n",
    "        states.add(count.add());\n",
    "    }\n",
    "    \n",
    "    public void subtract(Counter count)\n",
    "    {\n",
    "        states.add(count.subtract());\n",
    "    }\n",
    "    \n",
    "    public void undoLast(Counter count)\n",
    "    {\n",
    "        states.remove(states.size() - 1);\n",
    "        count.undo(states.get(states.size() - 1));\n",
    "    }\n",
    "    \n",
    "    public void undoToFirstState(Counter count)\n",
    "    {\n",
    "        count.undo(states.get(0));\n",
    "    }\n",
    "}"
   ]
  },
  {
   "cell_type": "code",
   "execution_count": 100,
   "id": "ecbee88c",
   "metadata": {},
   "outputs": [],
   "source": [
    "Counter counter = new Counter();\n",
    "CountCaretaker myCare = new CountCaretaker();"
   ]
  },
  {
   "cell_type": "code",
   "execution_count": 101,
   "id": "b54cb2e6",
   "metadata": {},
   "outputs": [
    {
     "name": "stdout",
     "output_type": "stream",
     "text": [
      "3\n"
     ]
    }
   ],
   "source": [
    "myCare.add(counter);\n",
    "myCare.add(counter);\n",
    "myCare.add(counter);\n",
    "\n",
    "counter.show();"
   ]
  },
  {
   "cell_type": "code",
   "execution_count": 102,
   "id": "ddc8b186",
   "metadata": {},
   "outputs": [
    {
     "name": "stdout",
     "output_type": "stream",
     "text": [
      "3\n"
     ]
    }
   ],
   "source": [
    "counter.show();"
   ]
  },
  {
   "cell_type": "code",
   "execution_count": 103,
   "id": "bfde1d8c",
   "metadata": {},
   "outputs": [
    {
     "name": "stdout",
     "output_type": "stream",
     "text": [
      "2\n"
     ]
    }
   ],
   "source": [
    "myCare.undoLast(counter);\n",
    "counter.show();"
   ]
  },
  {
   "cell_type": "code",
   "execution_count": 104,
   "id": "dc2ab34b",
   "metadata": {},
   "outputs": [
    {
     "name": "stdout",
     "output_type": "stream",
     "text": [
      "1\n"
     ]
    }
   ],
   "source": [
    "myCare.undoLast(counter);\n",
    "counter.show();"
   ]
  },
  {
   "cell_type": "code",
   "execution_count": null,
   "id": "c5ad9edb",
   "metadata": {},
   "outputs": [],
   "source": []
  }
 ],
 "metadata": {
  "kernelspec": {
   "display_name": "Java",
   "language": "java",
   "name": "java"
  },
  "language_info": {
   "codemirror_mode": "java",
   "file_extension": ".jshell",
   "mimetype": "text/x-java-source",
   "name": "Java",
   "pygments_lexer": "java",
   "version": "11.0.13+8"
  },
  "toc": {
   "base_numbering": 1,
   "nav_menu": {},
   "number_sections": true,
   "sideBar": true,
   "skip_h1_title": true,
   "title_cell": "Table of Contents",
   "title_sidebar": "Contents",
   "toc_cell": true,
   "toc_position": {},
   "toc_section_display": true,
   "toc_window_display": true
  }
 },
 "nbformat": 4,
 "nbformat_minor": 5
}
