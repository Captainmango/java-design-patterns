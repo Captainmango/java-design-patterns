{
 "cells": [
  {
   "cell_type": "markdown",
   "id": "8f16818a",
   "metadata": {
    "toc": true
   },
   "source": [
    "<h1>Table of Contents<span class=\"tocSkip\"></span></h1>\n",
    "<div class=\"toc\"><ul class=\"toc-item\"><li><span><a href=\"#Intro\" data-toc-modified-id=\"Intro-1\"><span class=\"toc-item-num\">1&nbsp;&nbsp;</span>Intro</a></span></li><li><span><a href=\"#Implementation\" data-toc-modified-id=\"Implementation-2\"><span class=\"toc-item-num\">2&nbsp;&nbsp;</span>Implementation</a></span></li><li><span><a href=\"#Example\" data-toc-modified-id=\"Example-3\"><span class=\"toc-item-num\">3&nbsp;&nbsp;</span>Example</a></span></li></ul></div>"
   ]
  },
  {
   "cell_type": "markdown",
   "id": "a9ac3e5f",
   "metadata": {},
   "source": [
    "# Visitor"
   ]
  },
  {
   "cell_type": "markdown",
   "id": "4e5a6eb6",
   "metadata": {},
   "source": [
    "## Intro"
   ]
  },
  {
   "cell_type": "markdown",
   "id": "2fd71479",
   "metadata": {},
   "source": [
    "The visitor pattern represents an operation to be performed on an object structure (collection, list, class etc). In doing this, it lets you define a new operation without changing the classes of the elements it operates on.\n",
    "\n",
    "This helps us to add new functionality to an existing object structure in such a way that the old structure remains unchanged. This follows the open closed principle to a tee.\n",
    "\n",
    "A real world example of this is a taxi booking scenario. The taxi arrives at the location to pick up the customer. The journey is determined before starting, but the journey can vary based on other factors, or from the driver's choice. Our destination could even change and the driver would still be able to handle the adjustment. The taxi driver is the visitor here.\n",
    "\n",
    "This pattern is really useful for plugging into public APIs. Clients can do operations with a visiting class without modifying the underlying logic or structure.\n",
    "\n",
    "It allows the operations to be applied to a set of objects at run time. We use this pattern when the collection or list contains many classes with differing interfaces and we want to do stuff with these objects without having to manipulate them or change them to our needs."
   ]
  },
  {
   "cell_type": "markdown",
   "id": "5486e1bc",
   "metadata": {},
   "source": [
    "## Implementation"
   ]
  },
  {
   "cell_type": "code",
   "execution_count": 32,
   "id": "c1ce9b71",
   "metadata": {},
   "outputs": [],
   "source": [
    "interface ItemElement {\n",
    "    int accept(ShoppingCartVisitor visitor);\n",
    "}"
   ]
  },
  {
   "cell_type": "code",
   "execution_count": 34,
   "id": "241f5bad",
   "metadata": {},
   "outputs": [],
   "source": [
    "class Book implements ItemElement {\n",
    "    int price;\n",
    "    \n",
    "    public Book(int price)\n",
    "    {\n",
    "        this.price = price;\n",
    "    }\n",
    "    \n",
    "    public int getPrice()\n",
    "    {\n",
    "        return this.price;\n",
    "    }\n",
    "    \n",
    "    public int accept(ShoppingCartVisitor visitor)\n",
    "    {\n",
    "        return visitor.visit(this);\n",
    "    }\n",
    "}"
   ]
  },
  {
   "cell_type": "code",
   "execution_count": 35,
   "id": "fbcca588",
   "metadata": {},
   "outputs": [],
   "source": [
    "class Fruit implements ItemElement {\n",
    "    int price;\n",
    "    \n",
    "    public Fruit(int price)\n",
    "    {\n",
    "        this.price = price;\n",
    "    }\n",
    "    \n",
    "    public int accept(ShoppingCartVisitor visitor)\n",
    "    {\n",
    "        return visitor.visit(this);\n",
    "    }\n",
    "    \n",
    "    public int getPrice()\n",
    "    {\n",
    "        return this.price;\n",
    "    }\n",
    "}"
   ]
  },
  {
   "cell_type": "code",
   "execution_count": 36,
   "id": "a522c7ed",
   "metadata": {},
   "outputs": [],
   "source": [
    "interface ShoppingCartVisitor {\n",
    "    int visit(Book book);\n",
    "    int visit(Fruit fruit);\n",
    "}"
   ]
  },
  {
   "cell_type": "code",
   "execution_count": 37,
   "id": "c0990cf5",
   "metadata": {},
   "outputs": [],
   "source": [
    "class ShoppingCartVisitorImpl implements ShoppingCartVisitor {\n",
    "\n",
    "    public int visit(Book book)\n",
    "    {\n",
    "        return book.price;\n",
    "    }\n",
    "\n",
    "    public int visit(Fruit fruit)\n",
    "    {\n",
    "        return fruit.price;\n",
    "    }\n",
    "}"
   ]
  },
  {
   "cell_type": "code",
   "execution_count": 38,
   "id": "a73bb9a3",
   "metadata": {},
   "outputs": [
    {
     "data": {
      "text/plain": [
       "true"
      ]
     },
     "execution_count": 38,
     "metadata": {},
     "output_type": "execute_result"
    }
   ],
   "source": [
    "List<ItemElement> myList = new ArrayList<>();\n",
    "myList.add(new Book(23));\n",
    "myList.add(new Fruit(3));\n",
    "myList.add(new Fruit(6));\n",
    "myList.add(new Book(14));"
   ]
  },
  {
   "cell_type": "code",
   "execution_count": 40,
   "id": "09024b83",
   "metadata": {},
   "outputs": [],
   "source": [
    "ShoppingCartVisitor vis = new ShoppingCartVisitorImpl();"
   ]
  },
  {
   "cell_type": "code",
   "execution_count": 42,
   "id": "2d0fb8a1",
   "metadata": {},
   "outputs": [
    {
     "name": "stdout",
     "output_type": "stream",
     "text": [
      "46\n"
     ]
    }
   ],
   "source": [
    "int sum = 0;\n",
    "for (ItemElement item : myList) {\n",
    "    sum = sum + item.accept(vis);\n",
    "}\n",
    "\n",
    "System.out.println(sum);"
   ]
  },
  {
   "cell_type": "markdown",
   "id": "e4ecf473",
   "metadata": {},
   "source": [
    "Little bit confusing, but the visitor is essentially using polymorphism and method overloading to take in objects and perform the necessary actions on them. The objects in the collection do not need to be changed in order to do this."
   ]
  },
  {
   "cell_type": "markdown",
   "id": "3e1ec2c9",
   "metadata": {},
   "source": [
    "## Example"
   ]
  },
  {
   "cell_type": "code",
   "execution_count": 76,
   "id": "7fcdd4d6",
   "metadata": {},
   "outputs": [],
   "source": [
    "interface ItemElement {\n",
    "    int accept(ShoppingCartVisitor visitor);\n",
    "    int getPrice();\n",
    "}"
   ]
  },
  {
   "cell_type": "code",
   "execution_count": 77,
   "id": "1e6794b0",
   "metadata": {},
   "outputs": [],
   "source": [
    "class Book implements ItemElement {\n",
    "    int price;\n",
    "    int weight;\n",
    "    \n",
    "    public Book(int price, int weight)\n",
    "    {\n",
    "        this.price = price;\n",
    "        this.weight = weight;\n",
    "    }\n",
    "    \n",
    "    public int getPrice()\n",
    "    {\n",
    "        return this.price;\n",
    "    }\n",
    "    \n",
    "    public int accept(ShoppingCartVisitor visitor)\n",
    "    {\n",
    "        return visitor.visit(this);\n",
    "    }\n",
    "}"
   ]
  },
  {
   "cell_type": "code",
   "execution_count": 78,
   "id": "8c8a6e20",
   "metadata": {},
   "outputs": [],
   "source": [
    "interface ShoppingCartVisitor {\n",
    "    int visit(Book book);\n",
    "}"
   ]
  },
  {
   "cell_type": "code",
   "execution_count": 79,
   "id": "25c183b3",
   "metadata": {},
   "outputs": [],
   "source": [
    "class ShoppingCartVisitorImpl implements ShoppingCartVisitor {\n",
    "\n",
    "    public int visit(Book book)\n",
    "    {\n",
    "        if (book.weight <= 10) {\n",
    "            return 5;\n",
    "        }\n",
    "        \n",
    "        return 10;\n",
    "    }\n",
    "}"
   ]
  },
  {
   "cell_type": "code",
   "execution_count": 80,
   "id": "7ec5a047",
   "metadata": {},
   "outputs": [
    {
     "data": {
      "text/plain": [
       "true"
      ]
     },
     "execution_count": 80,
     "metadata": {},
     "output_type": "execute_result"
    }
   ],
   "source": [
    "List<ItemElement> myCart = new ArrayList<>();\n",
    "myCart.add(new Book(12, 15));\n",
    "myCart.add(new Book(5, 3));\n",
    "myCart.add(new Book(24, 8));\n",
    "myCart.add(new Book(18, 10));"
   ]
  },
  {
   "cell_type": "code",
   "execution_count": 81,
   "id": "fba07dee",
   "metadata": {},
   "outputs": [],
   "source": [
    "ShoppingCartVisitor vis = new ShoppingCartVisitorImpl();"
   ]
  },
  {
   "cell_type": "code",
   "execution_count": 84,
   "id": "1fe641af",
   "metadata": {},
   "outputs": [
    {
     "name": "stdout",
     "output_type": "stream",
     "text": [
      "Here is your cart breakdown:\n",
      "Total cart value: 59\n",
      "Postage: 25\n",
      "Total to pay: 84\n"
     ]
    }
   ],
   "source": [
    "int postage = 0;\n",
    "for (ItemElement item : myCart) {\n",
    "    postage += item.accept(vis);\n",
    "}\n",
    "\n",
    "int totalValue = 0;\n",
    "for (ItemElement item : myCart) {\n",
    "    totalValue += item.getPrice();\n",
    "}\n",
    "\n",
    "int totalToPay = totalValue + postage;\n",
    "\n",
    "System.out.println(\"Here is your cart breakdown:\\nTotal cart value: \" + totalValue + \"\\nPostage: \" + postage + \"\\nTotal to pay: \" + totalToPay);"
   ]
  }
 ],
 "metadata": {
  "kernelspec": {
   "display_name": "Java",
   "language": "java",
   "name": "java"
  },
  "language_info": {
   "codemirror_mode": "java",
   "file_extension": ".jshell",
   "mimetype": "text/x-java-source",
   "name": "Java",
   "pygments_lexer": "java",
   "version": "11.0.13+8"
  },
  "toc": {
   "base_numbering": 1,
   "nav_menu": {},
   "number_sections": true,
   "sideBar": true,
   "skip_h1_title": true,
   "title_cell": "Table of Contents",
   "title_sidebar": "Contents",
   "toc_cell": true,
   "toc_position": {},
   "toc_section_display": true,
   "toc_window_display": true
  }
 },
 "nbformat": 4,
 "nbformat_minor": 5
}
