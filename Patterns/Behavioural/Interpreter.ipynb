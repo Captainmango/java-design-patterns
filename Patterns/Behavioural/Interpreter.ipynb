{
 "cells": [
  {
   "cell_type": "markdown",
   "id": "d7d14d22",
   "metadata": {
    "toc": true
   },
   "source": [
    "<h1>Table of Contents<span class=\"tocSkip\"></span></h1>\n",
    "<div class=\"toc\"><ul class=\"toc-item\"><li><span><a href=\"#Intro\" data-toc-modified-id=\"Intro-1\"><span class=\"toc-item-num\">1&nbsp;&nbsp;</span>Intro</a></span></li><li><span><a href=\"#Implementation\" data-toc-modified-id=\"Implementation-2\"><span class=\"toc-item-num\">2&nbsp;&nbsp;</span>Implementation</a></span></li><li><span><a href=\"#Example\" data-toc-modified-id=\"Example-3\"><span class=\"toc-item-num\">3&nbsp;&nbsp;</span>Example</a></span></li></ul></div>"
   ]
  },
  {
   "cell_type": "markdown",
   "id": "0670a170",
   "metadata": {},
   "source": [
    "# Interpreter"
   ]
  },
  {
   "cell_type": "markdown",
   "id": "58d5c038",
   "metadata": {},
   "source": [
    "## Intro"
   ]
  },
  {
   "cell_type": "markdown",
   "id": "1baac8bb",
   "metadata": {},
   "source": [
    "This pattern is sued for understanding natural language text. It provides a way to evaluate grammar or an expression.\n",
    "\n",
    "Given a language, define a representation for its grammar along with an interpreter that uses the representation to interpret sentences in the language.\n",
    "\n",
    "it usually involved implementing an expression interface which tells how to interpret a particular context"
   ]
  },
  {
   "cell_type": "markdown",
   "id": "0b2a6605",
   "metadata": {},
   "source": [
    "We obvs need to know the grammar of the target language."
   ]
  },
  {
   "cell_type": "markdown",
   "id": "a3d4cc15",
   "metadata": {},
   "source": [
    "When implementing the interpreter pattern, we need to define the grammar representation. We do this by using a class for each rule. Using regular expressions, we can specify matching strings and enforce the rules specifically."
   ]
  },
  {
   "cell_type": "markdown",
   "id": "c3b850b4",
   "metadata": {},
   "source": [
    "The pattern will describe how to define a grammar for regular expressions, represent a particular expression, and determine how to interpret strings with it."
   ]
  },
  {
   "cell_type": "markdown",
   "id": "d1268b72",
   "metadata": {},
   "source": [
    "The most common use case of this pattern is a translator. Same with a compiler."
   ]
  },
  {
   "cell_type": "markdown",
   "id": "35616143",
   "metadata": {},
   "source": [
    "Advantages of the pattern are:\n",
    "* Easy to implement if you know the grammar rules\n",
    "* Can easily extend the language with new grammar rules"
   ]
  },
  {
   "cell_type": "markdown",
   "id": "2b000ee1",
   "metadata": {},
   "source": [
    "A key concern is the number of grammar rules can become difficult to maintain if there are a lot of them. It also requires a lot of code and error handling to evaluate. Also, regular expressions (a key part of the pattern) aren't incredibly performant. It might be better to write a generator or use some other way to evaluate language"
   ]
  },
  {
   "cell_type": "markdown",
   "id": "67ba842b",
   "metadata": {},
   "source": [
    "## Implementation"
   ]
  },
  {
   "cell_type": "code",
   "execution_count": 2,
   "id": "daffadf4",
   "metadata": {},
   "outputs": [],
   "source": [
    "class InterpreterContext {\n",
    "    \n",
    "    public String getBinaryFormat(int num)\n",
    "    {\n",
    "        return Integer.toBinaryString(num);\n",
    "    }\n",
    "    \n",
    "     \n",
    "    public String getHexadecimalFormat(int num)\n",
    "    {\n",
    "        return Integer.toHexString(num);\n",
    "    }\n",
    "}"
   ]
  },
  {
   "cell_type": "code",
   "execution_count": 3,
   "id": "68bd2294",
   "metadata": {},
   "outputs": [],
   "source": [
    "interface Expression {\n",
    "    String interpret(InterpreterContext ic);\n",
    "}"
   ]
  },
  {
   "cell_type": "code",
   "execution_count": 4,
   "id": "4840a0d3",
   "metadata": {},
   "outputs": [],
   "source": [
    "class IntToBinaryExpression implements Expression {\n",
    "    private int num;\n",
    "    \n",
    "    public IntToBinaryExpression(int num)\n",
    "    {\n",
    "        this.num = num;\n",
    "    }\n",
    "    \n",
    "    public String interpret(InterpreterContext ic)\n",
    "    {\n",
    "        return ic.getBinaryFormat(num);\n",
    "    }\n",
    "}"
   ]
  },
  {
   "cell_type": "code",
   "execution_count": 5,
   "id": "bf890cd8",
   "metadata": {},
   "outputs": [],
   "source": [
    "class IntToHexExpression implements Expression {\n",
    "    private int num;\n",
    "    \n",
    "    public IntToHexExpression(int num)\n",
    "    {\n",
    "        this.num = num;\n",
    "    }\n",
    "    \n",
    "    public String interpret(InterpreterContext ic)\n",
    "    {\n",
    "        return ic.getHexadecimalFormat(num);\n",
    "    }\n",
    "}"
   ]
  },
  {
   "cell_type": "code",
   "execution_count": 6,
   "id": "a1fb8a2c",
   "metadata": {},
   "outputs": [],
   "source": [
    "InterpreterContext ic = new InterpreterContext();"
   ]
  },
  {
   "cell_type": "code",
   "execution_count": 14,
   "id": "f61dc2d4",
   "metadata": {},
   "outputs": [],
   "source": [
    "Expression myExp = new IntToBinaryExpression(12);\n",
    "Expression myExp2 = new IntToHexExpression(12);"
   ]
  },
  {
   "cell_type": "code",
   "execution_count": 17,
   "id": "f06e5bed",
   "metadata": {},
   "outputs": [
    {
     "data": {
      "text/plain": [
       "1100"
      ]
     },
     "execution_count": 17,
     "metadata": {},
     "output_type": "execute_result"
    }
   ],
   "source": [
    "myExp.interpret(ic);"
   ]
  },
  {
   "cell_type": "code",
   "execution_count": 16,
   "id": "9db46cd2",
   "metadata": {},
   "outputs": [
    {
     "data": {
      "text/plain": [
       "c"
      ]
     },
     "execution_count": 16,
     "metadata": {},
     "output_type": "execute_result"
    }
   ],
   "source": [
    "myExp2.interpret(ic);"
   ]
  },
  {
   "cell_type": "markdown",
   "id": "36b37fb6",
   "metadata": {},
   "source": [
    "The pattern does not do any parsing. It merely offers a way to provide parsed input to an interpreter in order to return the expression given the set of rules for the grammar in question (this is a whole thing, basically this thing spits out the representation of the thing we want if the input is correct)"
   ]
  },
  {
   "cell_type": "markdown",
   "id": "52520e52",
   "metadata": {},
   "source": [
    "## Example"
   ]
  },
  {
   "cell_type": "code",
   "execution_count": null,
   "id": "c89c9fcc",
   "metadata": {},
   "outputs": [],
   "source": [
    "interface IContext {\n",
    "    Boolean getResult(String data);\n",
    "}"
   ]
  },
  {
   "cell_type": "code",
   "execution_count": 6,
   "id": "1f3a165b",
   "metadata": {},
   "outputs": [],
   "source": [
    "interface Expression {\n",
    "    Boolean interpret(IContext context);\n",
    "}"
   ]
  },
  {
   "cell_type": "code",
   "execution_count": 7,
   "id": "dcc97a12",
   "metadata": {},
   "outputs": [],
   "source": [
    "class AppContext implements IContext {\n",
    "    private String input;\n",
    "    \n",
    "    public AppContext(String input)\n",
    "    {\n",
    "        this.input = input;\n",
    "    }\n",
    "    \n",
    "    public Boolean getResult(String data)\n",
    "    {\n",
    "        if (input.contains(data)) {\n",
    "            return true;\n",
    "        }\n",
    "        \n",
    "        return false;\n",
    "    }\n",
    "}"
   ]
  },
  {
   "cell_type": "code",
   "execution_count": 16,
   "id": "c6b288ae",
   "metadata": {},
   "outputs": [],
   "source": [
    "class TerminalExpression implements Expression {\n",
    "    private String data;\n",
    "    \n",
    "    public TerminalExpression(String data)\n",
    "    {\n",
    "        this.data = data;\n",
    "    }\n",
    "    \n",
    "    public Boolean interpret(IContext ctx)\n",
    "    {\n",
    "        return ctx.getResult(this.data);\n",
    "    }\n",
    "}"
   ]
  },
  {
   "cell_type": "code",
   "execution_count": 17,
   "id": "c25435e3",
   "metadata": {},
   "outputs": [],
   "source": [
    "class OrExpression implements Expression {\n",
    "    private Expression exp1; // left branch\n",
    "    private Expression exp2; // right branch\n",
    "    \n",
    "    public OrExpression(Expression e1, Expression e2)\n",
    "    {\n",
    "        this.exp1 = e1;\n",
    "        this.exp2 = e2;\n",
    "    }\n",
    "    \n",
    "    public Boolean interpret(IContext ctx)\n",
    "    {\n",
    "        return exp1.interpret(ctx) || exp2.interpret(ctx);\n",
    "    }\n",
    "}"
   ]
  },
  {
   "cell_type": "code",
   "execution_count": 18,
   "id": "335ddb9c",
   "metadata": {},
   "outputs": [],
   "source": [
    "class AndExpression implements Expression {\n",
    "    private Expression exp1; // left branch\n",
    "    private Expression exp2; // right branch\n",
    "    \n",
    "    public AndExpression(Expression e1, Expression e2)\n",
    "    {\n",
    "        this.exp1 = e1;\n",
    "        this.exp2 = e2;\n",
    "    }\n",
    "    \n",
    "    public Boolean interpret(IContext ctx)\n",
    "    {\n",
    "        return exp1.interpret(ctx) && exp2.interpret(ctx);\n",
    "    }\n",
    "}"
   ]
  },
  {
   "cell_type": "code",
   "execution_count": 19,
   "id": "b6fe284c",
   "metadata": {},
   "outputs": [],
   "source": [
    "Expression left = new TerminalExpression(\"left\");"
   ]
  },
  {
   "cell_type": "code",
   "execution_count": 20,
   "id": "75245be7",
   "metadata": {},
   "outputs": [],
   "source": [
    "Expression right = new TerminalExpression(\"right\");"
   ]
  },
  {
   "cell_type": "code",
   "execution_count": 21,
   "id": "b0d4d58e",
   "metadata": {},
   "outputs": [],
   "source": [
    "Expression leftOrRight = new OrExpression(left, right);"
   ]
  },
  {
   "cell_type": "code",
   "execution_count": 22,
   "id": "ca093249",
   "metadata": {},
   "outputs": [],
   "source": [
    "IContext myCtx = new AppContext(\"left or right\");"
   ]
  },
  {
   "cell_type": "code",
   "execution_count": 23,
   "id": "54716951",
   "metadata": {},
   "outputs": [
    {
     "data": {
      "text/plain": [
       "true"
      ]
     },
     "execution_count": 23,
     "metadata": {},
     "output_type": "execute_result"
    }
   ],
   "source": [
    "leftOrRight.interpret(myCtx);"
   ]
  },
  {
   "cell_type": "markdown",
   "id": "a9878767",
   "metadata": {},
   "source": [
    "There aren't a lot of moving parts with this pattern. But, they are working in concert continuously. The Expressions are ways of representing the grammar. In the above case, it was simple to create the grammar using logical symbols. These are non-terminal as they are decision making.\n",
    "\n",
    "The non-terminal expression will need to use recursion to evaluate the rule it holds on the 'child' expressions or the terminals (non-terminals can have non-terminals as children, hence the need for recursion).\n",
    "\n",
    "The Terminal expression will need to return themselves and/or check themselves against the context in question. The context is the driver here. The context determines how the interpretation will work. In the above case, it is simply checking the above string is contained in the one set in the context. This could become much more complex.\n",
    "\n",
    "To summarise how the context and expressions work together:\n",
    "* Expressions contain the grammar (the rules for interpreting)\n",
    "* Terminal expressions are combined to create a 'language'\n",
    "* Non-terminal expressions are used to check if the language rules (or grammar) are met\n",
    "* The terminal interpret and non-terminal interpret will work in concert via recursion.\n",
    "* The context contains __how__ the grammar rules will be applied. \n",
    "\n",
    "Best way to think of this is to think of the context as being what it sounds like. Grammar rules mean nothing without a context. The expressions (non-terminal and terminal) make up the grammar, but the __context__ is what allows that grammar to actually be used."
   ]
  },
  {
   "cell_type": "code",
   "execution_count": null,
   "id": "b5d49ec2",
   "metadata": {},
   "outputs": [],
   "source": []
  }
 ],
 "metadata": {
  "kernelspec": {
   "display_name": "Java",
   "language": "java",
   "name": "java"
  },
  "language_info": {
   "codemirror_mode": "java",
   "file_extension": ".jshell",
   "mimetype": "text/x-java-source",
   "name": "Java",
   "pygments_lexer": "java",
   "version": "11.0.13+8"
  },
  "toc": {
   "base_numbering": 1,
   "nav_menu": {},
   "number_sections": true,
   "sideBar": true,
   "skip_h1_title": true,
   "title_cell": "Table of Contents",
   "title_sidebar": "Contents",
   "toc_cell": true,
   "toc_position": {},
   "toc_section_display": true,
   "toc_window_display": true
  }
 },
 "nbformat": 4,
 "nbformat_minor": 5
}
