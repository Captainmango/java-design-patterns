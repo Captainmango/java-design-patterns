{
 "cells": [
  {
   "cell_type": "markdown",
   "id": "e023dc5f",
   "metadata": {
    "toc": true
   },
   "source": [
    "<h1>Table of Contents<span class=\"tocSkip\"></span></h1>\n",
    "<div class=\"toc\"><ul class=\"toc-item\"><li><span><a href=\"#Intro\" data-toc-modified-id=\"Intro-1\"><span class=\"toc-item-num\">1&nbsp;&nbsp;</span>Intro</a></span></li><li><span><a href=\"#Implementation\" data-toc-modified-id=\"Implementation-2\"><span class=\"toc-item-num\">2&nbsp;&nbsp;</span>Implementation</a></span></li><li><span><a href=\"#Example\" data-toc-modified-id=\"Example-3\"><span class=\"toc-item-num\">3&nbsp;&nbsp;</span>Example</a></span></li></ul></div>"
   ]
  },
  {
   "cell_type": "markdown",
   "id": "d7c8fa69",
   "metadata": {},
   "source": [
    "# Strategy"
   ]
  },
  {
   "cell_type": "markdown",
   "id": "9ddbf295",
   "metadata": {},
   "source": [
    "## Intro"
   ]
  },
  {
   "cell_type": "markdown",
   "id": "4f6dd98c",
   "metadata": {},
   "source": [
    "This pattern is very similar to the state pattern. The pattern allows us to define a family of algorithms, encapsulates each one, and makes them interchangeable. The algo can vary from client to client, but conceptually all of them will do roughly the same things, just with different implementations.\n",
    "\n",
    "We can select the behaviour of the algo at run time and can help us with avoiding complex algo specific data structures.\n",
    "\n",
    "It allows us to create objects which represent the various strategies and a context object whose behaviour varies as per the enclosed strategy object."
   ]
  },
  {
   "cell_type": "markdown",
   "id": "d13f947a",
   "metadata": {},
   "source": [
    "Some real world examples of the strategy are exactly that. Strategies. They are patterns of thinking about a problem. They result in the same thing (let's say playing a sport), but the implementations (the tactics used or behaviours) will vary."
   ]
  },
  {
   "cell_type": "markdown",
   "id": "3f987928",
   "metadata": {},
   "source": [
    "The key way to delineate between the state and strategy patterns is that the state pattern allows us to avoid confusing nested logic in our context. Whereas, the strategy pattern lets us use subclasses to determine how to implement steps in a process. One focuses on flow, the other order."
   ]
  },
  {
   "cell_type": "markdown",
   "id": "9300f15f",
   "metadata": {},
   "source": [
    "Another key difference is the use of state on the state's context. This is usually stored as instance variables. In the strategy implementation, there could be multiple tasks that depend on state. These would often be passed into those functions as arguments rather than being intrinsic to the context itself. "
   ]
  },
  {
   "cell_type": "markdown",
   "id": "da5a5c58",
   "metadata": {},
   "source": [
    "The advantages of this patter are:\n",
    "* Encapsulating the algo allows new algos to be created easily using the same interface\n",
    "* Able to switch strategies at run time\n",
    "* Clients can choose the required algo without complex logic\n",
    "* It simplifies unit testing by decoupling the algos from their contexts"
   ]
  },
  {
   "cell_type": "markdown",
   "id": "5b8940b3",
   "metadata": {},
   "source": [
    "We want to use this pattern when the related classes only differ in their behaviour and are essentially variants of each other. It can also be used to obscure data the client doesn't need to see. Also, if there are multiple if-else chains needed to actually choose an algo, the strategy is useful to simplify this."
   ]
  },
  {
   "cell_type": "markdown",
   "id": "638e9cbb",
   "metadata": {},
   "source": [
    "## Implementation"
   ]
  },
  {
   "cell_type": "code",
   "execution_count": 1,
   "id": "f13d03ca",
   "metadata": {},
   "outputs": [],
   "source": [
    "interface PaymentStrategy {\n",
    "    public void pay(int amt);\n",
    "}"
   ]
  },
  {
   "cell_type": "code",
   "execution_count": 2,
   "id": "53b3cd94",
   "metadata": {},
   "outputs": [],
   "source": [
    "class CreditCardStrategy implements PaymentStrategy {\n",
    "    private String cardNumber;\n",
    "    \n",
    "    public CreditCardStrategy(String nm)\n",
    "    {\n",
    "        this.cardNumber = nm;\n",
    "    }\n",
    "    \n",
    "    @Override\n",
    "    public void pay(int amt)\n",
    "    {\n",
    "        System.out.println(\"Paid \" + amt + \" with credit card: \" + this.cardNumber);\n",
    "    }\n",
    "}"
   ]
  },
  {
   "cell_type": "code",
   "execution_count": 15,
   "id": "a9bd9dfb",
   "metadata": {},
   "outputs": [],
   "source": [
    "class PaypalStrategy implements PaymentStrategy {\n",
    "    private String email;\n",
    "    \n",
    "    public PaypalStrategy(String nm)\n",
    "    {\n",
    "        this.email = nm;\n",
    "    }\n",
    "    \n",
    "    @Override\n",
    "    public void pay(int amt)\n",
    "    {\n",
    "        System.out.println(\"Paid \" + amt + \" with PayPal: \" + this.email);\n",
    "    }\n",
    "}"
   ]
  },
  {
   "cell_type": "code",
   "execution_count": 16,
   "id": "7f9ef334",
   "metadata": {},
   "outputs": [],
   "source": [
    "public class Item {\n",
    "    private String code;\n",
    "    private int price;\n",
    "    \n",
    "    public Item(String code, int price)\n",
    "    {\n",
    "        this.code = code;\n",
    "        this.price = price;\n",
    "    }\n",
    "    \n",
    "    public int getPrice()\n",
    "    {\n",
    "        return this.price;\n",
    "    }\n",
    "    \n",
    "    public String getCode()\n",
    "    {\n",
    "        return this.code;\n",
    "    }\n",
    "}"
   ]
  },
  {
   "cell_type": "code",
   "execution_count": 17,
   "id": "dd2d511b",
   "metadata": {},
   "outputs": [],
   "source": [
    "class ShoppingCart {\n",
    "    List<Item> contents = new ArrayList<>();\n",
    "    \n",
    "    public void addItem(Item item)\n",
    "    {\n",
    "        this.contents.add(item);\n",
    "    }\n",
    "    \n",
    "    public void removeItem(Item item)\n",
    "    {\n",
    "        this.contents.remove(item);\n",
    "    }\n",
    "    \n",
    "    public int calcTotal()\n",
    "    {\n",
    "        int sum = 0;\n",
    "        \n",
    "        for (Item item : contents) {\n",
    "            sum += item.getPrice();\n",
    "        }\n",
    "        \n",
    "        return sum;\n",
    "    }\n",
    "    \n",
    "    public void makePayment(PaymentStrategy ps)\n",
    "    {\n",
    "        int amount = this.calcTotal();\n",
    "        \n",
    "        ps.pay(amount);\n",
    "    }\n",
    "}"
   ]
  },
  {
   "cell_type": "code",
   "execution_count": 18,
   "id": "560f1c33",
   "metadata": {},
   "outputs": [],
   "source": [
    "Item apple = new Item(\"apples\", 2);\n",
    "Item oranges = new Item(\"oranges\", 4);\n",
    "Item bananas = new Item(\"bananas\", 6);\n",
    "\n",
    "ShoppingCart myCart = new ShoppingCart();"
   ]
  },
  {
   "cell_type": "code",
   "execution_count": 19,
   "id": "a788482b",
   "metadata": {},
   "outputs": [],
   "source": [
    "myCart.addItem(apple);\n",
    "myCart.addItem(oranges);\n",
    "myCart.addItem(bananas);"
   ]
  },
  {
   "cell_type": "code",
   "execution_count": 21,
   "id": "a82f251b",
   "metadata": {},
   "outputs": [],
   "source": [
    "PaymentStrategy byCard = new CreditCardStrategy(\"1234-5678-9876-4321\");\n",
    "PaymentStrategy byPP = new PaypalStrategy(\"test@test.com\");"
   ]
  },
  {
   "cell_type": "code",
   "execution_count": 22,
   "id": "3ddd72e3",
   "metadata": {},
   "outputs": [
    {
     "name": "stdout",
     "output_type": "stream",
     "text": [
      "Paid 12 with credit card: 1234-5678-9876-4321\n"
     ]
    }
   ],
   "source": [
    "myCart.makePayment(byCard);"
   ]
  },
  {
   "cell_type": "code",
   "execution_count": 23,
   "id": "852863e3",
   "metadata": {},
   "outputs": [
    {
     "name": "stdout",
     "output_type": "stream",
     "text": [
      "Paid 12 with PayPal: test@test.com\n"
     ]
    }
   ],
   "source": [
    "myCart.makePayment(byPP);"
   ]
  },
  {
   "cell_type": "markdown",
   "id": "36414c86",
   "metadata": {},
   "source": [
    " ## Example"
   ]
  },
  {
   "cell_type": "code",
   "execution_count": 33,
   "id": "aabb4a6b",
   "metadata": {},
   "outputs": [],
   "source": [
    "interface Operation {\n",
    "    int handle(int numOne, int numTwo);\n",
    "}"
   ]
  },
  {
   "cell_type": "code",
   "execution_count": 34,
   "id": "9c9a69f2",
   "metadata": {},
   "outputs": [],
   "source": [
    "class Add implements Operation {\n",
    "    @Override\n",
    "    public int handle(int numOne, int numTwo)\n",
    "    {\n",
    "        return numOne + numTwo;\n",
    "    }\n",
    "}"
   ]
  },
  {
   "cell_type": "code",
   "execution_count": 35,
   "id": "80a9bace",
   "metadata": {},
   "outputs": [],
   "source": [
    "class Minus implements Operation {\n",
    "    @Override\n",
    "    public int handle(int numOne, int numTwo)\n",
    "    {\n",
    "        return numOne - numTwo;\n",
    "    }\n",
    "}"
   ]
  },
  {
   "cell_type": "code",
   "execution_count": 39,
   "id": "276f13be",
   "metadata": {},
   "outputs": [],
   "source": [
    "class Calculator {\n",
    "    private int currVal;\n",
    "    \n",
    "    public void performCalculation(int numOne, Operation op, int numTwo)\n",
    "    {\n",
    "        currVal = op.handle(numOne, numTwo);\n",
    "    }\n",
    "    \n",
    "    public void getCurrVal()\n",
    "    {\n",
    "        System.out.println(currVal);\n",
    "    }\n",
    "}"
   ]
  },
  {
   "cell_type": "code",
   "execution_count": 40,
   "id": "1b579320",
   "metadata": {},
   "outputs": [],
   "source": [
    "Calculator myCalc = new Calculator();\n",
    "Operation add = new Add();\n",
    "Operation minus = new Minus();"
   ]
  },
  {
   "cell_type": "code",
   "execution_count": 41,
   "id": "01b1cfd3",
   "metadata": {},
   "outputs": [],
   "source": [
    "myCalc.performCalculation(2, add, 5);"
   ]
  },
  {
   "cell_type": "code",
   "execution_count": 42,
   "id": "753ed9c0",
   "metadata": {},
   "outputs": [
    {
     "name": "stdout",
     "output_type": "stream",
     "text": [
      "7\n"
     ]
    }
   ],
   "source": [
    "myCalc.getCurrVal();"
   ]
  },
  {
   "cell_type": "code",
   "execution_count": 43,
   "id": "2663f591",
   "metadata": {},
   "outputs": [],
   "source": [
    "myCalc.performCalculation(7, minus, 4);"
   ]
  },
  {
   "cell_type": "code",
   "execution_count": 44,
   "id": "7384b24b",
   "metadata": {},
   "outputs": [
    {
     "name": "stdout",
     "output_type": "stream",
     "text": [
      "3\n"
     ]
    }
   ],
   "source": [
    "myCalc.getCurrVal();"
   ]
  }
 ],
 "metadata": {
  "kernelspec": {
   "display_name": "Java",
   "language": "java",
   "name": "java"
  },
  "language_info": {
   "codemirror_mode": "java",
   "file_extension": ".jshell",
   "mimetype": "text/x-java-source",
   "name": "Java",
   "pygments_lexer": "java",
   "version": "11.0.13+8"
  },
  "toc": {
   "base_numbering": 1,
   "nav_menu": {},
   "number_sections": true,
   "sideBar": true,
   "skip_h1_title": true,
   "title_cell": "Table of Contents",
   "title_sidebar": "Contents",
   "toc_cell": true,
   "toc_position": {},
   "toc_section_display": true,
   "toc_window_display": true
  }
 },
 "nbformat": 4,
 "nbformat_minor": 5
}
