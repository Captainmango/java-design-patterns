{
 "cells": [
  {
   "cell_type": "markdown",
   "id": "d5f56706",
   "metadata": {
    "toc": true
   },
   "source": [
    "<h1>Table of Contents<span class=\"tocSkip\"></span></h1>\n",
    "<div class=\"toc\"><ul class=\"toc-item\"><li><span><a href=\"#Intro\" data-toc-modified-id=\"Intro-1\"><span class=\"toc-item-num\">1&nbsp;&nbsp;</span>Intro</a></span></li><li><span><a href=\"#Implementation\" data-toc-modified-id=\"Implementation-2\"><span class=\"toc-item-num\">2&nbsp;&nbsp;</span>Implementation</a></span></li><li><span><a href=\"#Example\" data-toc-modified-id=\"Example-3\"><span class=\"toc-item-num\">3&nbsp;&nbsp;</span>Example</a></span></li></ul></div>"
   ]
  },
  {
   "cell_type": "markdown",
   "id": "2e9903bb",
   "metadata": {},
   "source": [
    "# Template Method"
   ]
  },
  {
   "cell_type": "markdown",
   "id": "390cfe45",
   "metadata": {},
   "source": [
    "## Intro"
   ]
  },
  {
   "cell_type": "markdown",
   "id": "f736a9e4",
   "metadata": {},
   "source": [
    "The template method is a pattern that defines a skeleton of an algorithm in an operation. It defers some steps of the algo to subclasses and lets them redefine the steps as needed. Its used to generalise a common process at an abstract level.\n",
    "\n",
    "The pattern is all about creating a template for an algorithm. One or more of the steps is defined as an abstract method and implemented by a subclass. In this way, we ensure the algo's structure is not changed and the subclass is the thing responsible for defining how the algorithm works.\n",
    "\n",
    "Software reuse is a fundamental goal of the pattern. A good real world example is a restaurant making pizzas. The way you make a pizza is the same, but some of the ingredients and cooking times might change. The composition of the pizza though is the same. Otherwise, it wouldn't be a pizza.\n",
    "\n",
    "We want to use this pattern when we need to support multiple algos that behave conceptually the same, but vary in their concrete steps. It also allows us to avoid code duplication by generalising the exposed API from a function or set of algos. "
   ]
  },
  {
   "cell_type": "markdown",
   "id": "482bf95c",
   "metadata": {},
   "source": [
    "The template method consists of certain steps whose order is fixed. The methods implementation can differ from base to subclass, encapsulating the algorithm by inheritance rather than composition."
   ]
  },
  {
   "cell_type": "markdown",
   "id": "8800130e",
   "metadata": {},
   "source": [
    "The pattern can vary a bit in the wild. Most of the time subclasses call methods in the super class. In the template method though, the super class template method calls in the subclasses. This is known as the Hollywood principle. This principle helps us to decide on how to create high level modules and how they call lower level ones.\n",
    "\n",
    "In Java, we use the abstract class to create this pattern. This is because we can provide an default implementation and specific implementations in the subclass.\n",
    "\n",
    "Hooks are also used as part of this pattern. A hook jacks into the algo and starts to do work. Implementations of the base class can ignore this if need be."
   ]
  },
  {
   "cell_type": "markdown",
   "id": "dfcfc419",
   "metadata": {},
   "source": [
    "> # Remember to make the template method final so it cannot be overridden"
   ]
  },
  {
   "cell_type": "markdown",
   "id": "86c2dc40",
   "metadata": {},
   "source": [
    "## Implementation"
   ]
  },
  {
   "cell_type": "code",
   "execution_count": 20,
   "id": "0d6d2f1b",
   "metadata": {},
   "outputs": [],
   "source": [
    "abstract class HouseTemplate {\n",
    "    public final void buildHouse()\n",
    "    {\n",
    "        layFoundation();\n",
    "        buildWalls();\n",
    "        layFlooring();\n",
    "        buildWindows();\n",
    "        buildRoof();\n",
    "        System.out.println(\"House built\");\n",
    "    }\n",
    "    \n",
    "    private void buildWindows()\n",
    "    {\n",
    "        System.out.println(\"Build windows\");\n",
    "    }\n",
    "    \n",
    "    abstract public void buildWalls();\n",
    "    abstract public void layFlooring();\n",
    "    abstract public void buildRoof();\n",
    "    \n",
    "    private void layFoundation()\n",
    "    {\n",
    "        System.out.println(\"Lay foundation\");\n",
    "    }   \n",
    "}"
   ]
  },
  {
   "cell_type": "code",
   "execution_count": 21,
   "id": "5aa9898d",
   "metadata": {},
   "outputs": [],
   "source": [
    "class GlassHouse extends HouseTemplate {\n",
    "    @Override\n",
    "    public void buildWalls()\n",
    "    {\n",
    "        System.out.println(\"Building glass walls\");\n",
    "    }\n",
    "    \n",
    "    @Override\n",
    "    public void layFlooring()\n",
    "    {\n",
    "        System.out.println(\"Laying glass flooring\");\n",
    "    }\n",
    "    \n",
    "    @Override\n",
    "    public void buildRoof()\n",
    "    {\n",
    "        System.out.println(\"Building glass roof\");\n",
    "    }\n",
    "}"
   ]
  },
  {
   "cell_type": "code",
   "execution_count": 22,
   "id": "ffe40690",
   "metadata": {},
   "outputs": [],
   "source": [
    "HouseTemplate myHouseOne = new GlassHouse();"
   ]
  },
  {
   "cell_type": "code",
   "execution_count": 23,
   "id": "c01509bc",
   "metadata": {},
   "outputs": [
    {
     "name": "stdout",
     "output_type": "stream",
     "text": [
      "Lay foundation\n",
      "Building glass walls\n",
      "Laying glass flooring\n",
      "Build windows\n",
      "Building glass roof\n",
      "House built\n"
     ]
    }
   ],
   "source": [
    "myHouseOne.buildHouse();"
   ]
  },
  {
   "cell_type": "code",
   "execution_count": 24,
   "id": "e5e248a6",
   "metadata": {},
   "outputs": [],
   "source": [
    "class WoodHouse extends HouseTemplate {\n",
    "    @Override\n",
    "    public void buildWalls()\n",
    "    {\n",
    "        System.out.println(\"Building wooden walls\");\n",
    "    }\n",
    "    \n",
    "    @Override\n",
    "    public void layFlooring()\n",
    "    {\n",
    "        System.out.println(\"Laying wood flooring\");\n",
    "    }\n",
    "    \n",
    "    @Override\n",
    "    public void buildRoof()\n",
    "    {\n",
    "        System.out.println(\"Building wooden roof\");\n",
    "    }\n",
    "}"
   ]
  },
  {
   "cell_type": "code",
   "execution_count": 25,
   "id": "f66fda30",
   "metadata": {},
   "outputs": [],
   "source": [
    "HouseTemplate myHouseTwo = new WoodHouse();"
   ]
  },
  {
   "cell_type": "code",
   "execution_count": 26,
   "id": "8044399e",
   "metadata": {},
   "outputs": [
    {
     "name": "stdout",
     "output_type": "stream",
     "text": [
      "Lay foundation\n",
      "Building wooden walls\n",
      "Laying wood flooring\n",
      "Build windows\n",
      "Building wooden roof\n",
      "House built\n"
     ]
    }
   ],
   "source": [
    "myHouseTwo.buildHouse();"
   ]
  },
  {
   "cell_type": "markdown",
   "id": "db961d58",
   "metadata": {},
   "source": [
    "## Example"
   ]
  },
  {
   "cell_type": "code",
   "execution_count": 55,
   "id": "95e0a620",
   "metadata": {},
   "outputs": [],
   "source": [
    "abstract class OrderProcessTemplate {\n",
    "    protected final void processOrder()\n",
    "    {\n",
    "        doSelect();\n",
    "        doPayment();\n",
    "        delivery();\n",
    "    }\n",
    "    \n",
    "    abstract public void doSelect();\n",
    "    abstract public void doPayment();\n",
    "    abstract public void delivery();\n",
    "    \n",
    "    protected void handle()\n",
    "    {\n",
    "        processOrder();\n",
    "    }\n",
    "}"
   ]
  },
  {
   "cell_type": "code",
   "execution_count": 56,
   "id": "5e063850",
   "metadata": {},
   "outputs": [],
   "source": [
    "class OnlineOrder extends OrderProcessTemplate {\n",
    "    @Override\n",
    "    public void doSelect()\n",
    "    {\n",
    "        System.out.println(\"Putting Item in cart\");\n",
    "    }\n",
    "    \n",
    "    @Override\n",
    "    public void doPayment()\n",
    "    {\n",
    "        System.out.println(\"Paying by credit card\");\n",
    "    }\n",
    "    \n",
    "    @Override\n",
    "    public void delivery()\n",
    "    {\n",
    "        System.out.println(\"Posting to your address\");\n",
    "    }\n",
    "}"
   ]
  },
  {
   "cell_type": "code",
   "execution_count": 57,
   "id": "7177fb1b",
   "metadata": {},
   "outputs": [],
   "source": [
    "class StoreOrder extends OrderProcessTemplate {\n",
    "    @Override\n",
    "    public void doSelect()\n",
    "    {\n",
    "        System.out.println(\"Picking up item\");\n",
    "    }\n",
    "    \n",
    "    @Override\n",
    "    public void doPayment()\n",
    "    {\n",
    "        System.out.println(\"Paying with cash\");\n",
    "    }\n",
    "    \n",
    "    @Override\n",
    "    public void delivery()\n",
    "    {\n",
    "        System.out.println(\"Organising delivery day\");\n",
    "    }\n",
    "    \n",
    "    @Override\n",
    "    protected void handle()\n",
    "    {\n",
    "        super.processOrder();\n",
    "        System.out.println(\"Do you want a loyalty card?\");\n",
    "    }\n",
    "}"
   ]
  },
  {
   "cell_type": "code",
   "execution_count": 58,
   "id": "b68c1bf5",
   "metadata": {},
   "outputs": [],
   "source": [
    "OrderProcessTemplate myOrderOne = new StoreOrder();"
   ]
  },
  {
   "cell_type": "code",
   "execution_count": 59,
   "id": "15859aae",
   "metadata": {},
   "outputs": [
    {
     "name": "stdout",
     "output_type": "stream",
     "text": [
      "Picking up item\n",
      "Paying with cash\n",
      "Organising delivery day\n",
      "Do you want a loyalty card?\n"
     ]
    }
   ],
   "source": [
    "myOrderOne.handle();"
   ]
  },
  {
   "cell_type": "code",
   "execution_count": 60,
   "id": "950469f1",
   "metadata": {},
   "outputs": [],
   "source": [
    "OrderProcessTemplate myOrderTwo = new OnlineOrder();"
   ]
  },
  {
   "cell_type": "code",
   "execution_count": 61,
   "id": "edff440f",
   "metadata": {},
   "outputs": [
    {
     "name": "stdout",
     "output_type": "stream",
     "text": [
      "Putting Item in cart\n",
      "Paying by credit card\n",
      "Posting to your address\n"
     ]
    }
   ],
   "source": [
    "myOrderTwo.handle();"
   ]
  }
 ],
 "metadata": {
  "kernelspec": {
   "display_name": "Java",
   "language": "java",
   "name": "java"
  },
  "language_info": {
   "codemirror_mode": "java",
   "file_extension": ".jshell",
   "mimetype": "text/x-java-source",
   "name": "Java",
   "pygments_lexer": "java",
   "version": "11.0.13+8"
  },
  "toc": {
   "base_numbering": 1,
   "nav_menu": {},
   "number_sections": true,
   "sideBar": true,
   "skip_h1_title": true,
   "title_cell": "Table of Contents",
   "title_sidebar": "Contents",
   "toc_cell": true,
   "toc_position": {},
   "toc_section_display": true,
   "toc_window_display": true
  }
 },
 "nbformat": 4,
 "nbformat_minor": 5
}
