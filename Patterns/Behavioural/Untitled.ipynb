{
 "cells": [
  {
   "cell_type": "markdown",
   "id": "2f67b586",
   "metadata": {
    "toc": true
   },
   "source": [
    "<h1>Table of Contents<span class=\"tocSkip\"></span></h1>\n",
    "<div class=\"toc\"><ul class=\"toc-item\"><li><span><a href=\"#Intro\" data-toc-modified-id=\"Intro-1\"><span class=\"toc-item-num\">1&nbsp;&nbsp;</span>Intro</a></span></li><li><span><a href=\"#Implementation\" data-toc-modified-id=\"Implementation-2\"><span class=\"toc-item-num\">2&nbsp;&nbsp;</span>Implementation</a></span></li><li><span><a href=\"#Examples\" data-toc-modified-id=\"Examples-3\"><span class=\"toc-item-num\">3&nbsp;&nbsp;</span>Examples</a></span></li></ul></div>"
   ]
  },
  {
   "cell_type": "markdown",
   "id": "3f81aaf0",
   "metadata": {},
   "source": [
    "# Chain of Responsibility"
   ]
  },
  {
   "cell_type": "markdown",
   "id": "c6756cf0",
   "metadata": {},
   "source": [
    "## Intro"
   ]
  },
  {
   "cell_type": "markdown",
   "id": "f9a29c37",
   "metadata": {},
   "source": [
    "This pattern focuses on decoupling the sender of a request to its receiver by giving it more than one object a chance to handle the request during its life. The chain receiving the object passes the request until the object that handles it does so.\n",
    "\n",
    "This pattern processes a series of things one by one. Some source will initiate this process.\n",
    "\n",
    "The request is sent along the chain implicitly and the order of the candidate objects is set, though it doesn't have to be. Each receiver contains a reference to another receiver and we can add new receivers at any time."
   ]
  },
  {
   "cell_type": "markdown",
   "id": "6a17c6e3",
   "metadata": {},
   "source": [
    "A good example of this pattern in the real life is the chain of events that take place in manufacturing. Each stage of the line receives the work done from the previous stage and knows to which process it passes its work. "
   ]
  },
  {
   "cell_type": "markdown",
   "id": "f976a0a7",
   "metadata": {},
   "source": [
    "We want to use this pattern when we want to decouple the request's receiver and sender. It's also a good idea to use this pattern when there are multiple objects determined at runtime to be involved in the processing of a request.\n",
    "\n",
    "To this end, specifying the handlers makes no sense, so we cannot explicitly do this without introducing issues."
   ]
  },
  {
   "cell_type": "markdown",
   "id": "be37c5a0",
   "metadata": {},
   "source": [
    "Advantages to this pattern are:"
   ]
  },
  {
   "cell_type": "markdown",
   "id": "32de4a7e",
   "metadata": {},
   "source": [
    "* Decouples the sender from the receiver\n",
    "* Simplifies your object greatly\n",
    "* Gives added flexibility by distributing work amongst objects"
   ]
  },
  {
   "cell_type": "markdown",
   "id": "aeac7c54",
   "metadata": {},
   "source": [
    "A key concern is that the process the request goes through is obscured and somewhat difficult to debug. Debugging tools can help here, but it can still be difficult."
   ]
  },
  {
   "cell_type": "markdown",
   "id": "f434a200",
   "metadata": {},
   "source": [
    "## Implementation"
   ]
  },
  {
   "cell_type": "code",
   "execution_count": 15,
   "id": "33f5aefe",
   "metadata": {},
   "outputs": [],
   "source": [
    "class Currency {\n",
    "    private int amount;\n",
    "    \n",
    "    public Currency(int amt)\n",
    "    {\n",
    "        this.amount = amt;\n",
    "    }\n",
    "    \n",
    "    public int getAmount()\n",
    "    {\n",
    "        return this.amount;\n",
    "    }\n",
    "}"
   ]
  },
  {
   "cell_type": "code",
   "execution_count": 16,
   "id": "ab837401",
   "metadata": {},
   "outputs": [],
   "source": [
    "interface DispenseChain {\n",
    "    void setNextChain(DispenseChain nextChaine);\n",
    "    void dispense(Currency currency);\n",
    "}"
   ]
  },
  {
   "cell_type": "code",
   "execution_count": 17,
   "id": "a69b764a",
   "metadata": {},
   "outputs": [],
   "source": [
    "class Pound20Dispenser implements DispenseChain {\n",
    "    private DispenseChain chain;\n",
    "    \n",
    "    public void setNextChain(DispenseChain nextChain)\n",
    "    {\n",
    "        chain = nextChain;\n",
    "    }\n",
    "    \n",
    "    public void dispense(Currency currency)\n",
    "    {\n",
    "        if (currency.getAmount() >= 20) {\n",
    "            int num = currency.getAmount() / 20;\n",
    "            int remainder = currency.getAmount() % 20;\n",
    "            System.out.println(\"Dispensing \" + num + \" £20 notes\");\n",
    "            \n",
    "            if (remainder != 0) {\n",
    "                this.chain.dispense(new Currency(remainder));\n",
    "            }\n",
    "        } else {\n",
    "            this.chain.dispense(currency);\n",
    "        }\n",
    "    }\n",
    "}"
   ]
  },
  {
   "cell_type": "code",
   "execution_count": 18,
   "id": "5ef9e1fc",
   "metadata": {},
   "outputs": [],
   "source": [
    "class Pound10Dispenser implements DispenseChain {\n",
    "    private DispenseChain chain;\n",
    "    \n",
    "    public void setNextChain(DispenseChain nextChain)\n",
    "    {\n",
    "        chain = nextChain;\n",
    "    }\n",
    "    \n",
    "    public void dispense(Currency currency)\n",
    "    {\n",
    "        if (currency.getAmount() >= 10) {\n",
    "            int num = currency.getAmount() / 10;\n",
    "            int remainder = currency.getAmount() % 10;\n",
    "            System.out.println(\"Dispensing \" + num + \" £10 notes\");\n",
    "            \n",
    "            if (remainder != 0) {\n",
    "                this.chain.dispense(new Currency(remainder));\n",
    "            }\n",
    "        } else {\n",
    "            this.chain.dispense(currency);\n",
    "        }\n",
    "    }\n",
    "}"
   ]
  },
  {
   "cell_type": "code",
   "execution_count": 47,
   "id": "22636df8",
   "metadata": {},
   "outputs": [],
   "source": [
    "class Pound5Dispenser implements DispenseChain {\n",
    "    private DispenseChain chain;\n",
    "    \n",
    "    public void setNextChain(DispenseChain nextChain)\n",
    "    {\n",
    "        chain = nextChain;\n",
    "    }\n",
    "    \n",
    "    public void dispense(Currency currency)\n",
    "    {\n",
    "        if (currency.getAmount() >= 5) {\n",
    "            int num = currency.getAmount() / 5;\n",
    "            int remainder = currency.getAmount() % 5;\n",
    "            System.out.println(\"Dispensing \" + num + \" £5 notes\");\n",
    "            \n",
    "            if (remainder != 0) {\n",
    "                System.out.println(\"I only handle multiples of 5. IOU £\" + remainder);\n",
    "            }\n",
    "        } else {\n",
    "            this.chain.dispense(currency);\n",
    "        }\n",
    "    }\n",
    "}"
   ]
  },
  {
   "cell_type": "code",
   "execution_count": 48,
   "id": "87c0a5e5",
   "metadata": {},
   "outputs": [],
   "source": [
    "class ATM {\n",
    "    public DispenseChain chain;\n",
    "    \n",
    "    public ATM()\n",
    "    {\n",
    "        this.chain = new Pound20Dispenser();\n",
    "        DispenseChain chain2 = new Pound10Dispenser();\n",
    "        DispenseChain chain3 = new Pound5Dispenser();\n",
    "        \n",
    "        this.chain.setNextChain(chain2);\n",
    "        chain2.setNextChain(chain3);\n",
    "    }\n",
    "}"
   ]
  },
  {
   "cell_type": "code",
   "execution_count": 49,
   "id": "d3cfba7c",
   "metadata": {},
   "outputs": [],
   "source": [
    "ATM myAtm = new ATM();"
   ]
  },
  {
   "cell_type": "code",
   "execution_count": 50,
   "id": "5d62095a",
   "metadata": {},
   "outputs": [
    {
     "name": "stdout",
     "output_type": "stream",
     "text": [
      "Dispensing 3 £20 notes\n",
      "Dispensing 1 £10 notes\n",
      "Dispensing 1 £5 notes\n",
      "I only handle multiples of 5. IOU £3\n"
     ]
    }
   ],
   "source": [
    "myAtm.chain.dispense(new Currency(78));"
   ]
  },
  {
   "cell_type": "markdown",
   "id": "7c136a6b",
   "metadata": {},
   "source": [
    "## Examples"
   ]
  },
  {
   "cell_type": "code",
   "execution_count": null,
   "id": "c4700a8d",
   "metadata": {},
   "outputs": [],
   "source": []
  }
 ],
 "metadata": {
  "kernelspec": {
   "display_name": "Java",
   "language": "java",
   "name": "java"
  },
  "language_info": {
   "codemirror_mode": "java",
   "file_extension": ".jshell",
   "mimetype": "text/x-java-source",
   "name": "Java",
   "pygments_lexer": "java",
   "version": "11.0.13+8"
  },
  "toc": {
   "base_numbering": 1,
   "nav_menu": {},
   "number_sections": true,
   "sideBar": true,
   "skip_h1_title": true,
   "title_cell": "Table of Contents",
   "title_sidebar": "Contents",
   "toc_cell": true,
   "toc_position": {},
   "toc_section_display": true,
   "toc_window_display": true
  }
 },
 "nbformat": 4,
 "nbformat_minor": 5
}
