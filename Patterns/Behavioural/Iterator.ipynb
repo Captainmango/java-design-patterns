{
 "cells": [
  {
   "cell_type": "markdown",
   "id": "20578f0a",
   "metadata": {
    "toc": true
   },
   "source": [
    "<h1>Table of Contents<span class=\"tocSkip\"></span></h1>\n",
    "<div class=\"toc\"><ul class=\"toc-item\"><li><span><a href=\"#Intro\" data-toc-modified-id=\"Intro-1\"><span class=\"toc-item-num\">1&nbsp;&nbsp;</span>Intro</a></span></li><li><span><a href=\"#Implementation\" data-toc-modified-id=\"Implementation-2\"><span class=\"toc-item-num\">2&nbsp;&nbsp;</span>Implementation</a></span></li><li><span><a href=\"#Example\" data-toc-modified-id=\"Example-3\"><span class=\"toc-item-num\">3&nbsp;&nbsp;</span>Example</a></span></li></ul></div>"
   ]
  },
  {
   "cell_type": "markdown",
   "id": "ea762908",
   "metadata": {},
   "source": [
    "# Iterator"
   ]
  },
  {
   "cell_type": "markdown",
   "id": "4722ae1d",
   "metadata": {},
   "source": [
    "## Intro"
   ]
  },
  {
   "cell_type": "markdown",
   "id": "01381ca0",
   "metadata": {},
   "source": [
    "This pattern is used to traverse data structures. It allows us to access the elements sequentially without needing to expose the underlying representation. An aggregate object contains the other objects for the purpose of grouping them all together as a unit. It can sometimes be called a container. The Java collections framework is a perfect example of this."
   ]
  },
  {
   "cell_type": "markdown",
   "id": "b60c3dbe",
   "metadata": {},
   "source": [
    "Iterators are generally used to traverse a container to access the elements. The pattern hides the implementation of this."
   ]
  },
  {
   "cell_type": "markdown",
   "id": "f4aebc93",
   "metadata": {},
   "source": [
    "A good example is a company directory. This can be stored as a database or a flat file (CSV). The iterator pattern could allow for us to produce a common interface between these 2 different types of data container so that both parties could work with the data harmoniously."
   ]
  },
  {
   "cell_type": "markdown",
   "id": "01a48be4",
   "metadata": {},
   "source": [
    "The iterator will also keep track of the current element and the elements that have already been 'visited' it can also allow for multiple traversals to be running at the same time and allows forward and backward travel."
   ]
  },
  {
   "cell_type": "markdown",
   "id": "c0553b16",
   "metadata": {},
   "source": [
    "As mentioned, we want to use the pattern to provide a standard way of iterating over data containers. The logic of the iteration should not live on the container, but on the client."
   ]
  },
  {
   "cell_type": "markdown",
   "id": "2d8da8ab",
   "metadata": {},
   "source": [
    "## Implementation"
   ]
  },
  {
   "cell_type": "code",
   "execution_count": 51,
   "id": "388e831b",
   "metadata": {},
   "outputs": [],
   "source": [
    "// Not really part of the pattern, here so we has a resource to iterate\n",
    "\n",
    "class Notification {\n",
    "    private String message;\n",
    "    \n",
    "    public Notification(String msg)\n",
    "    {\n",
    "        this.message = msg;\n",
    "    }\n",
    "    \n",
    "    public String getMessage()\n",
    "    {\n",
    "        return this.message;\n",
    "    }\n",
    "}"
   ]
  },
  {
   "cell_type": "code",
   "execution_count": 52,
   "id": "d85de0d8",
   "metadata": {},
   "outputs": [],
   "source": [
    "interface Collection {\n",
    "    public Iterator createIterator();\n",
    "}"
   ]
  },
  {
   "cell_type": "code",
   "execution_count": 53,
   "id": "f1703ad4",
   "metadata": {},
   "outputs": [],
   "source": [
    "interface Iterator {\n",
    "    boolean hasNext();\n",
    "    Object next();\n",
    "}"
   ]
  },
  {
   "cell_type": "code",
   "execution_count": 62,
   "id": "2e22c43f",
   "metadata": {},
   "outputs": [],
   "source": [
    "class NotificationIterator implements Iterator {\n",
    "    Notification[] notificationList;\n",
    "    \n",
    "    int pos = 0;\n",
    "    \n",
    "    public NotificationIterator(Notification[] notList)\n",
    "    {\n",
    "        this.notificationList = notList;\n",
    "    }\n",
    "    \n",
    "    public Object next()\n",
    "    {\n",
    "        Notification not = notificationList[pos];\n",
    "        pos += 1;\n",
    "        return not;\n",
    "    }\n",
    "    \n",
    "    public boolean hasNext()\n",
    "    {\n",
    "        if (pos == notificationList.length || notificationList[pos] == null) {\n",
    "            return false;\n",
    "        }\n",
    "        \n",
    "        return true;\n",
    "    }\n",
    "}"
   ]
  },
  {
   "cell_type": "code",
   "execution_count": 63,
   "id": "e3996b02",
   "metadata": {},
   "outputs": [],
   "source": [
    "class NotificationCollection implements Collection {\n",
    "    static final int MAX_ITEMS = 6;\n",
    "    int numberOfItems = 0;\n",
    "    Notification[] notificationList;\n",
    "    \n",
    "    public NotificationCollection()\n",
    "    {\n",
    "        // Should set up the container on init. \n",
    "        // This is a pretty poor example\n",
    "        // Use a better structure Java has loads.\n",
    "        notificationList = new Notification[MAX_ITEMS];\n",
    "        \n",
    "        addItem(\"not1\");\n",
    "        addItem(\"not2\");\n",
    "        addItem(\"not3\");\n",
    "    }\n",
    "    \n",
    "    public void addItem(String str)\n",
    "    {\n",
    "        Notification not = new Notification(str);\n",
    "        \n",
    "        if (numberOfItems >= MAX_ITEMS) {\n",
    "            System.out.println(\"Cannot add more items. List full.\");\n",
    "        } else {\n",
    "            notificationList[numberOfItems] = not;\n",
    "            numberOfItems += 1;\n",
    "        }\n",
    "    }\n",
    "    \n",
    "    public Iterator createIterator()\n",
    "    {\n",
    "        return new NotificationIterator(notificationList);\n",
    "    }\n",
    "}"
   ]
  },
  {
   "cell_type": "code",
   "execution_count": 64,
   "id": "2117bbfa",
   "metadata": {},
   "outputs": [],
   "source": [
    "Collection nc = new NotificationCollection();\n",
    "Iterator myIterator = nc.createIterator();"
   ]
  },
  {
   "cell_type": "code",
   "execution_count": 65,
   "id": "cff704c1",
   "metadata": {},
   "outputs": [
    {
     "name": "stdout",
     "output_type": "stream",
     "text": [
      "not1\n",
      "not2\n",
      "not3\n"
     ]
    }
   ],
   "source": [
    "while (myIterator.hasNext()) {\n",
    "    Notification n = (Notification) myIterator.next();\n",
    "    System.out.println(n.getMessage());\n",
    "}"
   ]
  },
  {
   "cell_type": "markdown",
   "id": "f51eb794",
   "metadata": {},
   "source": [
    "## Example"
   ]
  },
  {
   "cell_type": "code",
   "execution_count": 99,
   "id": "40660bc0",
   "metadata": {},
   "outputs": [],
   "source": [
    "interface IIterator {\n",
    "    void first(); // reset to first elem\n",
    "    String next(); // return next elem, set current pos\n",
    "    boolean isDone(); // see if next elem exists\n",
    "    String currentItem(); // get current item, don't change pos\n",
    "}"
   ]
  },
  {
   "cell_type": "code",
   "execution_count": 100,
   "id": "7ea25d47",
   "metadata": {},
   "outputs": [],
   "source": [
    "interface ICollection {\n",
    "    IIterator createIterator();\n",
    "}"
   ]
  },
  {
   "cell_type": "code",
   "execution_count": 122,
   "id": "4c82f585",
   "metadata": {},
   "outputs": [],
   "source": [
    "class ArtDepartmentIterator implements IIterator {\n",
    "    private String[] depList;\n",
    "    private int pos = 0;\n",
    "    \n",
    "    public ArtDepartmentIterator(String[] list)\n",
    "    {\n",
    "        this.depList = list;\n",
    "    }\n",
    "    \n",
    "    public void first()\n",
    "    {\n",
    "        this.pos = 0;\n",
    "    }\n",
    "    \n",
    "    public String next()\n",
    "    {\n",
    "        if (isDone()) {\n",
    "            return depList[++pos];\n",
    "        }\n",
    "        \n",
    "        return null;\n",
    "    }\n",
    "    \n",
    "    public boolean isDone()\n",
    "    {\n",
    "        if (pos >= depList.length - 1 || depList[pos] == null) {\n",
    "            return false;\n",
    "        }\n",
    "        \n",
    "        return true;\n",
    "    }\n",
    "    \n",
    "    public String currentItem()\n",
    "    {\n",
    "        return depList[pos];\n",
    "    }\n",
    "}"
   ]
  },
  {
   "cell_type": "code",
   "execution_count": 123,
   "id": "f0e0dfb0",
   "metadata": {},
   "outputs": [],
   "source": [
    "class ArtDepartmentCollection implements ICollection {\n",
    "    private String[] depList;\n",
    "    \n",
    "    public ArtDepartmentCollection(String[] myDep)\n",
    "    {\n",
    "        this.depList = myDep;\n",
    "    }\n",
    "    \n",
    "    public IIterator createIterator()\n",
    "    {\n",
    "        return new ArtDepartmentIterator(depList);\n",
    "    }\n",
    "}"
   ]
  },
  {
   "cell_type": "code",
   "execution_count": 124,
   "id": "1673f7e0",
   "metadata": {},
   "outputs": [],
   "source": [
    "String[] myArr = {\"Tina\", \"Mike\", \"Alison\"};\n",
    "ICollection myArt = new ArtDepartmentCollection(myArr);"
   ]
  },
  {
   "cell_type": "code",
   "execution_count": 125,
   "id": "2df4cdde",
   "metadata": {},
   "outputs": [],
   "source": [
    "IIterator iter = myArt.createIterator();"
   ]
  },
  {
   "cell_type": "code",
   "execution_count": 126,
   "id": "bf7943e2",
   "metadata": {},
   "outputs": [
    {
     "name": "stdout",
     "output_type": "stream",
     "text": [
      "Tina\n"
     ]
    }
   ],
   "source": [
    "System.out.println(iter.currentItem());"
   ]
  },
  {
   "cell_type": "code",
   "execution_count": 127,
   "id": "5c04a6c6",
   "metadata": {},
   "outputs": [
    {
     "name": "stdout",
     "output_type": "stream",
     "text": [
      "Mike\n",
      "Alison\n"
     ]
    }
   ],
   "source": [
    "System.out.println(iter.next());\n",
    "System.out.println(iter.next());"
   ]
  },
  {
   "cell_type": "code",
   "execution_count": 128,
   "id": "f8013517",
   "metadata": {},
   "outputs": [
    {
     "name": "stdout",
     "output_type": "stream",
     "text": [
      "Alison\n"
     ]
    }
   ],
   "source": [
    "System.out.println(iter.currentItem());"
   ]
  },
  {
   "cell_type": "code",
   "execution_count": 129,
   "id": "8504800d",
   "metadata": {},
   "outputs": [
    {
     "name": "stdout",
     "output_type": "stream",
     "text": [
      "Tina\n"
     ]
    }
   ],
   "source": [
    "iter.first();\n",
    "System.out.println(iter.currentItem());"
   ]
  },
  {
   "cell_type": "code",
   "execution_count": 130,
   "id": "a74ef93c",
   "metadata": {},
   "outputs": [],
   "source": [
    "class ScienceDepartmentIterator implements IIterator {\n",
    "    private List<String> depList = new LinkedList<String>();\n",
    "    private int pos = 0;\n",
    "    \n",
    "    public ScienceDepartmentIterator(LinkedList<String> list)\n",
    "    {\n",
    "        this.depList = list;\n",
    "    }\n",
    "    \n",
    "    public void first()\n",
    "    {\n",
    "        this.pos = 0;\n",
    "    }\n",
    "    \n",
    "    public String next()\n",
    "    {\n",
    "        if (isDone()) {\n",
    "            return depList.get(++pos);\n",
    "        }\n",
    "        \n",
    "        return null;\n",
    "    }\n",
    "    \n",
    "    public boolean isDone()\n",
    "    {\n",
    "        if (pos >= depList.size() - 1 || depList.get(pos) == null) {\n",
    "            return false;\n",
    "        }\n",
    "        \n",
    "        return true;\n",
    "    }\n",
    "    \n",
    "    public String currentItem()\n",
    "    {\n",
    "        return depList.get(pos);\n",
    "    }\n",
    "}"
   ]
  },
  {
   "cell_type": "code",
   "execution_count": 131,
   "id": "ae689616",
   "metadata": {},
   "outputs": [],
   "source": [
    "class ScienceDepartmentCollection implements ICollection {\n",
    "    private LinkedList<String> depList = new LinkedList<String>();\n",
    "    \n",
    "    public ScienceDepartmentCollection(LinkedList<String> list)\n",
    "    {\n",
    "        this.depList = list;\n",
    "    }\n",
    "    \n",
    "    public IIterator createIterator()\n",
    "    {\n",
    "        return new ScienceDepartmentIterator(depList);\n",
    "    }\n",
    "}"
   ]
  },
  {
   "cell_type": "code",
   "execution_count": 132,
   "id": "de8e0553",
   "metadata": {},
   "outputs": [],
   "source": [
    "LinkedList myList = new LinkedList<String>(Arrays.asList(\"Geoff\", \"Archie\"));"
   ]
  },
  {
   "cell_type": "code",
   "execution_count": 133,
   "id": "88885772",
   "metadata": {},
   "outputs": [],
   "source": [
    "ICollection myScienceDep = new ScienceDepartmentCollection(myList);"
   ]
  },
  {
   "cell_type": "code",
   "execution_count": 134,
   "id": "3e908e18",
   "metadata": {},
   "outputs": [],
   "source": [
    "IIterator myIter = myScienceDep.createIterator();"
   ]
  },
  {
   "cell_type": "code",
   "execution_count": 135,
   "id": "b15884ef",
   "metadata": {},
   "outputs": [
    {
     "data": {
      "text/plain": [
       "Geoff"
      ]
     },
     "execution_count": 135,
     "metadata": {},
     "output_type": "execute_result"
    }
   ],
   "source": [
    "myIter.currentItem();"
   ]
  },
  {
   "cell_type": "code",
   "execution_count": 136,
   "id": "a5112b3c",
   "metadata": {},
   "outputs": [
    {
     "data": {
      "text/plain": [
       "Archie"
      ]
     },
     "execution_count": 136,
     "metadata": {},
     "output_type": "execute_result"
    }
   ],
   "source": [
    "myIter.next();"
   ]
  },
  {
   "cell_type": "code",
   "execution_count": 138,
   "id": "ce10a3a7",
   "metadata": {},
   "outputs": [],
   "source": [
    "myIter.next();"
   ]
  },
  {
   "cell_type": "code",
   "execution_count": 139,
   "id": "97877ea3",
   "metadata": {},
   "outputs": [],
   "source": [
    "myIter.next();"
   ]
  },
  {
   "cell_type": "code",
   "execution_count": 140,
   "id": "9e1ad24c",
   "metadata": {},
   "outputs": [
    {
     "data": {
      "text/plain": [
       "Geoff"
      ]
     },
     "execution_count": 140,
     "metadata": {},
     "output_type": "execute_result"
    }
   ],
   "source": [
    "myIter.first();\n",
    "myIter.currentItem();"
   ]
  },
  {
   "cell_type": "code",
   "execution_count": null,
   "id": "eee8fb16",
   "metadata": {},
   "outputs": [],
   "source": []
  }
 ],
 "metadata": {
  "kernelspec": {
   "display_name": "Java",
   "language": "java",
   "name": "java"
  },
  "language_info": {
   "codemirror_mode": "java",
   "file_extension": ".jshell",
   "mimetype": "text/x-java-source",
   "name": "Java",
   "pygments_lexer": "java",
   "version": "11.0.13+8"
  },
  "toc": {
   "base_numbering": 1,
   "nav_menu": {},
   "number_sections": true,
   "sideBar": true,
   "skip_h1_title": true,
   "title_cell": "Table of Contents",
   "title_sidebar": "Contents",
   "toc_cell": true,
   "toc_position": {},
   "toc_section_display": true,
   "toc_window_display": true
  }
 },
 "nbformat": 4,
 "nbformat_minor": 5
}
