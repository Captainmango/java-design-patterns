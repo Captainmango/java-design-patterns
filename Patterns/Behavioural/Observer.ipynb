{
 "cells": [
  {
   "cell_type": "markdown",
   "id": "38fc98d6",
   "metadata": {
    "toc": true
   },
   "source": [
    "<h1>Table of Contents<span class=\"tocSkip\"></span></h1>\n",
    "<div class=\"toc\"><ul class=\"toc-item\"><li><span><a href=\"#Intro\" data-toc-modified-id=\"Intro-1\"><span class=\"toc-item-num\">1&nbsp;&nbsp;</span>Intro</a></span><ul class=\"toc-item\"><li><span><a href=\"#Java.util-implementation\" data-toc-modified-id=\"Java.util-implementation-1.1\"><span class=\"toc-item-num\">1.1&nbsp;&nbsp;</span>Java.util implementation</a></span></li></ul></li><li><span><a href=\"#Implementation\" data-toc-modified-id=\"Implementation-2\"><span class=\"toc-item-num\">2&nbsp;&nbsp;</span>Implementation</a></span></li><li><span><a href=\"#Example\" data-toc-modified-id=\"Example-3\"><span class=\"toc-item-num\">3&nbsp;&nbsp;</span>Example</a></span></li></ul></div>"
   ]
  },
  {
   "cell_type": "markdown",
   "id": "37db93a6",
   "metadata": {},
   "source": [
    "# Observer"
   ]
  },
  {
   "cell_type": "markdown",
   "id": "1dd77437",
   "metadata": {},
   "source": [
    "## Intro"
   ]
  },
  {
   "cell_type": "markdown",
   "id": "30d4d9ca",
   "metadata": {},
   "source": [
    "The Observer pattern defines a one to many dependency between objects that allows an object to notify its dependents of a change in its state. This should happen automatically. This needs to happen whenever an event occurs and we don't want to change the object broadcasting."
   ]
  },
  {
   "cell_type": "markdown",
   "id": "e5d21358",
   "metadata": {},
   "source": [
    "A good real world example of this is a radio transmitter. The transmitter doesn't change, but its broadcast is received by a radio device that then interprets it and does what it needs to do."
   ]
  },
  {
   "cell_type": "markdown",
   "id": "74c97b13",
   "metadata": {},
   "source": [
    "The pattern is designed to decouple the notifiers and notifiees.\n",
    "\n",
    "The pattern consists of observers and subjects. The observers register themselves to a subject and are automatically notified when a change on the subject happens. If they no longer wish to see updates, they can unregister from the subject. This design allows observers to receive updates only from subjects they care about and allows flexibility in how observers and subjects interact"
   ]
  },
  {
   "cell_type": "markdown",
   "id": "2b14b8c0",
   "metadata": {},
   "source": [
    "Advantages to the pattern are:\n",
    "* Produces loose coupling between the subjects and observers\n",
    "* The subject only knows about the observer via the interface (removes state leakage)\n",
    "* New observers can be added at any time making this adaptable to change\n",
    "* Never need to change the subject to communicate the observer\n",
    "* Can reuse subjects and observers independently\n",
    "* changes to observers and subjects do not affect each other"
   ]
  },
  {
   "cell_type": "markdown",
   "id": "462ef9b8",
   "metadata": {},
   "source": [
    "### Java.util implementation"
   ]
  },
  {
   "cell_type": "markdown",
   "id": "94a65081",
   "metadata": {},
   "source": [
    "Java has its own version of the observable pattern baked into the standard util package. It's similar to our subject and observer interfaces but has a lot of functionality out of the box, removing the need to implement this ourselves. It allows for push or pull updates to observers (push subject sends, pull observer requests)\n",
    "\n",
    "The Observable class and the Observer interface make up the pattern. The Observable class plays the role of the subject.\n",
    "\n",
    "Instead of the methods attach, detach and notify Java uses addObserver, deleteObserver and notifyObservers.\n",
    "\n",
    "For an object to become an observer, it needs to implement the observer interface. Then, the subject (Observable instance) should then call addObserver() to have this appear as an observer. To remove, we use deleteObserver()\n",
    "\n"
   ]
  },
  {
   "cell_type": "markdown",
   "id": "2898eb68",
   "metadata": {},
   "source": [
    "In order to send notifications via this implementation though, we need to extend the super class Observable. We'd then need to call the setChanged method to show the state changed. Only then can we notify using the appropriate methods. This is much heavier initially, but can be managed with some delegation and encapsulation."
   ]
  },
  {
   "cell_type": "markdown",
   "id": "cf5f983e",
   "metadata": {},
   "source": [
    "The observer (real observer here) needs to implement the update method (this is in the interface) in order to receive updates from the Observable. It is here that we determine the style of update, either push or pull. There are 2 methods on observables for updates, one taking an object, the other not. These are for push and pull updates respectively.\n",
    "\n",
    "for the pull style, this is why the setChanged method needs to be called before notifications are sent. If this does not happen, not notification will happen as effectively, nothing has changed."
   ]
  },
  {
   "cell_type": "markdown",
   "id": "1a1fcb40",
   "metadata": {},
   "source": [
    "The Java implementation is not really reusable and requires us to build the system with the pattern in mind. With there not being an interface (like the cloneable sitch) and *having* to extend the super class, the implementation is brittle and difficult to work into new systems. It's also really limited in what it can do and does not have most of the advantages the pattern normally has. We might see this in the wild, but it's lowkey trash."
   ]
  },
  {
   "cell_type": "markdown",
   "id": "4f2d4202",
   "metadata": {},
   "source": [
    "## Implementation"
   ]
  },
  {
   "cell_type": "code",
   "execution_count": 93,
   "id": "e4ae5f05",
   "metadata": {},
   "outputs": [],
   "source": [
    "interface Observer {\n",
    "    void update();\n",
    "    void setSubject(Subject sub);\n",
    "}"
   ]
  },
  {
   "cell_type": "code",
   "execution_count": 94,
   "id": "9643ac4d",
   "metadata": {},
   "outputs": [],
   "source": [
    "interface Subject {\n",
    "    void registerObs(Observer obs);\n",
    "    void unregisterObs(Observer obs);\n",
    "    void notifyObs();\n",
    "    Object getUpdate(Observer obs);\n",
    "}"
   ]
  },
  {
   "cell_type": "code",
   "execution_count": 95,
   "id": "2e71ed0b",
   "metadata": {},
   "outputs": [],
   "source": [
    "class MyTopic implements Subject {\n",
    "    private List<Observer> observers = new ArrayList<>();\n",
    "    private String message;\n",
    "    private boolean changed;\n",
    "    \n",
    "    @Override\n",
    "    public void registerObs(Observer obs)\n",
    "    {\n",
    "        if (observers.contains(obs)) {\n",
    "            return;\n",
    "        }\n",
    "        \n",
    "        observers.add(obs);\n",
    "    }\n",
    "    \n",
    "    @Override\n",
    "    public void unregisterObs(Observer obs)\n",
    "    {       \n",
    "        observers.remove(obs);\n",
    "    }\n",
    "    \n",
    "    @Override\n",
    "    public void notifyObs()\n",
    "    {        \n",
    "        if (!changed) {\n",
    "            return;\n",
    "        }\n",
    "        \n",
    "        // Stand in for a lock on the resource\n",
    "        List<Observer> localList = new ArrayList<>(this.observers);\n",
    "        this.changed = false;\n",
    "        \n",
    "        for (Observer obs : localList) {\n",
    "            obs.update();\n",
    "        }\n",
    "    }\n",
    "    \n",
    "    public Object getUpdate(Observer obs)\n",
    "    {\n",
    "        return this.message;\n",
    "    }\n",
    "    \n",
    "    public void postMessage(String msg)\n",
    "    {\n",
    "        System.out.println(\"Posted this message: \" + msg);\n",
    "        this.message = msg;\n",
    "        this.changed = true;\n",
    "        notifyObs();\n",
    "    }\n",
    "}"
   ]
  },
  {
   "cell_type": "code",
   "execution_count": 96,
   "id": "ed0db807",
   "metadata": {},
   "outputs": [],
   "source": [
    "class MySubscriber implements Observer {\n",
    "    private String name;\n",
    "    private Subject topic;\n",
    "    \n",
    "    public MySubscriber(String name)\n",
    "    {\n",
    "        this.name = name;\n",
    "    }\n",
    "    \n",
    "    // Does push and pull updates\n",
    "    public void update()\n",
    "    {\n",
    "        String msg = (String) topic.getUpdate(this);\n",
    "        \n",
    "        if (msg == null) {\n",
    "            System.out.println(name + \":: no new message\");\n",
    "        } else {\n",
    "            System.out.println(name + \":: Consuming message \" + msg);\n",
    "        }\n",
    "    }\n",
    "    \n",
    "    public void setSubject(Subject sub)\n",
    "    {\n",
    "        this.topic = sub;\n",
    "    }\n",
    "}"
   ]
  },
  {
   "cell_type": "code",
   "execution_count": 97,
   "id": "827a933e",
   "metadata": {},
   "outputs": [],
   "source": [
    "MyTopic myTopic = new MyTopic();\n",
    "\n",
    "Observer ob1 = new MySubscriber(\"Harry\");\n",
    "Observer ob2 = new MySubscriber(\"Thomas\");\n",
    "Observer ob3 = new MySubscriber(\"Percy\");\n",
    "\n",
    "ob1.setSubject(myTopic);\n",
    "ob2.setSubject(myTopic);\n",
    "ob3.setSubject(myTopic);"
   ]
  },
  {
   "cell_type": "code",
   "execution_count": 98,
   "id": "91120020",
   "metadata": {},
   "outputs": [],
   "source": [
    "myTopic.registerObs(ob1);\n",
    "myTopic.registerObs(ob2);\n",
    "myTopic.registerObs(ob3);"
   ]
  },
  {
   "cell_type": "code",
   "execution_count": 99,
   "id": "376154c0",
   "metadata": {},
   "outputs": [
    {
     "name": "stdout",
     "output_type": "stream",
     "text": [
      "Harry:: no new message\n"
     ]
    }
   ],
   "source": [
    "ob1.update();"
   ]
  },
  {
   "cell_type": "code",
   "execution_count": 100,
   "id": "8e5fc565",
   "metadata": {},
   "outputs": [
    {
     "name": "stdout",
     "output_type": "stream",
     "text": [
      "Posted this message: Hello world\n",
      "Harry:: Consuming message Hello world\n",
      "Thomas:: Consuming message Hello world\n",
      "Percy:: Consuming message Hello world\n"
     ]
    }
   ],
   "source": [
    "myTopic.postMessage(\"Hello world\");"
   ]
  },
  {
   "cell_type": "markdown",
   "id": "1346741f",
   "metadata": {},
   "source": [
    "## Example"
   ]
  },
  {
   "cell_type": "code",
   "execution_count": 101,
   "id": "cbc00eb0",
   "metadata": {},
   "outputs": [],
   "source": [
    "interface Observer {\n",
    "    void update();\n",
    "    void setSubject(Subject sub);\n",
    "}"
   ]
  },
  {
   "cell_type": "code",
   "execution_count": null,
   "id": "17cdd5d1",
   "metadata": {},
   "outputs": [],
   "source": [
    "interface Subject {\n",
    "    void registerObs(Observer obs);\n",
    "    void unregisterObs(Observer obs);\n",
    "    void notifyObs();\n",
    "    Object getUpdate(Observer obs);\n",
    "}"
   ]
  },
  {
   "cell_type": "code",
   "execution_count": 106,
   "id": "3f9eeb04",
   "metadata": {},
   "outputs": [],
   "source": [
    "class CricketData {\n",
    "    private int score;\n",
    "    \n",
    "    public int getScore()\n",
    "    {\n",
    "        return score;\n",
    "    }\n",
    "    \n",
    "    public void setScore(int num)\n",
    "    {\n",
    "        score += num;\n",
    "    }\n",
    "}"
   ]
  },
  {
   "cell_type": "code",
   "execution_count": 111,
   "id": "e63bc1f4",
   "metadata": {},
   "outputs": [],
   "source": [
    "class Punter implements Observer {\n",
    "    private Subject cricketGame;\n",
    "\n",
    "    public void update()\n",
    "    {\n",
    "        CricketData data = (CricketData) this.cricketGame.getUpdate(this);\n",
    "        \n",
    "        if (data == null) {\n",
    "            System.out.println(\"No scores yet\");\n",
    "        } else {\n",
    "            System.out.println(\"Score is \" + data.getScore());\n",
    "        }\n",
    "    }\n",
    "    \n",
    "    public void setSubject(Subject sub)\n",
    "    {\n",
    "        this.cricketGame = sub;\n",
    "    }\n",
    "}"
   ]
  },
  {
   "cell_type": "code",
   "execution_count": 115,
   "id": "e46dcb32",
   "metadata": {},
   "outputs": [],
   "source": [
    "class CricketGame implements Subject {\n",
    "    private List<Observer> attendees = new ArrayList<>();\n",
    "    private boolean changed;\n",
    "    private CricketData cricketData = new CricketData();\n",
    "    \n",
    "    @Override\n",
    "    public void registerObs(Observer obs)\n",
    "    {\n",
    "        if (attendees.contains(obs)) {\n",
    "            return;\n",
    "        }\n",
    "        \n",
    "        attendees.add(obs);\n",
    "        obs.setSubject(this);\n",
    "    }\n",
    "    \n",
    "    @Override\n",
    "    public void unregisterObs(Observer obs)\n",
    "    {       \n",
    "        attendees.remove(obs);\n",
    "    }\n",
    "    \n",
    "    @Override\n",
    "    public void notifyObs()\n",
    "    {        \n",
    "        if (!changed) {\n",
    "            return;\n",
    "        }\n",
    "        \n",
    "        // Stand in for a lock on the resource\n",
    "        List<Observer> localList = new ArrayList<>(this.attendees);\n",
    "        this.changed = false;\n",
    "        \n",
    "        for (Observer obs : localList) {\n",
    "            obs.update();\n",
    "        }\n",
    "    }\n",
    "    \n",
    "    public Object getUpdate(Observer obs)\n",
    "    {\n",
    "        return this.cricketData;\n",
    "    }\n",
    "    \n",
    "    public void postMessage(CricketData data)\n",
    "    {\n",
    "        this.cricketData = data;\n",
    "        System.out.println(\"Sending score: \" + cricketData.getScore());\n",
    "        this.changed = true;\n",
    "        notifyObs();\n",
    "    }\n",
    "}"
   ]
  },
  {
   "cell_type": "code",
   "execution_count": 116,
   "id": "6d4654e4",
   "metadata": {},
   "outputs": [],
   "source": [
    "Observer w1 = new Punter();\n",
    "Observer w2 = new Punter();\n",
    "Observer w3 = new Punter();"
   ]
  },
  {
   "cell_type": "code",
   "execution_count": 117,
   "id": "14f24808",
   "metadata": {},
   "outputs": [],
   "source": [
    "CricketGame cricketGame = new CricketGame();"
   ]
  },
  {
   "cell_type": "code",
   "execution_count": 120,
   "id": "ceb5f192",
   "metadata": {},
   "outputs": [],
   "source": [
    "cricketGame.registerObs(w1);\n",
    "cricketGame.registerObs(w2);\n",
    "cricketGame.registerObs(w3);"
   ]
  },
  {
   "cell_type": "code",
   "execution_count": 121,
   "id": "d8ec0e21",
   "metadata": {},
   "outputs": [],
   "source": [
    "CricketData data = new CricketData();\n",
    "data.setScore(56);"
   ]
  },
  {
   "cell_type": "code",
   "execution_count": 122,
   "id": "55733008",
   "metadata": {},
   "outputs": [
    {
     "name": "stdout",
     "output_type": "stream",
     "text": [
      "Sending score: 56\n",
      "Score is 56\n",
      "Score is 56\n",
      "Score is 56\n"
     ]
    }
   ],
   "source": [
    "cricketGame.postMessage(data);"
   ]
  },
  {
   "cell_type": "code",
   "execution_count": null,
   "id": "1627b9b6",
   "metadata": {},
   "outputs": [],
   "source": []
  }
 ],
 "metadata": {
  "kernelspec": {
   "display_name": "Java",
   "language": "java",
   "name": "java"
  },
  "language_info": {
   "codemirror_mode": "java",
   "file_extension": ".jshell",
   "mimetype": "text/x-java-source",
   "name": "Java",
   "pygments_lexer": "java",
   "version": "11.0.13+8"
  },
  "toc": {
   "base_numbering": 1,
   "nav_menu": {},
   "number_sections": true,
   "sideBar": true,
   "skip_h1_title": true,
   "title_cell": "Table of Contents",
   "title_sidebar": "Contents",
   "toc_cell": true,
   "toc_position": {},
   "toc_section_display": true,
   "toc_window_display": true
  }
 },
 "nbformat": 4,
 "nbformat_minor": 5
}
